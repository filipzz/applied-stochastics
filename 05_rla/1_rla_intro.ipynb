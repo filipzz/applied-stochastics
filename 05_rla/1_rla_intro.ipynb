{
 "cells": [
  {
   "cell_type": "markdown",
   "metadata": {
    "slideshow": {
     "slide_type": "slide"
    }
   },
   "source": [
    "# Applied stochastics\n",
    "\n",
    "## with applications for security and privacy"
   ]
  },
  {
   "cell_type": "markdown",
   "metadata": {
    "slideshow": {
     "slide_type": "fragment"
    }
   },
   "source": [
    "## Lecture: Risk-Limiting Audits - Part 1:\n",
    "\n",
    "## Introduction\n",
    "\n",
    "\n",
    "Materials:\n",
    "\n",
    "* Voting and Election Audits, Philip B. Stark, [RLA website](https://www.stat.berkeley.edu/~stark/Vote/index.htm)\n",
    "* A gentle introduction to risk-limiting audits, M. Lindeman, P.B. Stark, [Gentle RLA](https://www.stat.berkeley.edu/~stark/Preprints/gentle12.pdf)\n",
    "* BRAVO: Ballot-polling risk-limiting audits to verify outcomes, Lindeman, Stark, Yates, [BRAVO](https://www.usenix.org/system/files/conference/evtwote12/evtwote12-final27.pdf)\n",
    "* Bayesian Tabulation Audits: Explained and Extended, Ronald L. Rivest, [Bayesian audits](https://arxiv.org/pdf/1801.00528.pdf)\n",
    "* Risk-Limiting Bayesian Polling Audits, Poorvi L. Vora, [RLA Bayesian](https://arxiv.org/pdf/1902.00999.pdf)\n",
    "\n"
   ]
  },
  {
   "cell_type": "markdown",
   "metadata": {
    "cell_style": "split",
    "slideshow": {
     "slide_type": "slide"
    }
   },
   "source": [
    "![ship](img/Harold_Shipman_mug_shot.jpg)"
   ]
  },
  {
   "cell_type": "markdown",
   "metadata": {
    "cell_style": "split",
    "slideshow": {
     "slide_type": "fragment"
    }
   },
   "source": [
    "* detection of anomalous medical outcomes\n",
    "* testing of human examinees\n",
    "* manufacturing (quality testing)\n",
    "* security"
   ]
  },
  {
   "cell_type": "markdown",
   "metadata": {
    "slideshow": {
     "slide_type": "slide"
    }
   },
   "source": [
    "# Problems with voting"
   ]
  },
  {
   "cell_type": "markdown",
   "metadata": {
    "cell_style": "center",
    "slideshow": {
     "slide_type": "slide"
    }
   },
   "source": [
    "![example ballot](img/ballot.png)"
   ]
  },
  {
   "cell_type": "markdown",
   "metadata": {
    "cell_style": "center",
    "slideshow": {
     "slide_type": "slide"
    }
   },
   "source": [
    "![voting machines](img/machines.webp)"
   ]
  },
  {
   "cell_type": "markdown",
   "metadata": {
    "cell_style": "center",
    "slideshow": {
     "slide_type": "slide"
    }
   },
   "source": [
    "![example ballot](img/scanner.jpg)"
   ]
  },
  {
   "cell_type": "markdown",
   "metadata": {
    "slideshow": {
     "slide_type": "slide"
    }
   },
   "source": [
    "# Problems with voting"
   ]
  },
  {
   "cell_type": "markdown",
   "metadata": {
    "cell_style": "split",
    "slideshow": {
     "slide_type": "fragment"
    }
   },
   "source": [
    "![example ballot](img/machine-unattended.jpg)"
   ]
  },
  {
   "cell_type": "markdown",
   "metadata": {
    "cell_style": "split",
    "slideshow": {
     "slide_type": "fragment"
    }
   },
   "source": [
    "Complicated ballots with many races:\n",
    "\n",
    "* hard to vote $\\rightarrow$ BMD, DRE, ...\n",
    "* hard to tally $\\rightarrow$ scanners, ...\n",
    "* hard to verify/audit $\\rightarrow$ ?"
   ]
  },
  {
   "cell_type": "markdown",
   "metadata": {
    "slideshow": {
     "slide_type": "slide"
    }
   },
   "source": [
    "# Post tabulation audits"
   ]
  },
  {
   "cell_type": "markdown",
   "metadata": {
    "cell_style": "split",
    "slideshow": {
     "slide_type": "slide"
    }
   },
   "source": [
    "## Goal:\n",
    "    \n",
    "To provide assurance that the reported results are correctS"
   ]
  },
  {
   "cell_type": "markdown",
   "metadata": {
    "cell_style": "split",
    "slideshow": {
     "slide_type": "fragment"
    }
   },
   "source": [
    "Post-election audit methods:\n",
    "\n",
    "* Risk-limiting audit (RLA), invented by Stark\n",
    "* Bayesian audits, invented by Rivest, Chen"
   ]
  },
  {
   "cell_type": "markdown",
   "metadata": {
    "slideshow": {
     "slide_type": "slide"
    }
   },
   "source": [
    "# Risk-limiting audit"
   ]
  },
  {
   "cell_type": "markdown",
   "metadata": {
    "slideshow": {
     "slide_type": "fragment"
    }
   },
   "source": [
    "Input: risk-limit $\\alpha$ (e.g., 0.05/0.10)"
   ]
  },
  {
   "cell_type": "markdown",
   "metadata": {
    "slideshow": {
     "slide_type": "fragment"
    }
   },
   "source": [
    "If a reported outcome is incorrect then this error is detected and corrected with probability at least $1-\\alpha$"
   ]
  },
  {
   "cell_type": "markdown",
   "metadata": {
    "slideshow": {
     "slide_type": "fragment"
    }
   },
   "source": [
    "Correct outcomes are not altered"
   ]
  },
  {
   "cell_type": "markdown",
   "metadata": {
    "slideshow": {
     "slide_type": "fragment"
    }
   },
   "source": [
    "**Risk limit** largest possible chance of not correcting reported outcome, if reported outcome is wrong"
   ]
  },
  {
   "cell_type": "markdown",
   "metadata": {
    "slideshow": {
     "slide_type": "fragment"
    }
   },
   "source": [
    "**Wrong** means accurate handcount of trustworthy paper trail would find different winner(s)"
   ]
  },
  {
   "cell_type": "markdown",
   "metadata": {
    "slideshow": {
     "slide_type": "fragment"
    }
   },
   "source": [
    "**Trustworthy** means a full hand count would show the will of the (eligible) voters who voted."
   ]
  },
  {
   "cell_type": "markdown",
   "metadata": {
    "slideshow": {
     "slide_type": "fragment"
    }
   },
   "source": [
    "If paper trail is not trustworthy, full hand count might show the wrong winner(s)."
   ]
  },
  {
   "cell_type": "markdown",
   "metadata": {
    "slideshow": {
     "slide_type": "slide"
    }
   },
   "source": [
    "# RLAs as statistical hypothesis tests"
   ]
  },
  {
   "cell_type": "markdown",
   "metadata": {
    "slideshow": {
     "slide_type": "fragment"
    }
   },
   "source": [
    "**Null hypothesis** reported outcome is incorrect"
   ]
  },
  {
   "cell_type": "markdown",
   "metadata": {
    "slideshow": {
     "slide_type": "fragment"
    }
   },
   "source": [
    "**Alernative hypothesis** reported outcome is correct"
   ]
  },
  {
   "cell_type": "markdown",
   "metadata": {
    "slideshow": {
     "slide_type": "fragment"
    }
   },
   "source": [
    "**Significance level** chance of incorrectly rejecting the null hypothesis -- is the risk limit $\\alpha$"
   ]
  },
  {
   "cell_type": "markdown",
   "metadata": {
    "slideshow": {
     "slide_type": "fragment"
    }
   },
   "source": [
    "Audit stops without a full manual recount only if null is rejected"
   ]
  },
  {
   "cell_type": "markdown",
   "metadata": {
    "slideshow": {
     "slide_type": "slide"
    }
   },
   "source": [
    "# Wald's Sequential Probability Ratio Test"
   ]
  },
  {
   "cell_type": "markdown",
   "metadata": {
    "cell_style": "split",
    "slideshow": {
     "slide_type": "fragment"
    }
   },
   "source": [
    "$H_0:\\quad p = p_0$\n",
    "\n",
    "$H_1:\\quad p = p_1$"
   ]
  },
  {
   "cell_type": "markdown",
   "metadata": {
    "cell_style": "split",
    "slideshow": {
     "slide_type": "fragment"
    }
   },
   "source": [
    "Voting scenario\n",
    "\n",
    "$p_0 = .5$ - election was truly tied\n",
    "\n",
    "$p_1 = x > .5$ - election was wan by the reported winner with $x$ fraction of the votes"
   ]
  },
  {
   "cell_type": "markdown",
   "metadata": {
    "cell_style": "split",
    "slideshow": {
     "slide_type": "fragment"
    }
   },
   "source": [
    "$\\alpha$ - risk limit\n",
    "\n",
    "$\\beta$ - probability of proceedint to a full hand count unnecessarily"
   ]
  },
  {
   "cell_type": "markdown",
   "metadata": {
    "cell_style": "split",
    "slideshow": {
     "slide_type": "fragment"
    }
   },
   "source": [
    "$$\\sigma_n = \\frac{p_1^{k_n} (1-p_1)^{n-k_n}}{(\\frac{1}{2})^n}$$"
   ]
  },
  {
   "cell_type": "markdown",
   "metadata": {
    "cell_style": "split",
    "slideshow": {
     "slide_type": "fragment"
    }
   },
   "source": [
    "* $\\sigma_n > \\frac{1-\\beta}{\\alpha}$ - stop the audit and certify the reported outcome\n",
    "\n",
    "* $\\sigma_n < \\frac{\\beta}{1-\\alpha}$, proceed directly to a full hand count (to determine the true outcome)\n",
    "\n",
    "* otherwise, draw more samples"
   ]
  },
  {
   "cell_type": "markdown",
   "metadata": {
    "slideshow": {
     "slide_type": "slide"
    }
   },
   "source": [
    "# BRAVO"
   ]
  },
  {
   "cell_type": "markdown",
   "metadata": {
    "cell_style": "split",
    "slideshow": {
     "slide_type": "fragment"
    }
   },
   "source": [
    "$\\textsf{BRAVO}(s_w, \\alpha, M)$\n",
    "\n",
    "1. $T = 1$ ($\\sigma_n$); $m = 0$\n",
    "\n",
    "2. draw a ballot $b$; $m = m + 1$\n",
    "\n",
    "    * $b == w \\rightarrow T = T \\cdot \\frac{s_w}{0.5}$\n",
    "    * $b == l \\rightarrow T = T \\cdot \\frac{1 - s_w}{0.5}$\n",
    "\n",
    "3. if $T \\geq \\frac{1}{\\alpha} \\rightarrow STOP \\quad OK$\n",
    "\n",
    "4. if $m == M \\rightarrow FULL \\quad HAND \\quad COUNT$\n",
    "\n",
    "5. if neither (3) nor (4) holds, go back to (2)\n",
    "\n"
   ]
  },
  {
   "cell_type": "markdown",
   "metadata": {
    "cell_style": "split",
    "slideshow": {
     "slide_type": "fragment"
    }
   },
   "source": [
    "Voting scenario\n",
    "\n",
    "$p_0 = .5$ - election was truly tied\n",
    "\n",
    "$p_1 = x > .5$ - election was wan by the reported winner with $x$ fraction of the votes"
   ]
  },
  {
   "cell_type": "markdown",
   "metadata": {
    "cell_style": "split",
    "slideshow": {
     "slide_type": "fragment"
    }
   },
   "source": [
    "$\\alpha$ - risk limit\n",
    "\n",
    "$\\beta$ - probability of proceedint to a full hand count unnecessarily"
   ]
  },
  {
   "cell_type": "markdown",
   "metadata": {
    "cell_style": "split",
    "slideshow": {
     "slide_type": "fragment"
    }
   },
   "source": [
    "$$\\sigma_n = \\frac{p_1^{k_n} (1-p_1)^{n-k_n}}{(\\frac{1}{2})^n}$$"
   ]
  },
  {
   "cell_type": "markdown",
   "metadata": {
    "cell_style": "split",
    "slideshow": {
     "slide_type": "fragment"
    }
   },
   "source": [
    "* $\\sigma_n > \\frac{1-\\beta}{\\alpha}$ - stop the audit and certify the reported outcome\n",
    "\n",
    "* $\\sigma_n < \\frac{\\beta}{1-\\alpha}$, proceed directly to a full hand count (to determine the true outcome)\n",
    "\n",
    "* otherwise, draw more samples"
   ]
  },
  {
   "cell_type": "markdown",
   "metadata": {
    "slideshow": {
     "slide_type": "slide"
    }
   },
   "source": [
    "Proof. Let $\\beta = 0$. We stop when $\\sigma_n \\geq 1/\\alpha$."
   ]
  },
  {
   "cell_type": "markdown",
   "metadata": {
    "cell_style": "split",
    "slideshow": {
     "slide_type": "fragment"
    }
   },
   "source": [
    "Sample size: $n$\n",
    "\n",
    "Votes for reported winner $k_n$"
   ]
  },
  {
   "cell_type": "markdown",
   "metadata": {
    "cell_style": "split",
    "slideshow": {
     "slide_type": "fragment"
    }
   },
   "source": [
    "$P[\\text{votes for winner} k_n \\text{with sample size:} n | H_0] = {n \\choose k_n} p_0^{k_n} (1-p_0)^{n - k_n}$\n",
    "\n",
    "$P[\\text{votes for winner} k_n \\text{with sample size:} n | H_1] = {n \\choose k_n} p_1^{k_n} (1-p_1)^{n - k_n}$"
   ]
  },
  {
   "cell_type": "markdown",
   "metadata": {
    "cell_style": "split",
    "slideshow": {
     "slide_type": "fragment"
    }
   },
   "source": [
    "we will stop when $k_n$ is such that:\n",
    "\n",
    "$\\alpha P[\\text{votes for winner} k_n \\text{with sample size:} n | H_1] \\geq P[\\text{votes for winner} k_n \\text{with sample size:} n | H_0]$\n"
   ]
  },
  {
   "cell_type": "markdown",
   "metadata": {
    "cell_style": "split",
    "slideshow": {
     "slide_type": "fragment"
    }
   },
   "source": [
    "$\\sigma_n = \\frac{P[\\text{votes for winner} k_n \\text{with sample size:} n | H_1]}{P[\\text{votes for winner} k_n \\text{with sample size:} n | H_0]} \\geq 1/\\alpha$"
   ]
  },
  {
   "cell_type": "markdown",
   "metadata": {
    "cell_style": "split",
    "slideshow": {
     "slide_type": "fragment"
    }
   },
   "source": [
    "$$\\sigma_n = \\frac{{n \\choose k_n} p_1^{k_n} (1-p_1)^{n - k_n}}{{n \\choose k_n} p_0^{k_n} (1-p_0)^{n - k_n}} =$$\n",
    "\n",
    "$$ = \\frac{p_1^{k_n} (1-p_1)^{n - k_n}}{p_0^{k_n} (1-p_0)^{n - k_n}}$$"
   ]
  },
  {
   "cell_type": "markdown",
   "metadata": {
    "slideshow": {
     "slide_type": "slide"
    }
   },
   "source": [
    "# BRAVO"
   ]
  },
  {
   "cell_type": "code",
   "execution_count": 39,
   "metadata": {
    "cell_style": "split",
    "slideshow": {
     "slide_type": "fragment"
    }
   },
   "outputs": [],
   "source": [
    "import numpy as np\n",
    "\n",
    "alpha = 0.05 # risk limit\n",
    "\n",
    "winner = 5500000  # declared votes for winner\n",
    "ballots_cast = 10000000 # declared ballots cast\n",
    "\n",
    "s_w = winner/ballots_cast # declared\n",
    "s_w_a = .49 #s_w # actual declared winner share\n",
    "\n",
    "M = 1000 # full recount"
   ]
  },
  {
   "cell_type": "code",
   "execution_count": 40,
   "metadata": {
    "cell_style": "split",
    "slideshow": {
     "slide_type": "fragment"
    }
   },
   "outputs": [],
   "source": [
    "def BRAVO(s_w, s_w_a, alpha, M):\n",
    "    n = 0\n",
    "    T = 1\n",
    "    while T <= 1/alpha and n < M:\n",
    "        n = n + 1\n",
    "        b = np.random.geometric(s_w_a)\n",
    "        if b == 1:\n",
    "            T = T * 2 * s_w\n",
    "        else:\n",
    "            T = T * 2  * (1-s_w)\n",
    "    return T, n"
   ]
  },
  {
   "cell_type": "code",
   "execution_count": 41,
   "metadata": {
    "cell_style": "split",
    "slideshow": {
     "slide_type": "fragment"
    }
   },
   "outputs": [
    {
     "name": "stdout",
     "output_type": "stream",
     "text": [
      "declared:  0.55  actual:  0.49  limit:  1000\n",
      "Test PASSED  14\n",
      "FULL HAND COUNT  986\n"
     ]
    }
   ],
   "source": [
    "tests = 1000\n",
    "passed = 0\n",
    "for i in range(tests):\n",
    "    t, n = BRAVO(s_w, s_w_a, alpha, M)\n",
    "    if t > 1/alpha:\n",
    "        passed = passed + 1\n",
    "\n",
    "print(\"declared: \", s_w, \" actual: \", s_w_a, \" limit: \", M)\n",
    "print(\"Test PASSED \", passed)\n",
    "print(\"FULL HAND COUNT \", tests - passed)"
   ]
  },
  {
   "cell_type": "markdown",
   "metadata": {
    "slideshow": {
     "slide_type": "slide"
    }
   },
   "source": [
    "# BRAVO - efficiency"
   ]
  },
  {
   "cell_type": "markdown",
   "metadata": {
    "cell_style": "split",
    "slideshow": {
     "slide_type": "fragment"
    }
   },
   "source": [
    "![BRAVO table](img/BRAVO.png)"
   ]
  },
  {
   "cell_type": "code",
   "execution_count": 47,
   "metadata": {
    "cell_style": "split",
    "slideshow": {
     "slide_type": "fragment"
    }
   },
   "outputs": [
    {
     "name": "stdout",
     "output_type": "stream",
     "text": [
      "0.6\n",
      "Test PASSED  6363\n",
      "FULL HAND COUNT  3637\n"
     ]
    }
   ],
   "source": [
    "s_w = .6 #(1 + .093)/2\n",
    "print(s_w)\n",
    "s_w_a = s_w\n",
    "M = 150 #1117\n",
    "tests = 10000\n",
    "passed = 0\n",
    "for i in range(tests):\n",
    "    t, n = BRAVO(s_w, s_w_a, alpha, M)\n",
    "    if t > 1/alpha:\n",
    "        passed = passed + 1\n",
    "\n",
    "print(\"Test PASSED \", passed)\n",
    "print(\"FULL HAND COUNT \", tests - passed)"
   ]
  },
  {
   "cell_type": "markdown",
   "metadata": {
    "slideshow": {
     "slide_type": "slide"
    }
   },
   "source": [
    "# Real-world auditing"
   ]
  },
  {
   "cell_type": "markdown",
   "metadata": {
    "cell_style": "split",
    "slideshow": {
     "slide_type": "fragment"
    }
   },
   "source": [
    "Sampling is performed round-by-round not ballot-by-ballot.\n",
    "\n",
    "Result: one observes T every $r$ sampled ballots. Decision"
   ]
  },
  {
   "cell_type": "code",
   "execution_count": 48,
   "metadata": {
    "cell_style": "split",
    "slideshow": {
     "slide_type": "fragment"
    }
   },
   "outputs": [],
   "source": [
    "def bravo_kmin(NN, wd, alpha, n):\n",
    "    kmin = np.ceil((np.log(alpha) + n * (np.log(2) + np.log(NN-wd) - np.log(NN)))/(np.log(NN-wd)-np.log(wd)))\n",
    "    return np.int64(kmin)\n"
   ]
  },
  {
   "cell_type": "code",
   "execution_count": 50,
   "metadata": {
    "cell_style": "split",
    "slideshow": {
     "slide_type": "fragment"
    }
   },
   "outputs": [
    {
     "data": {
      "text/plain": [
       "621"
      ]
     },
     "execution_count": 50,
     "metadata": {},
     "output_type": "execute_result"
    }
   ],
   "source": [
    "bravo_kmin(1000, 600, .1, 1117)"
   ]
  },
  {
   "cell_type": "code",
   "execution_count": 51,
   "metadata": {
    "cell_style": "split",
    "slideshow": {
     "slide_type": "fragment"
    }
   },
   "outputs": [],
   "source": [
    "from matplotlib import pyplot\n",
    "from scipy.stats import binom"
   ]
  },
  {
   "cell_type": "code",
   "execution_count": null,
   "metadata": {
    "cell_style": "split",
    "slideshow": {
     "slide_type": "fragment"
    }
   },
   "outputs": [],
   "source": [
    "def sigma(p0, p1, k, n):\n",
    "    x0 = "
   ]
  },
  {
   "cell_type": "code",
   "execution_count": 52,
   "metadata": {
    "cell_style": "split",
    "slideshow": {
     "slide_type": "slide"
    }
   },
   "outputs": [
    {
     "data": {
      "text/plain": [
       "[<matplotlib.lines.Line2D at 0x7f531db49890>]"
      ]
     },
     "execution_count": 52,
     "metadata": {},
     "output_type": "execute_result"
    },
    {
     "data": {
      "image/png": "[encoded data removed]",
      "text/plain": [
       "<Figure size 432x288 with 1 Axes>"
      ]
     },
     "metadata": {
      "needs_background": "light"
     },
     "output_type": "display_data"
    }
   ],
   "source": [
    "import math\n",
    "import numpy as np\n",
    "import matplotlib.pyplot as plt\n",
    "\n",
    "x = np.arange(0, 100, 1)\n",
    "y = bravo_kmin(1000, 600, .1, x)\n",
    "plt.plot(x, y)"
   ]
  },
  {
   "cell_type": "code",
   "execution_count": 56,
   "metadata": {
    "cell_style": "split",
    "slideshow": {
     "slide_type": "fragment"
    }
   },
   "outputs": [],
   "source": [
    "def BRAVO_hist(s_w, s_w_a, alpha, M):\n",
    "    n = 0\n",
    "    T = 1\n",
    "    hist = []\n",
    "    hist.append(0)\n",
    "    v_w = 0 # votes for winner in a sample\n",
    "    while T <= 1/alpha and n < M:\n",
    "        n = n + 1\n",
    "        b = np.random.geometric(s_w_a)\n",
    "        if b == 1:\n",
    "            T = T * 2 * s_w\n",
    "            v_w = v_w + 1\n",
    "        else:\n",
    "            T = T * 2  * (1-s_w)\n",
    "        hist.append(v_w)\n",
    "    return T, n, hist"
   ]
  },
  {
   "cell_type": "code",
   "execution_count": null,
   "metadata": {},
   "outputs": [],
   "source": []
  },
  {
   "cell_type": "code",
   "execution_count": 71,
   "metadata": {
    "cell_style": "split",
    "slideshow": {
     "slide_type": "slide"
    }
   },
   "outputs": [],
   "source": [
    "s_w = 0.6\n",
    "s_w_a = 0.61\n",
    "M = 150\n",
    "alpha = .01"
   ]
  },
  {
   "cell_type": "code",
   "execution_count": 81,
   "metadata": {
    "cell_style": "split",
    "slideshow": {
     "slide_type": "fragment"
    }
   },
   "outputs": [
    {
     "name": "stdout",
     "output_type": "stream",
     "text": [
      "150\n"
     ]
    },
    {
     "data": {
      "image/png": "[encoded data removed]",
      "text/plain": [
       "<Figure size 432x288 with 1 Axes>"
      ]
     },
     "metadata": {
      "needs_background": "light"
     },
     "output_type": "display_data"
    }
   ],
   "source": [
    "T, n, z = BRAVO_hist(s_w, s_w_a, alpha, M)\n",
    "\n",
    "x = np.arange(0, M, 1)\n",
    "y = bravo_kmin(10000, math.floor(s_w * 10000), alpha, x)\n",
    "\n",
    "plt.plot(x, y, z)\n",
    "print(n)"
   ]
  },
  {
   "cell_type": "markdown",
   "metadata": {
    "slideshow": {
     "slide_type": "slide"
    }
   },
   "source": [
    "# Round by round BRAVO"
   ]
  },
  {
   "cell_type": "code",
   "execution_count": 83,
   "metadata": {
    "cell_style": "split"
   },
   "outputs": [],
   "source": [
    "def BRAVO_R2(s_w, s_w_a, alpha, r, M):\n",
    "    n = 0\n",
    "    T = 1\n",
    "    while T <= 1/alpha and n < M:\n",
    "        n = n + r\n",
    "        for i in range(r):\n",
    "            b = np.random.geometric(s_w_a)\n",
    "            if b == 1:\n",
    "                T = T * 2 * s_w\n",
    "            else:\n",
    "                T = T * 2  * (1-s_w)\n",
    "        #print(n, T)\n",
    "    return T, n"
   ]
  },
  {
   "cell_type": "code",
   "execution_count": 86,
   "metadata": {
    "cell_style": "split",
    "slideshow": {
     "slide_type": "fragment"
    }
   },
   "outputs": [
    {
     "name": "stdout",
     "output_type": "stream",
     "text": [
      "0.6\n",
      "Test PASSED  2827\n",
      "FULL HAND COUNT  7173\n"
     ]
    }
   ],
   "source": [
    "s_w = .6\n",
    "print(s_w)\n",
    "s_w_a = s_w\n",
    "M = 150\n",
    "r = 50\n",
    "tests = 10000\n",
    "passed = 0\n",
    "for i in range(tests):\n",
    "    t, n = BRAVO_R2(s_w, s_w_a, alpha, 50, M)\n",
    "    if t > 1/alpha:\n",
    "        passed = passed + 1\n",
    "\n",
    "print(\"Test PASSED \", passed)\n",
    "print(\"FULL HAND COUNT \", tests - passed)"
   ]
  },
  {
   "cell_type": "code",
   "execution_count": null,
   "metadata": {},
   "outputs": [],
   "source": []
  },
  {
   "cell_type": "code",
   "execution_count": 87,
   "metadata": {
    "cell_style": "split",
    "slideshow": {
     "slide_type": "slide"
    }
   },
   "outputs": [],
   "source": [
    "def BRAVO_R2_hist(s_w, s_w_a, alpha, r, M):\n",
    "    n = 0\n",
    "    T = 1\n",
    "    hist = [0]\n",
    "    #hist_r = [0]\n",
    "    v_w = 0\n",
    "    bravo_finished = 0\n",
    "    while T <= 1/alpha and n < M:\n",
    "        n = n + r\n",
    "        for i in range(r):\n",
    "            b = np.random.geometric(s_w_a)\n",
    "            if b == 1:\n",
    "                T = T * 2 * s_w\n",
    "                v_w = v_w + 1\n",
    "            else:\n",
    "                T = T * 2  * (1-s_w)\n",
    "            #if bravo_finished == 0:\n",
    "            hist.append(v_w)\n",
    "            #hist_r.append(v_w)\n",
    "            if T > 1/alpha:\n",
    "                bravo_finished = 1            \n",
    "        #print(n, T)\n",
    "    return T, n, hist"
   ]
  },
  {
   "cell_type": "code",
   "execution_count": 96,
   "metadata": {
    "cell_style": "split",
    "slideshow": {
     "slide_type": "fragment"
    }
   },
   "outputs": [
    {
     "name": "stdout",
     "output_type": "stream",
     "text": [
      "150\n"
     ]
    },
    {
     "data": {
      "image/png": "[encoded data removed]",
      "text/plain": [
       "<Figure size 432x288 with 1 Axes>"
      ]
     },
     "metadata": {
      "needs_background": "light"
     },
     "output_type": "display_data"
    }
   ],
   "source": [
    "M = 150\n",
    "r = 30\n",
    "s_w = .6\n",
    "s_w_a = .6\n",
    "T, n, z_b = BRAVO_R2_hist(s_w, s_w_a, alpha, r, M)\n",
    "\n",
    "x = np.arange(0, M, 1)\n",
    "y = bravo_kmin(10000, math.floor(s_w * 10000), .1, x)\n",
    "\n",
    "plt.plot(x, y, z_b)\n",
    "print(n)"
   ]
  },
  {
   "cell_type": "markdown",
   "metadata": {
    "slideshow": {
     "slide_type": "slide"
    }
   },
   "source": [
    "[Athena vs R-Bravo](https://cs.pwr.edu.pl/zagorski/rla/)"
   ]
  }
 ],
 "metadata": {
  "celltoolbar": "Slideshow",
  "kernelspec": {
   "display_name": "Python 3",
   "language": "python",
   "name": "python3"
  },
  "language_info": {
   "codemirror_mode": {
    "name": "ipython",
    "version": 3
   },
   "file_extension": ".py",
   "mimetype": "text/x-python",
   "name": "python",
   "nbconvert_exporter": "python",
   "pygments_lexer": "ipython3",
   "version": "3.7.6"
  }
 },
 "nbformat": 4,
 "nbformat_minor": 4
}
