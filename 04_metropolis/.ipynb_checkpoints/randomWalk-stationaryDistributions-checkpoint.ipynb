{
 "cells": [
  {
   "cell_type": "markdown",
   "metadata": {
    "cell_style": "center",
    "slideshow": {
     "slide_type": "slide"
    }
   },
   "source": [
    "# Applied Stochastics \n",
    "\n",
    "## with applications for security and privacy"
   ]
  },
  {
   "cell_type": "markdown",
   "metadata": {
    "slideshow": {
     "slide_type": "fragment"
    }
   },
   "source": [
    "## Lecture: Markov chains - Stationary distributions\n",
    "\n",
    "\n"
   ]
  },
  {
   "cell_type": "code",
   "execution_count": 8,
   "metadata": {
    "slideshow": {
     "slide_type": "slide"
    }
   },
   "outputs": [],
   "source": [
    "import numpy as np\n",
    "import pandas as pd\n",
    "from matplotlib import pyplot\n",
    "import math\n",
    "from numpy import linalg as LA\n",
    "from scipy import linalg as SLA"
   ]
  },
  {
   "cell_type": "markdown",
   "metadata": {
    "slideshow": {
     "slide_type": "slide"
    }
   },
   "source": [
    "## Uniform distribution"
   ]
  },
  {
   "cell_type": "markdown",
   "metadata": {
    "cell_style": "split",
    "slideshow": {
     "slide_type": "fragment"
    }
   },
   "source": [
    "$S = \\{s_1, \\ldots, s_n\\}$\n",
    "\n",
    "$\\pi = (\\pi_1, \\ldots, \\pi_n)$"
   ]
  },
  {
   "cell_type": "markdown",
   "metadata": {
    "cell_style": "split",
    "slideshow": {
     "slide_type": "fragment"
    }
   },
   "source": [
    "$\\pi$ is distribution on $S$ iff:\n",
    "\n",
    "* $0 \\leq \\pi_i \\leq 1$ for every $i = 1, \\ldots, n$\n",
    "* $\\sum_{i=1}^n \\pi_i = 1$"
   ]
  },
  {
   "cell_type": "markdown",
   "metadata": {
    "cell_style": "split",
    "slideshow": {
     "slide_type": "fragment"
    }
   },
   "source": [
    "$\\pi$ is uniform distribution on $S$ iff:\n",
    "\n",
    "* $\\pi_i = \\frac{1}{n}$"
   ]
  },
  {
   "cell_type": "code",
   "execution_count": 3,
   "metadata": {
    "cell_style": "split",
    "slideshow": {
     "slide_type": "fragment"
    }
   },
   "outputs": [],
   "source": [
    "def unif(n):\n",
    "    return [1/n] * n"
   ]
  },
  {
   "cell_type": "code",
   "execution_count": 23,
   "metadata": {
    "cell_style": "split",
    "slideshow": {
     "slide_type": "fragment"
    }
   },
   "outputs": [
    {
     "data": {
      "text/plain": [
       "[0.25, 0.25, 0.25, 0.25]"
      ]
     },
     "execution_count": 23,
     "metadata": {},
     "output_type": "execute_result"
    }
   ],
   "source": [
    "unif(4)"
   ]
  },
  {
   "cell_type": "markdown",
   "metadata": {
    "slideshow": {
     "slide_type": "slide"
    }
   },
   "source": [
    "*Definition 5.2* If $v^{(1)} = (v_1^{(1)}, \\ldots, v_k^{(1)})$ and $v^{(2)} = (v_1^{(2)}, \\ldots, v_k^{(2)})$ are probability distributions on $S = \\{s_1, \\ldots, s_k\\}$ then we define the **total variation distance** between $v^{(1)}$ and $v^{(2)}$ as\n",
    "$$d_{TV}(v^{(1)}, v^{(2)}) = \\frac{1}{2} \\sum_{i=1}^k |v_i^{(1)} - v_i^{(2)}|.$$"
   ]
  },
  {
   "cell_type": "markdown",
   "metadata": {
    "slideshow": {
     "slide_type": "fragment"
    }
   },
   "source": [
    "If $v^{(1)}, v^{(2)}, \\ldots$ and $v$ are probability distributions on $S$ then we say that $v^{(n)}$ **converges to** $v$ **in total variation as** $n \\rightarrow \\infty$, writing $v^{(n)} \\xrightarrow{TV} v$, if\n",
    "$$\\lim_{n\\rightarrow \\infty} d_{TV}(v^{(n)}, v) = 0.$$"
   ]
  },
  {
   "cell_type": "markdown",
   "metadata": {
    "cell_style": "split",
    "slideshow": {
     "slide_type": "slide"
    }
   },
   "source": [
    "$d_{TV}(v^{(1)}, v^{(2)}) = \\frac{1}{2} \\sum_{i=1}^k |v_i^{(1)} - v_i^{(2)}|.$"
   ]
  },
  {
   "cell_type": "code",
   "execution_count": 11,
   "metadata": {
    "cell_style": "split",
    "slideshow": {
     "slide_type": "fragment"
    }
   },
   "outputs": [],
   "source": [
    "def d_tv(V, W):\n",
    "    sum = 0\n",
    "    for v, w in zip(V, W):\n",
    "        sum = sum + abs(v-w)\n",
    "    return sum/2"
   ]
  },
  {
   "cell_type": "markdown",
   "metadata": {
    "slideshow": {
     "slide_type": "fragment"
    }
   },
   "source": [
    "Fact 1: If $d_{TV}(v^{(1)}, v^{(2)}) = 0$ then $v^{(1)} = v^{(2)}$"
   ]
  },
  {
   "cell_type": "markdown",
   "metadata": {
    "slideshow": {
     "slide_type": "fragment"
    }
   },
   "source": [
    "Fact 2: If $d_{TV}(v^{(1)}, v^{(2)}) = 1$ then supports of $v^{(1)}$ and $v^{(2)}$ are disjoint."
   ]
  },
  {
   "cell_type": "markdown",
   "metadata": {
    "slideshow": {
     "slide_type": "fragment"
    }
   },
   "source": [
    "Fact 3: \n",
    "$$d_{TV}(v^{(1)}, v^{(2)}) = \\max_{A \\subset S}|v^{(1)}(A) - v^{(2)}(A)|$$"
   ]
  },
  {
   "cell_type": "markdown",
   "metadata": {
    "colab_type": "text",
    "id": "8vR75cUPOgLF",
    "slideshow": {
     "slide_type": "slide"
    }
   },
   "source": [
    "## Markov chain - transition matrix"
   ]
  },
  {
   "cell_type": "markdown",
   "metadata": {
    "cell_style": "split",
    "slideshow": {
     "slide_type": "fragment"
    }
   },
   "source": [
    "![RW](img/square-1.png)"
   ]
  },
  {
   "cell_type": "markdown",
   "metadata": {
    "cell_style": "split",
    "slideshow": {
     "slide_type": "fragment"
    }
   },
   "source": [
    "$P = \\left(\n",
    "\\begin{array}{cccc}\n",
    " P_{1,1} & P_{1,2} & P_{1,3} & P_{1,4} \\\\\n",
    " P_{2,1} & P_{2,2} & P_{2,3} & P_{2,4} \\\\\n",
    " P_{3,1} & P_{3,2} & P_{3,3} & P_{3,4} \\\\\n",
    " P_{4,1} & P_{4,2} & P_{4,3} & P_{4,4} \\\\\n",
    "\\end{array}\n",
    "\\right)$"
   ]
  },
  {
   "cell_type": "markdown",
   "metadata": {
    "cell_style": "split",
    "slideshow": {
     "slide_type": "fragment"
    }
   },
   "source": [
    "$P = \\left(\n",
    "\\begin{array}{cccc}\n",
    " 0 & \\frac{1}{2} & 0 & \\frac{1}{2} \\\\\n",
    " \\frac{1}{2} & 0 & \\frac{1}{2} & 0 \\\\\n",
    " 0 & \\frac{1}{2} & 0 & \\frac{1}{2} \\\\\n",
    " \\frac{1}{2} & 0 & \\frac{1}{2} & 0 \\\\\n",
    "\\end{array}\n",
    "\\right)$"
   ]
  },
  {
   "cell_type": "code",
   "execution_count": 4,
   "metadata": {
    "cell_style": "split",
    "colab": {},
    "colab_type": "code",
    "id": "93NjSVZ6OafB",
    "slideshow": {
     "slide_type": "fragment"
    }
   },
   "outputs": [],
   "source": [
    "P = np.array([[0, .5, 0, .5],\n",
    "              [.5, 0, .5, 0],\n",
    "              [0, .5, 0, .5],\n",
    "              [.5, 0, .5, 0]])"
   ]
  },
  {
   "cell_type": "markdown",
   "metadata": {
    "slideshow": {
     "slide_type": "slide"
    }
   },
   "source": [
    "## Distribution over time"
   ]
  },
  {
   "cell_type": "markdown",
   "metadata": {
    "cell_style": "split",
    "slideshow": {
     "slide_type": "fragment"
    }
   },
   "source": [
    "![RW](img/square-1.png)"
   ]
  },
  {
   "cell_type": "code",
   "execution_count": 12,
   "metadata": {
    "cell_style": "split",
    "colab": {},
    "colab_type": "code",
    "id": "93NjSVZ6OafB",
    "slideshow": {
     "slide_type": "fragment"
    }
   },
   "outputs": [],
   "source": [
    "P = np.array([[0, .5, 0, .5],\n",
    "              [.5, 0, .5, 0],\n",
    "              [0, .5, 0, .5],\n",
    "              [.5, 0, .5, 0]])\n",
    "x = np.array([1, 0, 0, 0])"
   ]
  },
  {
   "cell_type": "markdown",
   "metadata": {
    "cell_style": "split",
    "slideshow": {
     "slide_type": "fragment"
    }
   },
   "source": [
    "For a Markov chain $(X_0, X_1, \\ldots)$ with state space $\\{s_1, \\ldots, s_k\\}$,\n",
    "initial distribution $\\mu^{(0)}$ and transition matrix $P$,\n",
    "we have for any $n$ that the distribution $\\mu^{(n)}$ at time $n$ satisfies\n",
    "$$\\mu^{(n)} = \\mu^{(0)} P^n.$$"
   ]
  },
  {
   "cell_type": "code",
   "execution_count": 22,
   "metadata": {
    "cell_style": "split",
    "slideshow": {
     "slide_type": "fragment"
    }
   },
   "outputs": [
    {
     "name": "stdout",
     "output_type": "stream",
     "text": [
      "[0.  0.5 0.  0.5]\n",
      "[0.5 0.  0.5 0. ]\n",
      "[0.  0.5 0.  0.5]\n",
      "[0.5 0.  0.5 0. ]\n",
      "[0.  0.5 0.  0.5]\n",
      "[0.5 0.  0.5 0. ]\n",
      "[0.  0.5 0.  0.5]\n",
      "[0.5 0.  0.5 0. ]\n",
      "[0.  0.5 0.  0.5]\n"
     ]
    }
   ],
   "source": [
    "for i in range(1, 10):\n",
    "    r = np.dot(x, LA.matrix_power(P,i))\n",
    "    print(str(r))"
   ]
  },
  {
   "cell_type": "code",
   "execution_count": 14,
   "metadata": {
    "colab": {},
    "colab_type": "code",
    "id": "RM7vEaXzSxR6",
    "slideshow": {
     "slide_type": "fragment"
    }
   },
   "outputs": [],
   "source": [
    "stateHist = x\n",
    "dfStateHist = pd.DataFrame(x)\n",
    "distr_hist = [[0, 0, 0, 0]]"
   ]
  },
  {
   "cell_type": "markdown",
   "metadata": {
    "slideshow": {
     "slide_type": "slide"
    }
   },
   "source": [
    "## Example 1"
   ]
  },
  {
   "cell_type": "code",
   "execution_count": 21,
   "metadata": {
    "cell_style": "split",
    "colab": {
     "base_uri": "https://localhost:8080/",
     "height": 1000
    },
    "colab_type": "code",
    "id": "8hTKngLZTCZv",
    "outputId": "9370fcdf-a1de-42cf-83f6-787140ba2c1f",
    "slideshow": {
     "slide_type": "fragment"
    }
   },
   "outputs": [
    {
     "name": "stdout",
     "output_type": "stream",
     "text": [
      "step:\t1\t[0.  0.5 0.  0.5]\n",
      "step:\t2\t[0.5 0.  0.5 0. ]\n",
      "step:\t3\t[0.  0.5 0.  0.5]\n",
      "step:\t4\t[0.5 0.  0.5 0. ]\n",
      "step:\t5\t[0.  0.5 0.  0.5]\n",
      "step:\t6\t[0.5 0.  0.5 0. ]\n",
      "step:\t7\t[0.  0.5 0.  0.5]\n",
      "step:\t8\t[0.5 0.  0.5 0. ]\n",
      "step:\t9\t[0.  0.5 0.  0.5]\n",
      "step:\t10\t[0.5 0.  0.5 0. ]\n",
      "step:\t11\t[0.  0.5 0.  0.5]\n",
      "step:\t12\t[0.5 0.  0.5 0. ]\n",
      "step:\t13\t[0.  0.5 0.  0.5]\n",
      "step:\t14\t[0.5 0.  0.5 0. ]\n",
      "step:\t15\t[0.  0.5 0.  0.5]\n",
      "step:\t16\t[0.5 0.  0.5 0. ]\n",
      "step:\t17\t[0.  0.5 0.  0.5]\n",
      "step:\t18\t[0.5 0.  0.5 0. ]\n",
      "step:\t19\t[0.  0.5 0.  0.5]\n",
      "step:\t20\t[0.5 0.  0.5 0. ]\n",
      "step:\t21\t[0.  0.5 0.  0.5]\n",
      "step:\t22\t[0.5 0.  0.5 0. ]\n",
      "step:\t23\t[0.  0.5 0.  0.5]\n",
      "step:\t24\t[0.5 0.  0.5 0. ]\n",
      "step:\t25\t[0.  0.5 0.  0.5]\n",
      "step:\t26\t[0.5 0.  0.5 0. ]\n",
      "step:\t27\t[0.  0.5 0.  0.5]\n",
      "step:\t28\t[0.5 0.  0.5 0. ]\n",
      "step:\t29\t[0.  0.5 0.  0.5]\n",
      "step:\t30\t[0.5 0.  0.5 0. ]\n"
     ]
    }
   ],
   "source": [
    "for i in range(30):\n",
    "  x = np.dot(x, P)\n",
    "  print(\"step:\\t\" + str(i+1) + \"\\t\" + str(x))\n",
    "  stateHist = np.append(stateHist, x, axis=0)\n",
    "  dfDistrHist = pd.DataFrame(stateHist)"
   ]
  },
  {
   "cell_type": "code",
   "execution_count": 16,
   "metadata": {
    "cell_style": "split",
    "slideshow": {
     "slide_type": "fragment"
    }
   },
   "outputs": [
    {
     "data": {
      "image/png": "[encoded data removed]",
      "text/plain": [
       "<Figure size 432x288 with 1 Axes>"
      ]
     },
     "metadata": {
      "needs_background": "light"
     },
     "output_type": "display_data"
    }
   ],
   "source": [
    "dfDistrHist.plot()\n",
    "pyplot.show()"
   ]
  },
  {
   "cell_type": "code",
   "execution_count": 19,
   "metadata": {
    "cell_style": "split",
    "slideshow": {
     "slide_type": "fragment"
    }
   },
   "outputs": [
    {
     "name": "stdout",
     "output_type": "stream",
     "text": [
      "0.5\n",
      "0.5\n",
      "0.5\n",
      "0.5\n",
      "0.5\n",
      "0.5\n",
      "0.5\n",
      "0.5\n",
      "0.5\n"
     ]
    }
   ],
   "source": [
    "x = np.array([1,0,0,0])\n",
    "for i in range(1, 10):\n",
    "    r = np.dot(x, matrix_power(P,i))\n",
    "    print(d_tv(r, unif(4)))"
   ]
  },
  {
   "cell_type": "markdown",
   "metadata": {
    "slideshow": {
     "slide_type": "slide"
    }
   },
   "source": [
    "## Aperiodicity"
   ]
  },
  {
   "cell_type": "code",
   "execution_count": 52,
   "metadata": {
    "cell_style": "split",
    "colab_type": "text",
    "id": "O_m3Zm6lOprx",
    "slideshow": {
     "slide_type": "fragment"
    }
   },
   "outputs": [],
   "source": [
    "B = np.array([[.4, .3, .3],\n",
    "             [.5, .5, 0],\n",
    "             [.1, 0, .9]])"
   ]
  },
  {
   "cell_type": "code",
   "execution_count": 55,
   "metadata": {
    "cell_style": "split",
    "slideshow": {
     "slide_type": "fragment"
    }
   },
   "outputs": [
    {
     "name": "stdout",
     "output_type": "stream",
     "text": [
      "[[-0.6  0.3  0.3]\n",
      " [ 0.5 -0.5  0. ]\n",
      " [ 0.1  0.  -0.1]\n",
      " [ 1.   1.   1. ]]\n"
     ]
    }
   ],
   "source": [
    "newrow = [1] * 3\n",
    "BB = np.vstack([B - np.identity(3), newrow])\n",
    "print(BB)"
   ]
  },
  {
   "cell_type": "markdown",
   "metadata": {
    "slideshow": {
     "slide_type": "fragment"
    }
   },
   "source": [
    "A Markov chain $(X_0, X_1, \\ldots)$ with state space $S = \\{s_1, \\ldots, s_k\\}$ and transition matrix $P$. The **period** $d(s_i)$ of a state $s_i \\in S$ is defined as\n",
    "$$d(s_i) = \\gcd\\{n \\geq 1 : (P^n)_{i,i} > 0\\}.$$"
   ]
  },
  {
   "cell_type": "markdown",
   "metadata": {
    "slideshow": {
     "slide_type": "fragment"
    }
   },
   "source": [
    "The period of $s_i$ is the greatest common divisor of the set of times that the chain returns back to $s_i$, given that it started with $X_0 = s_i$."
   ]
  },
  {
   "cell_type": "markdown",
   "metadata": {
    "slideshow": {
     "slide_type": "fragment"
    }
   },
   "source": [
    "If $d(s_i) = 1$ then the state $s_i$ is **aperiodic**."
   ]
  },
  {
   "cell_type": "markdown",
   "metadata": {
    "slideshow": {
     "slide_type": "fragment"
    }
   },
   "source": [
    "*Definition* A Markov chain is said to be **aperiodic** if all its states are aperiodic. Otherwise the chain is said to be **periodic**."
   ]
  },
  {
   "cell_type": "markdown",
   "metadata": {
    "slideshow": {
     "slide_type": "slide"
    }
   },
   "source": [
    "## Example 1 - periodicity"
   ]
  },
  {
   "cell_type": "markdown",
   "metadata": {
    "slideshow": {
     "slide_type": "fragment"
    }
   },
   "source": [
    "A Markov chain $(X_0, X_1, \\ldots)$ with state space $S = \\{s_1, \\ldots, s_k\\}$ and transition matrix $P$. The **period** $d(s_i)$ of a state $s_i \\in S$ is defined as\n",
    "$$d(s_i) = \\gcd\\{n \\geq 1 : (P^n)_{i,i} > 0\\}.$$"
   ]
  },
  {
   "cell_type": "code",
   "execution_count": 56,
   "metadata": {
    "cell_style": "split",
    "colab": {},
    "colab_type": "code",
    "id": "5nI6BzL29svW",
    "slideshow": {
     "slide_type": "fragment"
    }
   },
   "outputs": [],
   "source": [
    "P = np.array([[0, .5, 0, .5],\n",
    "              [.5, 0, .5, 0],\n",
    "              [0, .5, 0, .5],\n",
    "              [.5, 0, .5, 0]])"
   ]
  },
  {
   "cell_type": "code",
   "execution_count": 57,
   "metadata": {
    "cell_style": "split",
    "slideshow": {
     "slide_type": "fragment"
    }
   },
   "outputs": [
    {
     "name": "stdout",
     "output_type": "stream",
     "text": [
      "\n",
      "1\n",
      "[[0.  0.5 0.  0.5]\n",
      " [0.5 0.  0.5 0. ]\n",
      " [0.  0.5 0.  0.5]\n",
      " [0.5 0.  0.5 0. ]]\n",
      "\n",
      "2\n",
      "[[0.5 0.  0.5 0. ]\n",
      " [0.  0.5 0.  0.5]\n",
      " [0.5 0.  0.5 0. ]\n",
      " [0.  0.5 0.  0.5]]\n",
      "\n",
      "3\n",
      "[[0.  0.5 0.  0.5]\n",
      " [0.5 0.  0.5 0. ]\n",
      " [0.  0.5 0.  0.5]\n",
      " [0.5 0.  0.5 0. ]]\n",
      "\n",
      "4\n",
      "[[0.5 0.  0.5 0. ]\n",
      " [0.  0.5 0.  0.5]\n",
      " [0.5 0.  0.5 0. ]\n",
      " [0.  0.5 0.  0.5]]\n"
     ]
    }
   ],
   "source": [
    "for i in range(1,5):\n",
    "  x = matrix_power(P,i)\n",
    "  print(\"\\n%s\\n%s\" % (i, str(x)))\n"
   ]
  },
  {
   "cell_type": "markdown",
   "metadata": {
    "slideshow": {
     "slide_type": "slide"
    }
   },
   "source": [
    "## Example 2"
   ]
  },
  {
   "cell_type": "code",
   "execution_count": 11,
   "metadata": {
    "cell_style": "split",
    "colab": {},
    "colab_type": "code",
    "id": "5nI6BzL29svW",
    "slideshow": {
     "slide_type": "fragment"
    }
   },
   "outputs": [],
   "source": [
    "P = np.array([[1/2, 0, 1/2, 0, 0], \n",
    "              [0, 1/2, 1/2, 0, 0], \n",
    "              [1/4, 1/4, 0, 1/4, 1/4], \n",
    "              [0, 0, 1/2, 1/2, 0], \n",
    "              [0, 0, 1/2, 0, 1/2]])"
   ]
  },
  {
   "cell_type": "code",
   "execution_count": 17,
   "metadata": {
    "cell_style": "split",
    "slideshow": {
     "slide_type": "fragment"
    }
   },
   "outputs": [],
   "source": [
    "x = np.array([[1.0, 0, 0, 0, 0]])\n",
    "stateHist = x\n",
    "dfStateHist = pd.DataFrame(x)\n",
    "distr_hist = [[0, 0, 0, 0, 0]]\n"
   ]
  },
  {
   "cell_type": "code",
   "execution_count": 18,
   "metadata": {
    "cell_style": "split",
    "slideshow": {
     "slide_type": "fragment"
    }
   },
   "outputs": [
    {
     "name": "stdout",
     "output_type": "stream",
     "text": [
      "1\t[[0.5 0.  0.5 0.  0. ]]\n",
      "2\t[[0.375 0.125 0.25  0.125 0.125]]\n",
      "3\t[[0.25  0.125 0.375 0.125 0.125]]\n",
      "4\t[[0.21875 0.15625 0.3125  0.15625 0.15625]]\n",
      "5\t[[0.1875  0.15625 0.34375 0.15625 0.15625]]\n",
      "6\t[[0.1796875 0.1640625 0.328125  0.1640625 0.1640625]]\n",
      "7\t[[0.171875  0.1640625 0.3359375 0.1640625 0.1640625]]\n",
      "8\t[[0.16992188 0.16601562 0.33203125 0.16601562 0.16601562]]\n",
      "9\t[[0.16796875 0.16601562 0.33398438 0.16601562 0.16601562]]\n",
      "10\t[[0.16748047 0.16650391 0.33300781 0.16650391 0.16650391]]\n",
      "11\t[[0.16699219 0.16650391 0.33349609 0.16650391 0.16650391]]\n",
      "12\t[[0.16687012 0.16662598 0.33325195 0.16662598 0.16662598]]\n",
      "13\t[[0.16674805 0.16662598 0.33337402 0.16662598 0.16662598]]\n",
      "14\t[[0.16671753 0.16665649 0.33331299 0.16665649 0.16665649]]\n",
      "15\t[[0.16668701 0.16665649 0.33334351 0.16665649 0.16665649]]\n",
      "16\t[[0.16667938 0.16666412 0.33332825 0.16666412 0.16666412]]\n",
      "17\t[[0.16667175 0.16666412 0.33333588 0.16666412 0.16666412]]\n",
      "18\t[[0.16666985 0.16666603 0.33333206 0.16666603 0.16666603]]\n",
      "19\t[[0.16666794 0.16666603 0.33333397 0.16666603 0.16666603]]\n",
      "20\t[[0.16666746 0.16666651 0.33333302 0.16666651 0.16666651]]\n",
      "21\t[[0.16666698 0.16666651 0.33333349 0.16666651 0.16666651]]\n",
      "22\t[[0.16666687 0.16666663 0.33333325 0.16666663 0.16666663]]\n",
      "23\t[[0.16666675 0.16666663 0.33333337 0.16666663 0.16666663]]\n",
      "24\t[[0.16666672 0.16666666 0.33333331 0.16666666 0.16666666]]\n",
      "25\t[[0.16666669 0.16666666 0.33333334 0.16666666 0.16666666]]\n",
      "26\t[[0.16666668 0.16666666 0.33333333 0.16666666 0.16666666]]\n",
      "27\t[[0.16666667 0.16666666 0.33333334 0.16666666 0.16666666]]\n",
      "28\t[[0.16666667 0.16666667 0.33333333 0.16666667 0.16666667]]\n",
      "29\t[[0.16666667 0.16666667 0.33333333 0.16666667 0.16666667]]\n",
      "30\t[[0.16666667 0.16666667 0.33333333 0.16666667 0.16666667]]\n",
      "31\t[[0.16666667 0.16666667 0.33333333 0.16666667 0.16666667]]\n",
      "32\t[[0.16666667 0.16666667 0.33333333 0.16666667 0.16666667]]\n",
      "33\t[[0.16666667 0.16666667 0.33333333 0.16666667 0.16666667]]\n",
      "34\t[[0.16666667 0.16666667 0.33333333 0.16666667 0.16666667]]\n",
      "35\t[[0.16666667 0.16666667 0.33333333 0.16666667 0.16666667]]\n",
      "36\t[[0.16666667 0.16666667 0.33333333 0.16666667 0.16666667]]\n",
      "37\t[[0.16666667 0.16666667 0.33333333 0.16666667 0.16666667]]\n",
      "38\t[[0.16666667 0.16666667 0.33333333 0.16666667 0.16666667]]\n",
      "39\t[[0.16666667 0.16666667 0.33333333 0.16666667 0.16666667]]\n",
      "40\t[[0.16666667 0.16666667 0.33333333 0.16666667 0.16666667]]\n",
      "41\t[[0.16666667 0.16666667 0.33333333 0.16666667 0.16666667]]\n",
      "42\t[[0.16666667 0.16666667 0.33333333 0.16666667 0.16666667]]\n",
      "43\t[[0.16666667 0.16666667 0.33333333 0.16666667 0.16666667]]\n",
      "44\t[[0.16666667 0.16666667 0.33333333 0.16666667 0.16666667]]\n",
      "45\t[[0.16666667 0.16666667 0.33333333 0.16666667 0.16666667]]\n",
      "46\t[[0.16666667 0.16666667 0.33333333 0.16666667 0.16666667]]\n",
      "47\t[[0.16666667 0.16666667 0.33333333 0.16666667 0.16666667]]\n",
      "48\t[[0.16666667 0.16666667 0.33333333 0.16666667 0.16666667]]\n",
      "49\t[[0.16666667 0.16666667 0.33333333 0.16666667 0.16666667]]\n",
      "50\t[[0.16666667 0.16666667 0.33333333 0.16666667 0.16666667]]\n"
     ]
    }
   ],
   "source": [
    "for i in range(50):\n",
    "  x = np.dot(x, P)\n",
    "  print(str(i+1) + \"\\t\" + str(x))\n",
    "  stateHist = np.append(stateHist, x, axis=0)\n",
    "  dfDistrHist = pd.DataFrame(stateHist)"
   ]
  },
  {
   "cell_type": "code",
   "execution_count": 19,
   "metadata": {
    "cell_style": "split",
    "slideshow": {
     "slide_type": "fragment"
    }
   },
   "outputs": [
    {
     "data": {
      "image/png": "[encoded data removed]",
      "text/plain": [
       "<Figure size 432x288 with 1 Axes>"
      ]
     },
     "metadata": {
      "needs_background": "light"
     },
     "output_type": "display_data"
    }
   ],
   "source": [
    "dfDistrHist.plot()\n",
    "pyplot.show()"
   ]
  },
  {
   "cell_type": "code",
   "execution_count": 15,
   "metadata": {
    "cell_style": "split",
    "slideshow": {
     "slide_type": "fragment"
    }
   },
   "outputs": [],
   "source": [
    "from numpy import linalg as LA"
   ]
  },
  {
   "cell_type": "code",
   "execution_count": 20,
   "metadata": {
    "cell_style": "split",
    "slideshow": {
     "slide_type": "fragment"
    }
   },
   "outputs": [
    {
     "data": {
      "text/plain": [
       "(array([-0.5,  0.5,  1. ,  0.5,  0.5]),\n",
       " array([[ 3.53553391e-01, -8.66025404e-01,  4.47213595e-01,\n",
       "         -1.01360607e-01,  0.00000000e+00],\n",
       "        [ 3.53553391e-01,  2.88675135e-01,  4.47213595e-01,\n",
       "         -7.77097985e-01,  0.00000000e+00],\n",
       "        [-7.07106781e-01, -2.27101554e-17,  4.47213595e-01,\n",
       "         -7.01777503e-17,  0.00000000e+00],\n",
       "        [ 3.53553391e-01,  2.88675135e-01,  4.47213595e-01,\n",
       "          4.39229296e-01, -7.07106781e-01],\n",
       "        [ 3.53553391e-01,  2.88675135e-01,  4.47213595e-01,\n",
       "          4.39229296e-01,  7.07106781e-01]]))"
      ]
     },
     "execution_count": 20,
     "metadata": {},
     "output_type": "execute_result"
    }
   ],
   "source": [
    "LA.eig(P)"
   ]
  },
  {
   "cell_type": "code",
   "execution_count": 23,
   "metadata": {
    "cell_style": "split",
    "slideshow": {
     "slide_type": "fragment"
    }
   },
   "outputs": [
    {
     "name": "stdout",
     "output_type": "stream",
     "text": [
      "[0.16666667 0.16666667 0.33333333 0.16666667 0.16666667]\n",
      "[0.16666667 0.16666667 0.33333333 0.16666667 0.16666667]\n"
     ]
    }
   ],
   "source": [
    "pi = np.array([1/6, 1/6, 1/3, 1/6, 1/6])\n",
    "\n",
    "q = np.dot(pi, P)\n",
    "\n",
    "print(pi)\n",
    "\n",
    "print(q)"
   ]
  },
  {
   "cell_type": "markdown",
   "metadata": {
    "slideshow": {
     "slide_type": "slide"
    }
   },
   "source": [
    "## Example 2 - periodicity"
   ]
  },
  {
   "cell_type": "code",
   "execution_count": 39,
   "metadata": {
    "cell_style": "split",
    "colab": {},
    "colab_type": "code",
    "id": "5nI6BzL29svW",
    "slideshow": {
     "slide_type": "fragment"
    }
   },
   "outputs": [],
   "source": [
    "P = np.array([[1/2, 0, 1/2, 0, 0], \n",
    "              [0, 1/2, 1/2, 0, 0], \n",
    "              [1/4, 1/4, 0, 1/4, 1/4], \n",
    "              [0, 0, 1/2, 1/2, 0], \n",
    "              [0, 0, 1/2, 0, 1/2]])"
   ]
  },
  {
   "cell_type": "code",
   "execution_count": 59,
   "metadata": {
    "cell_style": "split",
    "slideshow": {
     "slide_type": "fragment"
    }
   },
   "outputs": [
    {
     "name": "stdout",
     "output_type": "stream",
     "text": [
      "\n",
      "1\n",
      "[[0.5  0.   0.5  0.   0.  ]\n",
      " [0.   0.5  0.5  0.   0.  ]\n",
      " [0.25 0.25 0.   0.25 0.25]\n",
      " [0.   0.   0.5  0.5  0.  ]\n",
      " [0.   0.   0.5  0.   0.5 ]]\n",
      "\n",
      "2\n",
      "[[0.375 0.125 0.25  0.125 0.125]\n",
      " [0.125 0.375 0.25  0.125 0.125]\n",
      " [0.125 0.125 0.5   0.125 0.125]\n",
      " [0.125 0.125 0.25  0.375 0.125]\n",
      " [0.125 0.125 0.25  0.125 0.375]]\n",
      "\n",
      "3\n",
      "[[0.25   0.125  0.375  0.125  0.125 ]\n",
      " [0.125  0.25   0.375  0.125  0.125 ]\n",
      " [0.1875 0.1875 0.25   0.1875 0.1875]\n",
      " [0.125  0.125  0.375  0.25   0.125 ]\n",
      " [0.125  0.125  0.375  0.125  0.25  ]]\n"
     ]
    }
   ],
   "source": [
    "for i in range(1,4):\n",
    "  x = matrix_power(P,i)\n",
    "  print(\"\\n%s\\n%s\" % (i, str(x)))\n"
   ]
  },
  {
   "cell_type": "code",
   "execution_count": 48,
   "metadata": {
    "slideshow": {
     "slide_type": "fragment"
    }
   },
   "outputs": [
    {
     "name": "stdout",
     "output_type": "stream",
     "text": [
      "1\n"
     ]
    }
   ],
   "source": [
    "import math\n",
    "p = math.gcd(2,3)\n",
    "print(str(p))"
   ]
  },
  {
   "cell_type": "markdown",
   "metadata": {
    "slideshow": {
     "slide_type": "slide"
    }
   },
   "source": [
    "## Irreducible Markov chains"
   ]
  },
  {
   "cell_type": "markdown",
   "metadata": {
    "slideshow": {
     "slide_type": "fragment"
    }
   },
   "source": [
    "State $s_i$ **communicates** with state $s_j$ (we denote it by $s_i \\rightarrow s_j$) if there exists such an $n$ that \n",
    "$$P(X_{m+n} = s_j | X_m = s_i) > 0.$$"
   ]
  },
  {
   "cell_type": "markdown",
   "metadata": {
    "slideshow": {
     "slide_type": "fragment"
    }
   },
   "source": [
    "If $s_i \\rightarrow s_j$ and $s_j \\rightarrow s_i$ then states $s_i$ and $s_j$ **intercommunicate** (denoted by $s_i \\leftrightarrow s_j$)."
   ]
  },
  {
   "cell_type": "markdown",
   "metadata": {
    "slideshow": {
     "slide_type": "fragment"
    }
   },
   "source": [
    "*Def.* A Markov chain $(X_0, X_1, \\ldots)$ with state space $S = \\{s_1, \\ldots, s_k\\}$ and transition matrix $P$ is said to be **irreducible** if for all $s_i, s_j \\in S$ we have that $s_i \\leftrightarrow s_j$. Otherwise the chain is said to be **reducible**."
   ]
  },
  {
   "cell_type": "markdown",
   "metadata": {
    "slideshow": {
     "slide_type": "slide"
    }
   },
   "source": [
    "## Example - reducibility"
   ]
  },
  {
   "cell_type": "code",
   "execution_count": 60,
   "metadata": {
    "cell_style": "split",
    "colab": {},
    "colab_type": "code",
    "id": "5nI6BzL29svW",
    "slideshow": {
     "slide_type": "fragment"
    }
   },
   "outputs": [],
   "source": [
    "P = np.array([[1/2, 1/2,  0, 0], \n",
    "              [0.4, 0.6,  0, 0], \n",
    "              [0, 0, 1/4, 3/4], \n",
    "              [0, 0, 1/2, 1/2]])"
   ]
  },
  {
   "cell_type": "code",
   "execution_count": 50,
   "metadata": {
    "cell_style": "split",
    "slideshow": {
     "slide_type": "fragment"
    }
   },
   "outputs": [
    {
     "name": "stdout",
     "output_type": "stream",
     "text": [
      "\n",
      "1\n",
      "[[0.5  0.5  0.   0.  ]\n",
      " [0.4  0.6  0.   0.  ]\n",
      " [0.   0.   0.25 0.75]\n",
      " [0.   0.   0.5  0.5 ]]\n",
      "\n",
      "2\n",
      "[[0.45   0.55   0.     0.    ]\n",
      " [0.44   0.56   0.     0.    ]\n",
      " [0.     0.     0.4375 0.5625]\n",
      " [0.     0.     0.375  0.625 ]]\n",
      "\n",
      "3\n",
      "[[0.445    0.555    0.       0.      ]\n",
      " [0.444    0.556    0.       0.      ]\n",
      " [0.       0.       0.390625 0.609375]\n",
      " [0.       0.       0.40625  0.59375 ]]\n",
      "\n",
      "4\n",
      "[[0.4445     0.5555     0.         0.        ]\n",
      " [0.4444     0.5556     0.         0.        ]\n",
      " [0.         0.         0.40234375 0.59765625]\n",
      " [0.         0.         0.3984375  0.6015625 ]]\n",
      "\n",
      "5\n",
      "[[0.44445    0.55555    0.         0.        ]\n",
      " [0.44444    0.55556    0.         0.        ]\n",
      " [0.         0.         0.39941406 0.60058594]\n",
      " [0.         0.         0.40039062 0.59960938]]\n",
      "\n",
      "6\n",
      "[[0.444445   0.555555   0.         0.        ]\n",
      " [0.444444   0.555556   0.         0.        ]\n",
      " [0.         0.         0.40014648 0.59985352]\n",
      " [0.         0.         0.39990234 0.60009766]]\n",
      "\n",
      "7\n",
      "[[0.4444445  0.5555555  0.         0.        ]\n",
      " [0.4444444  0.5555556  0.         0.        ]\n",
      " [0.         0.         0.39996338 0.60003662]\n",
      " [0.         0.         0.40002441 0.59997559]]\n",
      "\n",
      "8\n",
      "[[0.44444445 0.55555555 0.         0.        ]\n",
      " [0.44444444 0.55555556 0.         0.        ]\n",
      " [0.         0.         0.40000916 0.59999084]\n",
      " [0.         0.         0.3999939  0.6000061 ]]\n",
      "\n",
      "9\n",
      "[[0.44444445 0.55555555 0.         0.        ]\n",
      " [0.44444444 0.55555556 0.         0.        ]\n",
      " [0.         0.         0.39999771 0.60000229]\n",
      " [0.         0.         0.40000153 0.59999847]]\n"
     ]
    }
   ],
   "source": [
    "for i in range(1,10):\n",
    "  x = matrix_power(P,i)\n",
    "  print(\"\\n%s\\n%s\" % (i, str(x)))\n"
   ]
  },
  {
   "cell_type": "markdown",
   "metadata": {
    "slideshow": {
     "slide_type": "slide"
    }
   },
   "source": [
    "## Example - continued"
   ]
  },
  {
   "cell_type": "code",
   "execution_count": 61,
   "metadata": {
    "cell_style": "split",
    "colab": {},
    "colab_type": "code",
    "id": "5nI6BzL29svW",
    "slideshow": {
     "slide_type": "fragment"
    }
   },
   "outputs": [],
   "source": [
    "P = np.array([[1/2, 1/2,  0, 0], \n",
    "              [0.4, 0.6,  0, 0], \n",
    "              [0, 0, 1/4, 3/4], \n",
    "              [0, 0, 1/2, 1/2]])"
   ]
  },
  {
   "cell_type": "code",
   "execution_count": 65,
   "metadata": {
    "cell_style": "split",
    "slideshow": {
     "slide_type": "fragment"
    }
   },
   "outputs": [],
   "source": [
    "x = np.array([[0, 1, 0, 0]])\n",
    "stateHist = x\n",
    "dfStateHist = pd.DataFrame(x)\n",
    "distr_hist = [[0, 0, 0, 0]]"
   ]
  },
  {
   "cell_type": "code",
   "execution_count": 66,
   "metadata": {
    "cell_style": "split",
    "colab": {
     "base_uri": "https://localhost:8080/",
     "height": 1000
    },
    "colab_type": "code",
    "id": "8hTKngLZTCZv",
    "outputId": "9370fcdf-a1de-42cf-83f6-787140ba2c1f",
    "slideshow": {
     "slide_type": "fragment"
    }
   },
   "outputs": [
    {
     "name": "stdout",
     "output_type": "stream",
     "text": [
      "1\t[[0.4 0.6 0.  0. ]]\n",
      "2\t[[0.44 0.56 0.   0.  ]]\n",
      "3\t[[0.444 0.556 0.    0.   ]]\n",
      "4\t[[0.4444 0.5556 0.     0.    ]]\n",
      "5\t[[0.44444 0.55556 0.      0.     ]]\n",
      "6\t[[0.444444 0.555556 0.       0.      ]]\n",
      "7\t[[0.4444444 0.5555556 0.        0.       ]]\n",
      "8\t[[0.44444444 0.55555556 0.         0.        ]]\n",
      "9\t[[0.44444444 0.55555556 0.         0.        ]]\n",
      "10\t[[0.44444444 0.55555556 0.         0.        ]]\n",
      "11\t[[0.44444444 0.55555556 0.         0.        ]]\n",
      "12\t[[0.44444444 0.55555556 0.         0.        ]]\n",
      "13\t[[0.44444444 0.55555556 0.         0.        ]]\n",
      "14\t[[0.44444444 0.55555556 0.         0.        ]]\n",
      "15\t[[0.44444444 0.55555556 0.         0.        ]]\n",
      "16\t[[0.44444444 0.55555556 0.         0.        ]]\n",
      "17\t[[0.44444444 0.55555556 0.         0.        ]]\n",
      "18\t[[0.44444444 0.55555556 0.         0.        ]]\n",
      "19\t[[0.44444444 0.55555556 0.         0.        ]]\n",
      "20\t[[0.44444444 0.55555556 0.         0.        ]]\n",
      "21\t[[0.44444444 0.55555556 0.         0.        ]]\n",
      "22\t[[0.44444444 0.55555556 0.         0.        ]]\n",
      "23\t[[0.44444444 0.55555556 0.         0.        ]]\n",
      "24\t[[0.44444444 0.55555556 0.         0.        ]]\n",
      "25\t[[0.44444444 0.55555556 0.         0.        ]]\n",
      "26\t[[0.44444444 0.55555556 0.         0.        ]]\n",
      "27\t[[0.44444444 0.55555556 0.         0.        ]]\n",
      "28\t[[0.44444444 0.55555556 0.         0.        ]]\n",
      "29\t[[0.44444444 0.55555556 0.         0.        ]]\n",
      "30\t[[0.44444444 0.55555556 0.         0.        ]]\n",
      "31\t[[0.44444444 0.55555556 0.         0.        ]]\n",
      "32\t[[0.44444444 0.55555556 0.         0.        ]]\n",
      "33\t[[0.44444444 0.55555556 0.         0.        ]]\n",
      "34\t[[0.44444444 0.55555556 0.         0.        ]]\n",
      "35\t[[0.44444444 0.55555556 0.         0.        ]]\n",
      "36\t[[0.44444444 0.55555556 0.         0.        ]]\n",
      "37\t[[0.44444444 0.55555556 0.         0.        ]]\n",
      "38\t[[0.44444444 0.55555556 0.         0.        ]]\n",
      "39\t[[0.44444444 0.55555556 0.         0.        ]]\n",
      "40\t[[0.44444444 0.55555556 0.         0.        ]]\n",
      "41\t[[0.44444444 0.55555556 0.         0.        ]]\n",
      "42\t[[0.44444444 0.55555556 0.         0.        ]]\n",
      "43\t[[0.44444444 0.55555556 0.         0.        ]]\n",
      "44\t[[0.44444444 0.55555556 0.         0.        ]]\n",
      "45\t[[0.44444444 0.55555556 0.         0.        ]]\n",
      "46\t[[0.44444444 0.55555556 0.         0.        ]]\n",
      "47\t[[0.44444444 0.55555556 0.         0.        ]]\n",
      "48\t[[0.44444444 0.55555556 0.         0.        ]]\n",
      "49\t[[0.44444444 0.55555556 0.         0.        ]]\n",
      "50\t[[0.44444444 0.55555556 0.         0.        ]]\n"
     ]
    }
   ],
   "source": [
    "for i in range(50):\n",
    "  x = np.dot(x, P)\n",
    "  print(str(i+1) + \"\\t\" + str(x))\n",
    "  stateHist = np.append(stateHist, x, axis=0)\n",
    "  dfDistrHist = pd.DataFrame(stateHist)"
   ]
  },
  {
   "cell_type": "code",
   "execution_count": 67,
   "metadata": {
    "cell_style": "split",
    "slideshow": {
     "slide_type": "fragment"
    }
   },
   "outputs": [
    {
     "data": {
      "image/png": "[encoded data removed]",
      "text/plain": [
       "<Figure size 432x288 with 1 Axes>"
      ]
     },
     "metadata": {
      "needs_background": "light"
     },
     "output_type": "display_data"
    }
   ],
   "source": [
    "dfDistrHist.plot()\n",
    "pyplot.show()"
   ]
  },
  {
   "cell_type": "code",
   "execution_count": 20,
   "metadata": {
    "cell_style": "split",
    "slideshow": {
     "slide_type": "fragment"
    }
   },
   "outputs": [
    {
     "data": {
      "text/plain": [
       "0.75"
      ]
     },
     "execution_count": 20,
     "metadata": {},
     "output_type": "execute_result"
    }
   ],
   "source": [
    "d_tv(x, unif(4))"
   ]
  },
  {
   "cell_type": "markdown",
   "metadata": {
    "slideshow": {
     "slide_type": "slide"
    }
   },
   "source": [
    "## Goal for today: long-term behavior of Markov chains."
   ]
  },
  {
   "cell_type": "markdown",
   "metadata": {
    "slideshow": {
     "slide_type": "fragment"
    }
   },
   "source": [
    "For $(X_0, X_1, \\ldots)$ what is the distribution of $X_n$ when $n \\rightarrow \\infty$?"
   ]
  },
  {
   "cell_type": "code",
   "execution_count": 11,
   "metadata": {
    "cell_style": "split",
    "slideshow": {
     "slide_type": "fragment"
    }
   },
   "outputs": [
    {
     "data": {
      "image/png": "[encoded data removed]",
      "text/plain": [
       "<Figure size 432x288 with 1 Axes>"
      ]
     },
     "metadata": {
      "needs_background": "light"
     },
     "output_type": "display_data"
    }
   ],
   "source": [
    "dfDistrHist.plot()\n",
    "pyplot.show()"
   ]
  },
  {
   "cell_type": "code",
   "execution_count": 69,
   "metadata": {
    "cell_style": "split",
    "slideshow": {
     "slide_type": "fragment"
    }
   },
   "outputs": [
    {
     "data": {
      "image/png": "[encoded data removed]",
      "text/plain": [
       "<Figure size 432x288 with 1 Axes>"
      ]
     },
     "metadata": {
      "needs_background": "light"
     },
     "output_type": "display_data"
    }
   ],
   "source": [
    "dfDistrHist.plot()\n",
    "pyplot.show()"
   ]
  },
  {
   "cell_type": "markdown",
   "metadata": {
    "slideshow": {
     "slide_type": "slide"
    }
   },
   "source": [
    "*Thm 4.1* Let $(X_0, X_1, \\ldots)$ be a aperiodic Markov chain with state space $S = \\{s_1, \\ldots, s_k\\}$ and transition matrix $P$. Then there exists $N < \\infty$ such that \n",
    "$$(P^n)_{i,i} > 0$$\n",
    "for all $i \\in \\{1, \\ldots, k\\}$ and all $n \\geq N$."
   ]
  },
  {
   "cell_type": "markdown",
   "metadata": {
    "slideshow": {
     "slide_type": "fragment"
    }
   },
   "source": [
    "Distribution of $X_n$ converges if the Markov chain is irreducible and aperiodic."
   ]
  },
  {
   "cell_type": "markdown",
   "metadata": {
    "slideshow": {
     "slide_type": "slide"
    }
   },
   "source": [
    "Lemma 4.1: Let $A = \\{a_1, a_2, \\ldots\\}$ be a set of positive integers which is\n",
    "\n",
    "* nonlattice, meaning that $\\gcd\\{a_1, a_2, \\ldots\\} = 1$, and\n",
    "* closed under addition, meaning that if $a \\in A$ and $a' \\in A$ then $a + a' \\in A$.\n",
    "\n",
    "Then there exists an integer $N < \\infty$ such that $n \\in A$ for all $n \\geq N$."
   ]
  },
  {
   "cell_type": "markdown",
   "metadata": {
    "slideshow": {
     "slide_type": "slide"
    }
   },
   "source": [
    "*Thm 4.1* Let $(X_0, X_1, \\ldots)$ be a aperiodic Markov chain with state space $S = \\{s_1, \\ldots, s_k\\}$ and transition matrix $P$. Then there exists $N < \\infty$ such that \n",
    "$$(P^n)_{i,i} > 0$$\n",
    "for all $i \\in \\{1, \\ldots, k\\}$ and all $n \\geq N$."
   ]
  },
  {
   "cell_type": "markdown",
   "metadata": {
    "slideshow": {
     "slide_type": "slide"
    }
   },
   "source": [
    "Corollary 4.1: Let $(X_0, X_1, \\ldots)$ be an irreducible and aperiodic Markov chain with state space $S = \\{s_1, \\ldots, s_k\\}$ and transition matrix $P$. Then there exists an $M < \\infty$ such that $(P^n)_{i,j} > 0$ for all $i, j \\in \\{1, \\ldots, k\\}$ and all $n \\geq M$."
   ]
  },
  {
   "cell_type": "markdown",
   "metadata": {
    "slideshow": {
     "slide_type": "slide"
    }
   },
   "source": [
    "*Def 5.1* Let $(X_0, X_1, \\ldots)$ be a Markov chain with state space $\\{s_1, \\ldots, s_k\\}$ and transition matrix $P$. A row vector $\\pi = (\\pi_1, \\ldots, \\pi_k)$ is said to be a **stationary distribution** for the Markov chain, if it satisfies:"
   ]
  },
  {
   "cell_type": "markdown",
   "metadata": {
    "slideshow": {
     "slide_type": "slide"
    }
   },
   "source": [
    "Last time we showed:\n",
    "\n",
    "* **existence** of stationary distributions,\n",
    "* **uniqueness** of stationary distributions,\n",
    "* **convergence** to stationary starting from any initial distribution."
   ]
  },
  {
   "cell_type": "markdown",
   "metadata": {
    "slideshow": {
     "slide_type": "slide"
    }
   },
   "source": [
    "**Theorem 5.1 (Existence of stationary distributions)** For any irreducible and aperiodic Markov chain, there exists at least one stationary distribution."
   ]
  },
  {
   "cell_type": "markdown",
   "metadata": {
    "slideshow": {
     "slide_type": "fragment"
    }
   },
   "source": [
    "*Def.* Let $(X_0, X_1, \\ldots)$ be a Markov chain  with state space $\\{s_1, \\ldots, s_k\\}$ and transition matrix $P$. If the initial distribution $P(X_0 = s_i) = 1$ then \n",
    "\n",
    "$$T_{i,j} = \\min\\{n\\geq 1: X_n = s_j\\}$$\n",
    "\n",
    "is called **hitting time**.\n",
    "\n",
    "If the Markov chain never visits $s_j$ then $T_{i,j} = \\infty$."
   ]
  },
  {
   "cell_type": "markdown",
   "metadata": {
    "slideshow": {
     "slide_type": "fragment"
    }
   },
   "source": [
    "The **mean hitting time** is defined as\n",
    "\n",
    "$$\\tau_{i,j} = E[T_{i,j}]$$."
   ]
  },
  {
   "cell_type": "markdown",
   "metadata": {
    "slideshow": {
     "slide_type": "fragment"
    }
   },
   "source": [
    "The **mean return time** is $\\tau_{i,i}$."
   ]
  },
  {
   "cell_type": "markdown",
   "metadata": {
    "slideshow": {
     "slide_type": "slide"
    }
   },
   "source": [
    "*Lemma 5.1* For any irreducible aperiodic Markov chain with state space $S = \\{s_1, \\ldots, s_k\\}$ and transition matrix $P$, we have for any two states $s_i, s_j \\in S$ that if the chain starts in state $s_i$, then\n",
    "\n",
    "$$P(T_{i,j} < \\infty) = 1.$$\n",
    "\n",
    "Moreover, the mean hitting time $\\tau_{i,j}$ is finite, *i.e.,*\n",
    "\n",
    "$$E[T_{i,j}] < \\infty.$$"
   ]
  },
  {
   "cell_type": "markdown",
   "metadata": {
    "slideshow": {
     "slide_type": "slide"
    }
   },
   "source": [
    "## Example - RC4"
   ]
  },
  {
   "cell_type": "code",
   "execution_count": 86,
   "metadata": {
    "cell_style": "split",
    "colab": {},
    "colab_type": "code",
    "id": "5nI6BzL29svW",
    "slideshow": {
     "slide_type": "fragment"
    }
   },
   "outputs": [],
   "source": [
    "n = 256\n",
    "P = np.array([[1/n, 1-1/n], \n",
    "              [1-1/n, 1/n]])"
   ]
  },
  {
   "cell_type": "code",
   "execution_count": 91,
   "metadata": {
    "cell_style": "split",
    "slideshow": {
     "slide_type": "fragment"
    }
   },
   "outputs": [],
   "source": [
    "x = np.array([[1, 0]])\n",
    "stateHist = x\n",
    "dfStateHist = pd.DataFrame(x)\n",
    "distr_hist = [[0, 0]]"
   ]
  },
  {
   "cell_type": "code",
   "execution_count": 92,
   "metadata": {
    "cell_style": "split",
    "colab": {
     "base_uri": "https://localhost:8080/",
     "height": 1000
    },
    "colab_type": "code",
    "id": "8hTKngLZTCZv",
    "outputId": "9370fcdf-a1de-42cf-83f6-787140ba2c1f",
    "slideshow": {
     "slide_type": "fragment"
    }
   },
   "outputs": [
    {
     "name": "stdout",
     "output_type": "stream",
     "text": [
      "1\t[[0.00390625 0.99609375]]\n",
      "2\t[[0.99221802 0.00778198]]\n",
      "3\t[[0.01162744 0.98837256]]\n",
      "4\t[[0.98455715 0.01544285]]\n",
      "5\t[[0.01922845 0.98077155]]\n",
      "6\t[[0.97701552 0.02298448]]\n",
      "7\t[[0.02671116 0.97328884]]\n",
      "8\t[[0.96959127 0.03040873]]\n",
      "9\t[[0.03407741 0.96592259]]\n",
      "10\t[[0.96228257 0.03771743]]\n",
      "11\t[[0.04132901 0.95867099]]\n",
      "12\t[[0.95508762 0.04491238]]\n",
      "13\t[[0.04846775 0.95153225]]\n",
      "14\t[[0.94800465 0.05199535]]\n",
      "15\t[[0.05549539 0.94450461]]\n",
      "16\t[[0.94103192 0.05896808]]\n",
      "17\t[[0.06241364 0.93758636]]\n",
      "18\t[[0.93416772 0.06583228]]\n",
      "19\t[[0.06922422 0.93077578]]\n",
      "20\t[[0.92741035 0.07258965]]\n",
      "21\t[[0.0759288 0.9240712]]\n",
      "22\t[[0.92075815 0.07924185]]\n",
      "23\t[[0.08252903 0.91747097]]\n",
      "24\t[[0.91420948 0.08579052]]\n",
      "25\t[[0.08902653 0.91097347]]\n",
      "26\t[[0.90776274 0.09223726]]\n",
      "27\t[[0.09542291 0.90457709]]\n",
      "28\t[[0.90141633 0.09858367]]\n",
      "29\t[[0.10171973 0.89828027]]\n",
      "30\t[[0.8951687 0.1048313]]\n",
      "31\t[[0.10791855 0.89208145]]\n",
      "32\t[[0.88901831 0.11098169]]\n",
      "33\t[[0.11402089 0.88597911]]\n",
      "34\t[[0.88296365 0.11703635]]\n",
      "35\t[[0.12002826 0.87997174]]\n",
      "36\t[[0.87700321 0.12299679]]\n",
      "37\t[[0.12594212 0.87405788]]\n",
      "38\t[[0.87113555 0.12886445]]\n",
      "39\t[[0.13176395 0.86823605]]\n",
      "40\t[[0.86535921 0.13464079]]\n",
      "41\t[[0.13749516 0.86250484]]\n",
      "42\t[[0.85967277 0.14032723]]\n",
      "43\t[[0.14313717 0.85686283]]\n",
      "44\t[[0.85407484 0.14592516]]\n",
      "45\t[[0.14869137 0.85130863]]\n",
      "46\t[[0.84856403 0.15143597]]\n",
      "47\t[[0.15415913 0.84584087]]\n",
      "48\t[[0.84313899 0.15686101]]\n",
      "49\t[[0.15954178 0.84045822]]\n",
      "50\t[[0.83779839 0.16220161]]\n",
      "51\t[[0.16484066 0.83515934]]\n",
      "52\t[[0.8325409 0.1674591]]\n",
      "53\t[[0.17005707 0.82994293]]\n",
      "54\t[[0.82736525 0.17263475]]\n",
      "55\t[[0.17519229 0.82480771]]\n",
      "56\t[[0.82227015 0.17772985]]\n",
      "57\t[[0.18024759 0.81975241]]\n",
      "58\t[[0.81725435 0.18274565]]\n",
      "59\t[[0.1852242 0.8147758]]\n",
      "60\t[[0.81231661 0.18768339]]\n",
      "61\t[[0.19012336 0.80987664]]\n",
      "62\t[[0.80745573 0.19254427]]\n",
      "63\t[[0.19494627 0.80505373]]\n",
      "64\t[[0.8026705 0.1973295]]\n",
      "65\t[[0.19969412 0.80030588]]\n",
      "66\t[[0.79795974 0.20204026]]\n",
      "67\t[[0.20436807 0.79563193]]\n",
      "68\t[[0.79332231 0.20667769]]\n",
      "69\t[[0.20896927 0.79103073]]\n",
      "70\t[[0.78875705 0.21124295]]\n",
      "71\t[[0.21349886 0.78650114]]\n",
      "72\t[[0.78426285 0.21573715]]\n",
      "73\t[[0.21795796 0.78204204]]\n",
      "74\t[[0.77983859 0.22016141]]\n",
      "75\t[[0.22234765 0.77765235]]\n",
      "76\t[[0.77548319 0.22451681]]\n",
      "77\t[[0.22666902 0.77333098]]\n",
      "78\t[[0.77119558 0.22880442]]\n",
      "79\t[[0.23092314 0.76907686]]\n",
      "80\t[[0.7669747 0.2330253]]\n",
      "81\t[[0.23511104 0.76488896]]\n",
      "82\t[[0.76281952 0.23718048]]\n",
      "83\t[[0.23923376 0.76076624]]\n",
      "84\t[[0.758729 0.241271]]\n",
      "85\t[[0.24329232 0.75670768]]\n",
      "86\t[[0.75470215 0.24529785]]\n",
      "87\t[[0.24728771 0.75271229]]\n",
      "88\t[[0.75073798 0.24926202]]\n",
      "89\t[[0.25122091 0.74877909]]\n",
      "90\t[[0.7468355 0.2531645]]\n",
      "91\t[[0.2550929 0.7449071]]\n",
      "92\t[[0.74299376 0.25700624]]\n",
      "93\t[[0.25890463 0.74109537]]\n",
      "94\t[[0.73921182 0.26078818]]\n",
      "95\t[[0.26265703 0.73734297]]\n",
      "96\t[[0.73548873 0.26451127]]\n",
      "97\t[[0.26635102 0.73364898]]\n",
      "98\t[[0.73182359 0.26817641]]\n",
      "99\t[[0.26998753 0.73001247]]\n",
      "100\t[[0.7282155 0.2717845]]\n",
      "101\t[[0.27356743 0.72643257]]\n",
      "102\t[[0.72466356 0.27533644]]\n",
      "103\t[[0.27709162 0.72290838]]\n",
      "104\t[[0.7211669 0.2788331]]\n",
      "105\t[[0.28056096 0.71943904]]\n",
      "106\t[[0.71772467 0.28227533]]\n",
      "107\t[[0.2839763 0.7160237]]\n",
      "108\t[[0.71433601 0.28566399]]\n",
      "109\t[[0.28733849 0.71266151]]\n",
      "110\t[[0.71100009 0.28899991]]\n",
      "111\t[[0.29064834 0.70935166]]\n",
      "112\t[[0.7077161 0.2922839]]\n",
      "113\t[[0.29390669 0.70609331]]\n",
      "114\t[[0.70448321 0.29551679]]\n",
      "115\t[[0.29711432 0.70288568]]\n",
      "116\t[[0.70130064 0.29869936]]\n",
      "117\t[[0.30027202 0.69972798]]\n",
      "118\t[[0.6981676 0.3018324]]\n",
      "119\t[[0.30338058 0.69661942]]\n",
      "120\t[[0.69508333 0.30491667]]\n",
      "121\t[[0.30644076 0.69355924]]\n",
      "122\t[[0.69204706 0.30795294]]\n",
      "123\t[[0.30945331 0.69054669]]\n",
      "124\t[[0.68905805 0.31094195]]\n",
      "125\t[[0.31241897 0.68758103]]\n",
      "126\t[[0.68611555 0.31388445]]\n",
      "127\t[[0.31533847 0.68466153]]\n",
      "128\t[[0.68321886 0.31678114]]\n",
      "129\t[[0.31821254 0.68178746]]\n",
      "130\t[[0.68036725 0.31963275]]\n",
      "131\t[[0.32104187 0.67895813]]\n",
      "132\t[[0.67756002 0.32243998]]\n",
      "133\t[[0.32382717 0.67617283]]\n",
      "134\t[[0.67479648 0.32520352]]\n",
      "135\t[[0.32656912 0.67343088]]\n",
      "136\t[[0.67207595 0.32792405]]\n",
      "137\t[[0.32926839 0.67073161]]\n",
      "138\t[[0.66939777 0.33060223]]\n",
      "139\t[[0.33192565 0.66807435]]\n",
      "140\t[[0.66676127 0.33323873]]\n",
      "141\t[[0.33454155 0.66545845]]\n",
      "142\t[[0.6641658 0.3358342]]\n",
      "143\t[[0.33711674 0.66288326]]\n",
      "144\t[[0.66161073 0.33838927]]\n",
      "145\t[[0.33965185 0.66034815]]\n",
      "146\t[[0.65909543 0.34090457]]\n",
      "147\t[[0.34214751 0.65785249]]\n",
      "148\t[[0.65661927 0.34338073]]\n",
      "149\t[[0.34460432 0.65539568]]\n",
      "150\t[[0.65418165 0.34581835]]\n",
      "151\t[[0.34702289 0.65297711]]\n",
      "152\t[[0.65178198 0.34821802]]\n",
      "153\t[[0.34940382 0.65059618]]\n",
      "154\t[[0.64941965 0.35058035]]\n",
      "155\t[[0.35174769 0.64825231]]\n",
      "156\t[[0.64709408 0.35290592]]\n",
      "157\t[[0.35405509 0.64594491]]\n",
      "158\t[[0.64480472 0.35519528]]\n",
      "159\t[[0.35632657 0.64367343]]\n",
      "160\t[[0.64255098 0.35744902]]\n",
      "161\t[[0.3585627 0.6414373]]\n",
      "162\t[[0.64033232 0.35966768]]\n",
      "163\t[[0.36076402 0.63923598]]\n",
      "164\t[[0.6381482 0.3618518]]\n",
      "165\t[[0.36293109 0.63706891]]\n",
      "166\t[[0.63599806 0.36400194]]\n",
      "167\t[[0.36506442 0.63493558]]\n",
      "168\t[[0.63388139 0.36611861]]\n",
      "169\t[[0.36716455 0.63283545]]\n",
      "170\t[[0.63179767 0.36820233]]\n",
      "171\t[[0.369232 0.630768]]\n",
      "172\t[[0.62974637 0.37025363]]\n",
      "173\t[[0.37126727 0.62873273]]\n",
      "174\t[[0.62772701 0.37227299]]\n",
      "175\t[[0.37327086 0.62672914]]\n",
      "176\t[[0.62573907 0.37426093]]\n",
      "177\t[[0.37524327 0.62475673]]\n",
      "178\t[[0.62378207 0.37621793]]\n",
      "179\t[[0.37718498 0.62281502]]\n",
      "180\t[[0.62185553 0.37814447]]\n",
      "181\t[[0.37909647 0.62090353]]\n",
      "182\t[[0.61995897 0.38004103]]\n",
      "183\t[[0.38097821 0.61902179]]\n",
      "184\t[[0.61809194 0.38190806]]\n",
      "185\t[[0.38283066 0.61716934]]\n",
      "186\t[[0.61625396 0.38374604]]\n",
      "187\t[[0.38465428 0.61534572]]\n",
      "188\t[[0.61444459 0.38555541]]\n",
      "189\t[[0.38644951 0.61355049]]\n",
      "190\t[[0.61266337 0.38733663]]\n",
      "191\t[[0.38821681 0.61178319]]\n",
      "192\t[[0.61090989 0.38909011]]\n",
      "193\t[[0.3899566 0.6100434]]\n",
      "194\t[[0.60918369 0.39081631]]\n",
      "195\t[[0.39166931 0.60833069]]\n",
      "196\t[[0.60748436 0.39251564]]\n",
      "197\t[[0.39335537 0.60664463]]\n",
      "198\t[[0.60581147 0.39418853]]\n",
      "199\t[[0.39501518 0.60498482]]\n",
      "200\t[[0.60416463 0.39583537]]\n",
      "201\t[[0.39664916 0.60335084]]\n",
      "202\t[[0.60254341 0.39745659]]\n",
      "203\t[[0.39825771 0.60174229]]\n",
      "204\t[[0.60094743 0.39905257]]\n",
      "205\t[[0.39984122 0.60015878]]\n",
      "206\t[[0.59937629 0.40062371]]\n",
      "207\t[[0.40140009 0.59859991]]\n",
      "208\t[[0.5978296 0.4021704]]\n",
      "209\t[[0.40293469 0.59706531]]\n",
      "210\t[[0.59630698 0.40369302]]\n",
      "211\t[[0.40444542 0.59555458]]\n",
      "212\t[[0.59480806 0.40519194]]\n",
      "213\t[[0.40593262 0.59406738]]\n",
      "214\t[[0.59333248 0.40666752]]\n",
      "215\t[[0.40739668 0.59260332]]\n",
      "216\t[[0.59187985 0.40812015]]\n",
      "217\t[[0.40883796 0.59116204]]\n",
      "218\t[[0.59044984 0.40955016]]\n",
      "219\t[[0.4102568 0.5897432]]\n",
      "220\t[[0.58904208 0.41095792]]\n",
      "221\t[[0.41165356 0.58834644]]\n",
      "222\t[[0.58765623 0.41234377]]\n",
      "223\t[[0.41302858 0.58697142]]\n",
      "224\t[[0.58629195 0.41370805]]\n",
      "225\t[[0.4143822 0.5856178]]\n",
      "226\t[[0.58494891 0.41505109]]\n",
      "227\t[[0.41571476 0.58428524]]\n",
      "228\t[[0.58362677 0.41637323]]\n",
      "229\t[[0.41702657 0.58297343]]\n",
      "230\t[[0.5823252 0.4176748]]\n",
      "231\t[[0.41831796 0.58168204]]\n",
      "232\t[[0.5810439 0.4189561]]\n",
      "233\t[[0.41958926 0.58041074]]\n",
      "234\t[[0.57978253 0.42021747]]\n",
      "235\t[[0.42084077 0.57915923]]\n",
      "236\t[[0.5785408 0.4214592]]\n",
      "237\t[[0.4220728 0.5779272]]\n",
      "238\t[[0.57731839 0.42268161]]\n",
      "239\t[[0.42328566 0.57671434]]\n",
      "240\t[[0.57611501 0.42388499]]\n",
      "241\t[[0.42447964 0.57552036]]\n",
      "242\t[[0.57493036 0.42506964]]\n",
      "243\t[[0.42565503 0.57434497]]\n",
      "244\t[[0.57376415 0.42623585]]\n",
      "245\t[[0.42681214 0.57318786]]\n",
      "246\t[[0.57261608 0.42738392]]\n",
      "247\t[[0.42795123 0.57204877]]\n",
      "248\t[[0.57148589 0.42851411]]\n",
      "249\t[[0.42907259 0.57092741]]\n",
      "250\t[[0.57037329 0.42962671]]\n",
      "251\t[[0.43017651 0.56982349]]\n",
      "252\t[[0.569278 0.430722]]\n",
      "253\t[[0.43126324 0.56873676]]\n",
      "254\t[[0.56819976 0.43180024]]\n",
      "255\t[[0.43233305 0.56766695]]\n",
      "256\t[[0.5671383 0.4328617]]\n",
      "257\t[[0.43338622 0.56661378]]\n",
      "258\t[[0.56609336 0.43390664]]\n",
      "259\t[[0.43442299 0.56557701]]\n",
      "260\t[[0.56506469 0.43493531]]\n",
      "261\t[[0.43544363 0.56455637]]\n",
      "262\t[[0.56405202 0.43594798]]\n",
      "263\t[[0.43644838 0.56355162]]\n",
      "264\t[[0.56305512 0.43694488]]\n",
      "265\t[[0.4374375 0.5625625]]\n",
      "266\t[[0.56207373 0.43792627]]\n",
      "267\t[[0.43841122 0.56158878]]\n",
      "268\t[[0.56110762 0.43889238]]\n",
      "269\t[[0.43936979 0.56063021]]\n",
      "270\t[[0.56015654 0.43984346]]\n",
      "271\t[[0.44031343 0.55968657]]\n",
      "272\t[[0.55922027 0.44077973]]\n",
      "273\t[[0.44124239 0.55875761]]\n",
      "274\t[[0.55829856 0.44170144]]\n",
      "275\t[[0.44215689 0.55784311]]\n",
      "276\t[[0.55739121 0.44260879]]\n",
      "277\t[[0.44305716 0.55694284]]\n",
      "278\t[[0.55649797 0.44350203]]\n",
      "279\t[[0.44394342 0.55605658]]\n",
      "280\t[[0.55561864 0.44438136]]\n",
      "281\t[[0.44481588 0.55518412]]\n",
      "282\t[[0.55475299 0.44524701]]\n",
      "283\t[[0.44567476 0.55432524]]\n",
      "284\t[[0.55390082 0.44609918]]\n",
      "285\t[[0.44652028 0.55347972]]\n",
      "286\t[[0.55306191 0.44693809]]\n",
      "287\t[[0.44735264 0.55264736]]\n",
      "288\t[[0.55223606 0.44776394]]\n",
      "289\t[[0.44817204 0.55182796]]\n",
      "290\t[[0.55142306 0.44857694]]\n",
      "291\t[[0.44897869 0.55102131]]\n",
      "292\t[[0.55062271 0.44937729]]\n",
      "293\t[[0.44977278 0.55022722]]\n",
      "294\t[[0.54983482 0.45016518]]\n",
      "295\t[[0.45055452 0.54944548]]\n",
      "296\t[[0.54905919 0.45094081]]\n",
      "297\t[[0.45132408 0.54867592]]\n",
      "298\t[[0.54829564 0.45170436]]\n",
      "299\t[[0.45208167 0.54791833]]\n",
      "300\t[[0.54754396 0.45245604]]\n",
      "301\t[[0.45282747 0.54717253]]\n",
      "302\t[[0.54680399 0.45319601]]\n",
      "303\t[[0.45356166 0.54643834]]\n",
      "304\t[[0.54607554 0.45392446]]\n",
      "305\t[[0.45428443 0.54571557]]\n",
      "306\t[[0.54535842 0.45464158]]\n",
      "307\t[[0.45499594 0.54500406]]\n",
      "308\t[[0.54465246 0.45534754]]\n",
      "309\t[[0.45569639 0.54430361]]\n",
      "310\t[[0.54395749 0.45604251]]\n",
      "311\t[[0.45638593 0.54361407]]\n",
      "312\t[[0.54327334 0.45672666]]\n",
      "313\t[[0.45706473 0.54293527]]\n",
      "314\t[[0.54259983 0.45740017]]\n",
      "315\t[[0.45773298 0.54226702]]\n",
      "316\t[[0.54193681 0.45806319]]\n",
      "317\t[[0.45839082 0.54160918]]\n",
      "318\t[[0.54128411 0.45871589]]\n",
      "319\t[[0.45903842 0.54096158]]\n",
      "320\t[[0.54064156 0.45935844]]\n",
      "321\t[[0.45967595 0.54032405]]\n",
      "322\t[[0.54000902 0.45999098]]\n",
      "323\t[[0.46030355 0.53969645]]\n",
      "324\t[[0.53938632 0.46061368]]\n"
     ]
    },
    {
     "name": "stdout",
     "output_type": "stream",
     "text": [
      "325\t[[0.46092138 0.53907862]]\n",
      "326\t[[0.53877331 0.46122669]]\n",
      "327\t[[0.4615296 0.5384704]]\n",
      "328\t[[0.53816985 0.46183015]]\n",
      "329\t[[0.46212835 0.53787165]]\n",
      "330\t[[0.53757577 0.46242423]]\n",
      "331\t[[0.46271779 0.53728221]]\n",
      "332\t[[0.53699095 0.46300905]]\n",
      "333\t[[0.46329805 0.53670195]]\n",
      "334\t[[0.53641522 0.46358478]]\n",
      "335\t[[0.46386927 0.53613073]]\n",
      "336\t[[0.53584846 0.46415154]]\n",
      "337\t[[0.46443161 0.53556839]]\n",
      "338\t[[0.53529051 0.46470949]]\n",
      "339\t[[0.4649852 0.5350148]]\n",
      "340\t[[0.53474125 0.46525875]]\n",
      "341\t[[0.46553017 0.53446983]]\n",
      "342\t[[0.53420054 0.46579946]]\n",
      "343\t[[0.46606665 0.53393335]]\n",
      "344\t[[0.53366824 0.46633176]]\n",
      "345\t[[0.46659479 0.53340521]]\n",
      "346\t[[0.53314423 0.46685577]]\n",
      "347\t[[0.46711471 0.53288529]]\n",
      "348\t[[0.53262838 0.46737162]]\n",
      "349\t[[0.46762653 0.53237347]]\n",
      "350\t[[0.53212055 0.46787945]]\n",
      "351\t[[0.46813039 0.53186961]]\n",
      "352\t[[0.53162063 0.46837937]]\n",
      "353\t[[0.46862641 0.53137359]]\n",
      "354\t[[0.53112848 0.46887152]]\n",
      "355\t[[0.46911471 0.53088529]]\n",
      "356\t[[0.530644 0.469356]]\n",
      "357\t[[0.46959541 0.53040459]]\n",
      "358\t[[0.53016706 0.46983294]]\n",
      "359\t[[0.47006862 0.52993138]]\n",
      "360\t[[0.52969754 0.47030246]]\n",
      "361\t[[0.47053447 0.52946553]]\n",
      "362\t[[0.52923533 0.47076467]]\n",
      "363\t[[0.47099307 0.52900693]]\n",
      "364\t[[0.52878031 0.47121969]]\n",
      "365\t[[0.47144454 0.52855546]]\n",
      "366\t[[0.52833238 0.47166762]]\n",
      "367\t[[0.47188897 0.52811103]]\n",
      "368\t[[0.52789141 0.47210859]]\n",
      "369\t[[0.47232649 0.52767351]]\n",
      "370\t[[0.52745731 0.47254269]]\n",
      "371\t[[0.4727572 0.5272428]]\n",
      "372\t[[0.52702997 0.47297003]]\n",
      "373\t[[0.47318121 0.52681879]]\n",
      "374\t[[0.52660927 0.47339073]]\n",
      "375\t[[0.47359861 0.52640139]]\n",
      "376\t[[0.52619513 0.47380487]]\n",
      "377\t[[0.47400952 0.52599048]]\n",
      "378\t[[0.52578743 0.47421257]]\n",
      "379\t[[0.47441404 0.52558596]]\n",
      "380\t[[0.52538607 0.47461393]]\n",
      "381\t[[0.47481226 0.52518774]]\n",
      "382\t[[0.52499096 0.47500904]]\n",
      "383\t[[0.47520428 0.52479572]]\n",
      "384\t[[0.52460201 0.47539799]]\n",
      "385\t[[0.4755902 0.5244098]]\n",
      "386\t[[0.5242191 0.4757809]]\n",
      "387\t[[0.47597011 0.52402989]]\n",
      "388\t[[0.52384216 0.47615784]]\n",
      "389\t[[0.47634411 0.52365589]]\n",
      "390\t[[0.52347108 0.47652892]]\n",
      "391\t[[0.47671229 0.52328771]]\n",
      "392\t[[0.52310577 0.47689423]]\n",
      "393\t[[0.47707474 0.52292526]]\n",
      "394\t[[0.52274616 0.47725384]]\n",
      "395\t[[0.47743155 0.52256845]]\n",
      "396\t[[0.52239214 0.47760786]]\n",
      "397\t[[0.4777828 0.5222172]]\n",
      "398\t[[0.52204363 0.47795637]]\n",
      "399\t[[0.47812859 0.52187141]]\n",
      "400\t[[0.52170054 0.47829946]]\n",
      "401\t[[0.478469 0.521531]]\n",
      "402\t[[0.52136279 0.47863721]]\n",
      "403\t[[0.4788041 0.5211959]]\n",
      "404\t[[0.5210303 0.4789697]]\n",
      "405\t[[0.479134 0.520866]]\n",
      "406\t[[0.52070299 0.47929701]]\n",
      "407\t[[0.47945875 0.52054125]]\n",
      "408\t[[0.52038077 0.47961923]]\n",
      "409\t[[0.47977846 0.52022154]]\n",
      "410\t[[0.52006356 0.47993644]]\n",
      "411\t[[0.48009318 0.51990682]]\n",
      "412\t[[0.51975129 0.48024871]]\n",
      "413\t[[0.48040301 0.51959699]]\n",
      "414\t[[0.51944389 0.48055611]]\n",
      "415\t[[0.48070802 0.51929198]]\n",
      "416\t[[0.51914126 0.48085874]]\n",
      "417\t[[0.48100828 0.51899172]]\n",
      "418\t[[0.51884335 0.48115665]]\n",
      "419\t[[0.48130387 0.51869613]]\n",
      "420\t[[0.51855007 0.48144993]]\n",
      "421\t[[0.48159485 0.51840515]]\n",
      "422\t[[0.51826136 0.48173864]]\n",
      "423\t[[0.48188131 0.51811869]]\n",
      "424\t[[0.51797714 0.48202286]]\n",
      "425\t[[0.48216331 0.51783669]]\n",
      "426\t[[0.51769734 0.48230266]]\n",
      "427\t[[0.48244092 0.51755908]]\n",
      "428\t[[0.5174219 0.4825781]]\n",
      "429\t[[0.48271421 0.51728579]]\n",
      "430\t[[0.51715075 0.48284925]]\n",
      "431\t[[0.48298324 0.51701676]]\n",
      "432\t[[0.51688381 0.48311619]]\n",
      "433\t[[0.48324809 0.51675191]]\n",
      "434\t[[0.51662104 0.48337896]]\n",
      "435\t[[0.48350882 0.51649118]]\n",
      "436\t[[0.51636235 0.48363765]]\n",
      "437\t[[0.48376548 0.51623452]]\n",
      "438\t[[0.51610768 0.48389232]]\n",
      "439\t[[0.48401816 0.51598184]]\n",
      "440\t[[0.51585698 0.48414302]]\n",
      "441\t[[0.4842669 0.5157331]]\n",
      "442\t[[0.51561019 0.48438981]]\n",
      "443\t[[0.48451177 0.51548823]]\n",
      "444\t[[0.51536723 0.48463277]]\n",
      "445\t[[0.48475283 0.51524717]]\n",
      "446\t[[0.51512805 0.48487195]]\n",
      "447\t[[0.48499013 0.51500987]]\n",
      "448\t[[0.5148926 0.4851074]]\n",
      "449\t[[0.48522375 0.51477625]]\n",
      "450\t[[0.51466081 0.48533919]]\n",
      "451\t[[0.48545372 0.51454628]]\n",
      "452\t[[0.51443263 0.48556737]]\n",
      "453\t[[0.48568012 0.51431988]]\n",
      "454\t[[0.514208 0.485792]]\n",
      "455\t[[0.485903 0.514097]]\n",
      "456\t[[0.51398687 0.48601313]]\n",
      "457\t[[0.4861224 0.5138776]]\n",
      "458\t[[0.51376918 0.48623082]]\n",
      "459\t[[0.48633839 0.51366161]]\n",
      "460\t[[0.51355488 0.48644512]]\n",
      "461\t[[0.48655102 0.51344898]]\n",
      "462\t[[0.51334391 0.48665609]]\n",
      "463\t[[0.48676034 0.51323966]]\n",
      "464\t[[0.51313623 0.48686377]]\n",
      "465\t[[0.4869664 0.5130336]]\n",
      "466\t[[0.51293177 0.48706823]]\n",
      "467\t[[0.48716926 0.51283074]]\n",
      "468\t[[0.5127305 0.4872695]]\n",
      "469\t[[0.48736895 0.51263105]]\n",
      "470\t[[0.51253237 0.48746763]]\n",
      "471\t[[0.48756554 0.51243446]]\n",
      "472\t[[0.51233731 0.48766269]]\n",
      "473\t[[0.48775907 0.51224093]]\n",
      "474\t[[0.5121453 0.4878547]]\n",
      "475\t[[0.48794959 0.51205041]]\n",
      "476\t[[0.51195627 0.48804373]]\n",
      "477\t[[0.48813714 0.51186286]]\n",
      "478\t[[0.51177018 0.48822982]]\n",
      "479\t[[0.48832177 0.51167823]]\n",
      "480\t[[0.51158699 0.48841301]]\n",
      "481\t[[0.48850353 0.51149647]]\n",
      "482\t[[0.51140665 0.48859335]]\n",
      "483\t[[0.48868246 0.51131754]]\n",
      "484\t[[0.51122912 0.48877088]]\n",
      "485\t[[0.48885861 0.51114139]]\n",
      "486\t[[0.51105435 0.48894565]]\n",
      "487\t[[0.48903201 0.51096799]]\n",
      "488\t[[0.5108823 0.4891177]]\n",
      "489\t[[0.48920272 0.51079728]]\n",
      "490\t[[0.51071293 0.48928707]]\n",
      "491\t[[0.48937077 0.51062923]]\n",
      "492\t[[0.51054619 0.48945381]]\n",
      "493\t[[0.4895362 0.5104638]]\n",
      "494\t[[0.51038205 0.48961795]]\n",
      "495\t[[0.48969906 0.51030094]]\n",
      "496\t[[0.51022046 0.48977954]]\n",
      "497\t[[0.48985938 0.51014062]]\n",
      "498\t[[0.51006139 0.48993861]]\n",
      "499\t[[0.49001721 0.50998279]]\n",
      "500\t[[0.5099048 0.4900952]]\n",
      "501\t[[0.49017258 0.50982742]]\n",
      "502\t[[0.50975064 0.49024936]]\n",
      "503\t[[0.49032554 0.50967446]]\n",
      "504\t[[0.50959888 0.49040112]]\n",
      "505\t[[0.49047611 0.50952389]]\n",
      "506\t[[0.50944949 0.49055051]]\n",
      "507\t[[0.49062434 0.50937566]]\n",
      "508\t[[0.50930241 0.49069759]]\n",
      "509\t[[0.49077026 0.50922974]]\n",
      "510\t[[0.50915763 0.49084237]]\n",
      "511\t[[0.49091391 0.50908609]]\n",
      "512\t[[0.5090151 0.4909849]]\n",
      "513\t[[0.49105533 0.50894467]]\n",
      "514\t[[0.50887479 0.49112521]]\n",
      "515\t[[0.49119454 0.50880546]]\n",
      "516\t[[0.50873666 0.49126334]]\n",
      "517\t[[0.49133159 0.50866841]]\n",
      "518\t[[0.50860069 0.49139931]]\n",
      "519\t[[0.49146651 0.50853349]]\n",
      "520\t[[0.50846683 0.49153317]]\n",
      "521\t[[0.49159932 0.50840068]]\n",
      "522\t[[0.50833505 0.49166495]]\n",
      "523\t[[0.49173007 0.50826993]]\n",
      "524\t[[0.50820532 0.49179468]]\n",
      "525\t[[0.49185878 0.50814122]]\n",
      "526\t[[0.50807762 0.49192238]]\n",
      "527\t[[0.49198549 0.50801451]]\n",
      "528\t[[0.5079519 0.4920481]]\n",
      "529\t[[0.49211023 0.50788977]]\n",
      "530\t[[0.50782813 0.49217187]]\n",
      "531\t[[0.49223302 0.50776698]]\n",
      "532\t[[0.5077063 0.4922937]]\n",
      "533\t[[0.49235391 0.50764609]]\n",
      "534\t[[0.50758636 0.49241364]]\n",
      "535\t[[0.49247291 0.50752709]]\n",
      "536\t[[0.50746828 0.49253172]]\n",
      "537\t[[0.49259006 0.50740994]]\n",
      "538\t[[0.50735205 0.49264795]]\n",
      "539\t[[0.49270539 0.50729461]]\n",
      "540\t[[0.50723762 0.49276238]]\n",
      "541\t[[0.49281893 0.50718107]]\n",
      "542\t[[0.50712497 0.49287503]]\n",
      "543\t[[0.49293069 0.50706931]]\n",
      "544\t[[0.50701408 0.49298592]]\n",
      "545\t[[0.49304072 0.50695928]]\n",
      "546\t[[0.50690491 0.49309509]]\n",
      "547\t[[0.49314903 0.50685097]]\n",
      "548\t[[0.50679745 0.49320255]]\n",
      "549\t[[0.49325566 0.50674434]]\n",
      "550\t[[0.50669165 0.49330835]]\n",
      "551\t[[0.49336063 0.50663937]]\n",
      "552\t[[0.5065875 0.4934125]]\n",
      "553\t[[0.49346396 0.50653604]]\n",
      "554\t[[0.50648497 0.49351503]]\n",
      "555\t[[0.49356569 0.50643431]]\n",
      "556\t[[0.50638404 0.49361596]]\n",
      "557\t[[0.49366583 0.50633417]]\n",
      "558\t[[0.50628468 0.49371532]]\n",
      "559\t[[0.49376442 0.50623558]]\n",
      "560\t[[0.50618687 0.49381313]]\n",
      "561\t[[0.49386147 0.50613853]]\n",
      "562\t[[0.50609057 0.49390943]]\n",
      "563\t[[0.49395701 0.50604299]]\n",
      "564\t[[0.50599578 0.49400422]]\n",
      "565\t[[0.49405106 0.50594894]]\n",
      "566\t[[0.50590246 0.49409754]]\n",
      "567\t[[0.49414365 0.50585635]]\n",
      "568\t[[0.5058106 0.4941894]]\n",
      "569\t[[0.4942348 0.5057652]]\n",
      "570\t[[0.50572016 0.49427984]]\n",
      "571\t[[0.49432453 0.50567547]]\n",
      "572\t[[0.50563113 0.49436887]]\n",
      "573\t[[0.49441286 0.50558714]]\n",
      "574\t[[0.50554349 0.49445651]]\n",
      "575\t[[0.49449982 0.50550018]]\n",
      "576\t[[0.50545721 0.49454279]]\n",
      "577\t[[0.49458542 0.50541458]]\n",
      "578\t[[0.50537228 0.49462772]]\n",
      "579\t[[0.4946697 0.5053303]]\n",
      "580\t[[0.50528866 0.49471134]]\n",
      "581\t[[0.49475266 0.50524734]]\n",
      "582\t[[0.50520635 0.49479365]]\n",
      "583\t[[0.49483433 0.50516567]]\n",
      "584\t[[0.50512532 0.49487468]]\n",
      "585\t[[0.49491472 0.50508528]]\n",
      "586\t[[0.50504555 0.49495445]]\n",
      "587\t[[0.49499387 0.50500613]]\n",
      "588\t[[0.50496702 0.49503298]]\n",
      "589\t[[0.49507179 0.50492821]]\n",
      "590\t[[0.50488971 0.49511029]]\n",
      "591\t[[0.49514849 0.50485151]]\n",
      "592\t[[0.50481361 0.49518639]]\n",
      "593\t[[0.495224 0.504776]]\n",
      "594\t[[0.50473869 0.49526131]]\n",
      "595\t[[0.49529833 0.50470167]]\n",
      "596\t[[0.50466494 0.49533506]]\n",
      "597\t[[0.49537151 0.50462849]]\n",
      "598\t[[0.50459233 0.49540767]]\n",
      "599\t[[0.49544355 0.50455645]]\n",
      "600\t[[0.50452086 0.49547914]]\n",
      "601\t[[0.49551446 0.50448554]]\n",
      "602\t[[0.50445049 0.49554951]]\n",
      "603\t[[0.49558427 0.50441573]]\n",
      "604\t[[0.50438123 0.49561877]]\n",
      "605\t[[0.495653 0.504347]]\n",
      "606\t[[0.50431304 0.49568696]]\n",
      "607\t[[0.49572066 0.50427934]]\n",
      "608\t[[0.50424591 0.49575409]]\n",
      "609\t[[0.49578726 0.50421274]]\n",
      "610\t[[0.50417983 0.49582017]]\n",
      "611\t[[0.49585283 0.50414717]]\n",
      "612\t[[0.50411477 0.49588523]]\n",
      "613\t[[0.49591737 0.50408263]]\n",
      "614\t[[0.50405073 0.49594927]]\n",
      "615\t[[0.49598092 0.50401908]]\n",
      "616\t[[0.50398768 0.49601232]]\n",
      "617\t[[0.49604347 0.50395653]]\n",
      "618\t[[0.50392562 0.49607438]]\n",
      "619\t[[0.49610505 0.50389495]]\n",
      "620\t[[0.50386452 0.49613548]]\n",
      "621\t[[0.49616567 0.50383433]]\n",
      "622\t[[0.50380437 0.49619563]]\n",
      "623\t[[0.49622535 0.50377465]]\n",
      "624\t[[0.50374516 0.49625484]]\n",
      "625\t[[0.4962841 0.5037159]]\n",
      "626\t[[0.50368687 0.49631313]]\n",
      "627\t[[0.49634193 0.50365807]]\n",
      "628\t[[0.50362949 0.49637051]]\n",
      "629\t[[0.49639886 0.50360114]]\n",
      "630\t[[0.503573 0.496427]]\n",
      "631\t[[0.49645491 0.50354509]]\n",
      "632\t[[0.50351739 0.49648261]]\n",
      "633\t[[0.49651009 0.50348991]]\n",
      "634\t[[0.50346265 0.49653735]]\n",
      "635\t[[0.4965644 0.5034356]]\n",
      "636\t[[0.50340876 0.49659124]]\n",
      "637\t[[0.49661788 0.50338212]]\n",
      "638\t[[0.5033557 0.4966443]]\n",
      "639\t[[0.49667051 0.50332949]]\n",
      "640\t[[0.50330347 0.49669653]]\n",
      "641\t[[0.49672233 0.50327767]]\n",
      "642\t[[0.50325206 0.49674794]]\n",
      "643\t[[0.49677335 0.50322665]]\n",
      "644\t[[0.50320144 0.49679856]]\n",
      "645\t[[0.49682357 0.50317643]]\n",
      "646\t[[0.50315162 0.49684838]]\n",
      "647\t[[0.49687301 0.50312699]]\n",
      "648\t[[0.50310256 0.49689744]]\n",
      "649\t[[0.49692167 0.50307833]]\n",
      "650\t[[0.50305428 0.49694572]]\n",
      "651\t[[0.49696959 0.50303041]]\n",
      "652\t[[0.50300674 0.49699326]]\n",
      "653\t[[0.49701675 0.50298325]]\n",
      "654\t[[0.50295994 0.49704006]]\n",
      "655\t[[0.49706318 0.50293682]]\n",
      "656\t[[0.50291387 0.49708613]]\n"
     ]
    },
    {
     "name": "stdout",
     "output_type": "stream",
     "text": [
      "657\t[[0.49710889 0.50289111]]\n",
      "658\t[[0.50286852 0.49713148]]\n",
      "659\t[[0.49715389 0.50284611]]\n",
      "660\t[[0.50282388 0.49717612]]\n",
      "661\t[[0.49719818 0.50280182]]\n",
      "662\t[[0.50277993 0.49722007]]\n",
      "663\t[[0.49724179 0.50275821]]\n",
      "664\t[[0.50273666 0.49726334]]\n",
      "665\t[[0.49728472 0.50271528]]\n",
      "666\t[[0.50269407 0.49730593]]\n",
      "667\t[[0.49732698 0.50267302]]\n",
      "668\t[[0.50265214 0.49734786]]\n",
      "669\t[[0.49736858 0.50263142]]\n",
      "670\t[[0.50261086 0.49738914]]\n",
      "671\t[[0.49740954 0.50259046]]\n",
      "672\t[[0.50257022 0.49742978]]\n",
      "673\t[[0.49744986 0.50255014]]\n",
      "674\t[[0.50253022 0.49746978]]\n",
      "675\t[[0.49748955 0.50251045]]\n",
      "676\t[[0.50249084 0.49750916]]\n",
      "677\t[[0.49752862 0.50247138]]\n",
      "678\t[[0.50245207 0.49754793]]\n",
      "679\t[[0.49756708 0.50243292]]\n",
      "680\t[[0.50241391 0.49758609]]\n",
      "681\t[[0.49760495 0.50239505]]\n",
      "682\t[[0.50237634 0.49762366]]\n",
      "683\t[[0.49764223 0.50235777]]\n",
      "684\t[[0.50233935 0.49766065]]\n",
      "685\t[[0.49767892 0.50232108]]\n",
      "686\t[[0.50230294 0.49769706]]\n",
      "687\t[[0.49771505 0.50228495]]\n",
      "688\t[[0.5022671 0.4977329]]\n",
      "689\t[[0.49775061 0.50224939]]\n",
      "690\t[[0.50223182 0.49776818]]\n",
      "691\t[[0.49778562 0.50221438]]\n",
      "692\t[[0.50219708 0.49780292]]\n",
      "693\t[[0.49782008 0.50217992]]\n",
      "694\t[[0.50216288 0.49783712]]\n",
      "695\t[[0.49785401 0.50214599]]\n",
      "696\t[[0.50212922 0.49787078]]\n",
      "697\t[[0.49788741 0.50211259]]\n",
      "698\t[[0.50209608 0.49790392]]\n",
      "699\t[[0.49792029 0.50207971]]\n",
      "700\t[[0.50206346 0.49793654]]\n",
      "701\t[[0.49795266 0.50204734]]\n",
      "702\t[[0.50203134 0.49796866]]\n",
      "703\t[[0.49798453 0.50201547]]\n",
      "704\t[[0.50199973 0.49800027]]\n",
      "705\t[[0.49801589 0.50198411]]\n",
      "706\t[[0.5019686 0.4980314]]\n",
      "707\t[[0.49804678 0.50195322]]\n",
      "708\t[[0.50193797 0.49806203]]\n",
      "709\t[[0.49807718 0.50192282]]\n",
      "710\t[[0.5019078 0.4980922]]\n",
      "711\t[[0.4981071 0.5018929]]\n",
      "712\t[[0.50187811 0.49812189]]\n",
      "713\t[[0.49813656 0.50186344]]\n",
      "714\t[[0.50184888 0.49815112]]\n",
      "715\t[[0.49816557 0.50183443]]\n",
      "716\t[[0.5018201 0.4981799]]\n",
      "717\t[[0.49819412 0.50180588]]\n",
      "718\t[[0.50179177 0.49820823]]\n",
      "719\t[[0.49822222 0.50177778]]\n",
      "720\t[[0.50176389 0.49823611]]\n",
      "721\t[[0.49824989 0.50175011]]\n",
      "722\t[[0.50173643 0.49826357]]\n",
      "723\t[[0.49827713 0.50172287]]\n",
      "724\t[[0.50170941 0.49829059]]\n",
      "725\t[[0.49830395 0.50169605]]\n",
      "726\t[[0.5016828 0.4983172]]\n",
      "727\t[[0.49833034 0.50166966]]\n",
      "728\t[[0.50165661 0.49834339]]\n",
      "729\t[[0.49835633 0.50164367]]\n",
      "730\t[[0.50163083 0.49836917]]\n",
      "731\t[[0.49838191 0.50161809]]\n",
      "732\t[[0.50160545 0.49839455]]\n",
      "733\t[[0.4984071 0.5015929]]\n",
      "734\t[[0.50158046 0.49841954]]\n",
      "735\t[[0.49843189 0.50156811]]\n",
      "736\t[[0.50155586 0.49844414]]\n",
      "737\t[[0.49845629 0.50154371]]\n",
      "738\t[[0.50153165 0.49846835]]\n",
      "739\t[[0.49848032 0.50151968]]\n",
      "740\t[[0.50150781 0.49849219]]\n",
      "741\t[[0.49850397 0.50149603]]\n",
      "742\t[[0.50148434 0.49851566]]\n",
      "743\t[[0.49852726 0.50147274]]\n",
      "744\t[[0.50146124 0.49853876]]\n",
      "745\t[[0.49855018 0.50144982]]\n",
      "746\t[[0.5014385 0.4985615]]\n",
      "747\t[[0.49857274 0.50142726]]\n",
      "748\t[[0.50141611 0.49858389]]\n",
      "749\t[[0.49859496 0.50140504]]\n",
      "750\t[[0.50139407 0.49860593]]\n",
      "751\t[[0.49861682 0.50138318]]\n",
      "752\t[[0.50137237 0.49862763]]\n",
      "753\t[[0.49863835 0.50136165]]\n",
      "754\t[[0.50135101 0.49864899]]\n",
      "755\t[[0.49865954 0.50134046]]\n",
      "756\t[[0.50132998 0.49867002]]\n",
      "757\t[[0.49868041 0.50131959]]\n",
      "758\t[[0.50130928 0.49869072]]\n",
      "759\t[[0.49870095 0.50129905]]\n",
      "760\t[[0.50128891 0.49871109]]\n",
      "761\t[[0.49872116 0.50127884]]\n",
      "762\t[[0.50126884 0.49873116]]\n",
      "763\t[[0.49874107 0.50125893]]\n",
      "764\t[[0.5012491 0.4987509]]\n",
      "765\t[[0.49876066 0.50123934]]\n",
      "766\t[[0.50122966 0.49877034]]\n",
      "767\t[[0.49877995 0.50122005]]\n",
      "768\t[[0.50121052 0.49878948]]\n",
      "769\t[[0.49879894 0.50120106]]\n",
      "770\t[[0.50119168 0.49880832]]\n",
      "771\t[[0.49881763 0.50118237]]\n",
      "772\t[[0.50117313 0.49882687]]\n",
      "773\t[[0.49883604 0.50116396]]\n",
      "774\t[[0.50115487 0.49884513]]\n",
      "775\t[[0.49885415 0.50114585]]\n",
      "776\t[[0.5011369 0.4988631]]\n",
      "777\t[[0.49887199 0.50112801]]\n",
      "778\t[[0.5011192 0.4988808]]\n",
      "779\t[[0.49888954 0.50111046]]\n",
      "780\t[[0.50110178 0.49889822]]\n",
      "781\t[[0.49890682 0.50109318]]\n",
      "782\t[[0.50108463 0.49891537]]\n",
      "783\t[[0.49892384 0.50107616]]\n",
      "784\t[[0.50106775 0.49893225]]\n",
      "785\t[[0.49894059 0.50105941]]\n",
      "786\t[[0.50105114 0.49894886]]\n",
      "787\t[[0.49895708 0.50104292]]\n",
      "788\t[[0.50103478 0.49896522]]\n",
      "789\t[[0.49897331 0.50102669]]\n",
      "790\t[[0.50101867 0.49898133]]\n",
      "791\t[[0.49898929 0.50101071]]\n",
      "792\t[[0.50100282 0.49899718]]\n",
      "793\t[[0.49900502 0.50099498]]\n",
      "794\t[[0.50098721 0.49901279]]\n",
      "795\t[[0.4990205 0.5009795]]\n",
      "796\t[[0.50097184 0.49902816]]\n",
      "797\t[[0.49903575 0.50096425]]\n",
      "798\t[[0.50095672 0.49904328]]\n",
      "799\t[[0.49905076 0.50094924]]\n",
      "800\t[[0.50094183 0.49905817]]\n",
      "801\t[[0.49906553 0.50093447]]\n",
      "802\t[[0.50092717 0.49907283]]\n",
      "803\t[[0.49908008 0.50091992]]\n",
      "804\t[[0.50091274 0.49908726]]\n",
      "805\t[[0.49909439 0.50090561]]\n",
      "806\t[[0.50089853 0.49910147]]\n",
      "807\t[[0.49910849 0.50089151]]\n",
      "808\t[[0.50088455 0.49911545]]\n",
      "809\t[[0.49912236 0.50087764]]\n",
      "810\t[[0.50087078 0.49912922]]\n",
      "811\t[[0.49913602 0.50086398]]\n",
      "812\t[[0.50085723 0.49914277]]\n",
      "813\t[[0.49914947 0.50085053]]\n",
      "814\t[[0.50084389 0.49915611]]\n",
      "815\t[[0.49916271 0.50083729]]\n",
      "816\t[[0.50083075 0.49916925]]\n",
      "817\t[[0.49917574 0.50082426]]\n",
      "818\t[[0.50081782 0.49918218]]\n",
      "819\t[[0.49918857 0.50081143]]\n",
      "820\t[[0.50080509 0.49919491]]\n",
      "821\t[[0.4992012 0.5007988]]\n",
      "822\t[[0.50079256 0.49920744]]\n",
      "823\t[[0.49921363 0.50078637]]\n",
      "824\t[[0.50078023 0.49921977]]\n",
      "825\t[[0.49922587 0.50077413]]\n",
      "826\t[[0.50076808 0.49923192]]\n",
      "827\t[[0.49923792 0.50076208]]\n",
      "828\t[[0.50075613 0.49924387]]\n",
      "829\t[[0.49924978 0.50075022]]\n",
      "830\t[[0.50074436 0.49925564]]\n",
      "831\t[[0.49926145 0.50073855]]\n",
      "832\t[[0.50073278 0.49926722]]\n",
      "833\t[[0.49927295 0.50072705]]\n",
      "834\t[[0.50072137 0.49927863]]\n",
      "835\t[[0.49928426 0.50071574]]\n",
      "836\t[[0.50071014 0.49928986]]\n",
      "837\t[[0.4992954 0.5007046]]\n",
      "838\t[[0.50069909 0.49930091]]\n",
      "839\t[[0.49930637 0.50069363]]\n",
      "840\t[[0.50068821 0.49931179]]\n",
      "841\t[[0.49931717 0.50068283]]\n",
      "842\t[[0.5006775 0.4993225]]\n",
      "843\t[[0.49932779 0.50067221]]\n",
      "844\t[[0.50066695 0.49933305]]\n",
      "845\t[[0.49933826 0.50066174]]\n",
      "846\t[[0.50065657 0.49934343]]\n",
      "847\t[[0.49934856 0.50065144]]\n",
      "848\t[[0.50064636 0.49935364]]\n",
      "849\t[[0.49935869 0.50064131]]\n",
      "850\t[[0.5006363 0.4993637]]\n",
      "851\t[[0.49936868 0.50063132]]\n",
      "852\t[[0.50062639 0.49937361]]\n",
      "853\t[[0.4993785 0.5006215]]\n",
      "854\t[[0.50061664 0.49938336]]\n",
      "855\t[[0.49938817 0.50061183]]\n",
      "856\t[[0.50060705 0.49939295]]\n",
      "857\t[[0.4993977 0.5006023]]\n",
      "858\t[[0.5005976 0.4994024]]\n",
      "859\t[[0.49940707 0.50059293]]\n",
      "860\t[[0.5005883 0.4994117]]\n",
      "861\t[[0.4994163 0.5005837]]\n",
      "862\t[[0.50057914 0.49942086]]\n",
      "863\t[[0.49942538 0.50057462]]\n",
      "864\t[[0.50057013 0.49942987]]\n",
      "865\t[[0.49943433 0.50056567]]\n",
      "866\t[[0.50056125 0.49943875]]\n",
      "867\t[[0.49944313 0.50055687]]\n",
      "868\t[[0.50055252 0.49944748]]\n",
      "869\t[[0.4994518 0.5005482]]\n",
      "870\t[[0.50054392 0.49945608]]\n",
      "871\t[[0.49946033 0.50053967]]\n",
      "872\t[[0.50053545 0.49946455]]\n",
      "873\t[[0.49946873 0.50053127]]\n",
      "874\t[[0.50052712 0.49947288]]\n",
      "875\t[[0.499477 0.500523]]\n",
      "876\t[[0.50051891 0.49948109]]\n",
      "877\t[[0.49948514 0.50051486]]\n",
      "878\t[[0.50051084 0.49948916]]\n",
      "879\t[[0.49949315 0.50050685]]\n",
      "880\t[[0.50050289 0.49949711]]\n",
      "881\t[[0.49950104 0.50049896]]\n",
      "882\t[[0.50049506 0.49950494]]\n",
      "883\t[[0.49950881 0.50049119]]\n",
      "884\t[[0.50048736 0.49951264]]\n",
      "885\t[[0.49951645 0.50048355]]\n",
      "886\t[[0.50047977 0.49952023]]\n",
      "887\t[[0.49952398 0.50047602]]\n",
      "888\t[[0.5004723 0.4995277]]\n",
      "889\t[[0.49953139 0.50046861]]\n",
      "890\t[[0.50046495 0.49953505]]\n",
      "891\t[[0.49953868 0.50046132]]\n",
      "892\t[[0.50045772 0.49954228]]\n",
      "893\t[[0.49954586 0.50045414]]\n",
      "894\t[[0.50045059 0.49954941]]\n",
      "895\t[[0.49955293 0.50044707]]\n",
      "896\t[[0.50044358 0.49955642]]\n",
      "897\t[[0.49955989 0.50044011]]\n",
      "898\t[[0.50043668 0.49956332]]\n",
      "899\t[[0.49956674 0.50043326]]\n",
      "900\t[[0.50042988 0.49957012]]\n",
      "901\t[[0.49957348 0.50042652]]\n",
      "902\t[[0.50042319 0.49957681]]\n",
      "903\t[[0.49958012 0.50041988]]\n",
      "904\t[[0.5004166 0.4995834]]\n",
      "905\t[[0.49958665 0.50041335]]\n",
      "906\t[[0.50041012 0.49958988]]\n",
      "907\t[[0.49959309 0.50040691]]\n",
      "908\t[[0.50040373 0.49959627]]\n",
      "909\t[[0.49959942 0.50040058]]\n",
      "910\t[[0.50039745 0.49960255]]\n",
      "911\t[[0.49960565 0.50039435]]\n",
      "912\t[[0.50039127 0.49960873]]\n",
      "913\t[[0.49961179 0.50038821]]\n",
      "914\t[[0.50038518 0.49961482]]\n",
      "915\t[[0.49961783 0.50038217]]\n",
      "916\t[[0.50037918 0.49962082]]\n",
      "917\t[[0.49962378 0.50037622]]\n",
      "918\t[[0.50037328 0.49962672]]\n",
      "919\t[[0.49962964 0.50037036]]\n",
      "920\t[[0.50036747 0.49963253]]\n",
      "921\t[[0.4996354 0.5003646]]\n",
      "922\t[[0.50036175 0.49963825]]\n",
      "923\t[[0.49964108 0.50035892]]\n",
      "924\t[[0.50035612 0.49964388]]\n",
      "925\t[[0.49964666 0.50035334]]\n",
      "926\t[[0.50035058 0.49964942]]\n",
      "927\t[[0.49965216 0.50034784]]\n",
      "928\t[[0.50034512 0.49965488]]\n",
      "929\t[[0.49965758 0.50034242]]\n",
      "930\t[[0.50033975 0.49966025]]\n",
      "931\t[[0.4996629 0.5003371]]\n",
      "932\t[[0.50033446 0.49966554]]\n",
      "933\t[[0.49966815 0.50033185]]\n",
      "934\t[[0.50032926 0.49967074]]\n",
      "935\t[[0.49967332 0.50032668]]\n",
      "936\t[[0.50032413 0.49967587]]\n",
      "937\t[[0.4996784 0.5003216]]\n",
      "938\t[[0.50031909 0.49968091]]\n",
      "939\t[[0.49968341 0.50031659]]\n",
      "940\t[[0.50031412 0.49968588]]\n",
      "941\t[[0.49968833 0.50031167]]\n",
      "942\t[[0.50030923 0.49969077]]\n",
      "943\t[[0.49969318 0.50030682]]\n",
      "944\t[[0.50030442 0.49969558]]\n",
      "945\t[[0.49969796 0.50030204]]\n",
      "946\t[[0.50029968 0.49970032]]\n",
      "947\t[[0.49970266 0.50029734]]\n",
      "948\t[[0.50029502 0.49970498]]\n",
      "949\t[[0.49970729 0.50029271]]\n",
      "950\t[[0.50029042 0.49970958]]\n",
      "951\t[[0.49971184 0.50028816]]\n",
      "952\t[[0.5002859 0.4997141]]\n",
      "953\t[[0.49971633 0.50028367]]\n",
      "954\t[[0.50028145 0.49971855]]\n",
      "955\t[[0.49972074 0.50027926]]\n",
      "956\t[[0.50027707 0.49972293]]\n",
      "957\t[[0.49972509 0.50027491]]\n",
      "958\t[[0.50027276 0.49972724]]\n",
      "959\t[[0.49972937 0.50027063]]\n",
      "960\t[[0.50026852 0.49973148]]\n",
      "961\t[[0.49973358 0.50026642]]\n",
      "962\t[[0.50026434 0.49973566]]\n",
      "963\t[[0.49973773 0.50026227]]\n",
      "964\t[[0.50026022 0.49973978]]\n",
      "965\t[[0.49974181 0.50025819]]\n",
      "966\t[[0.50025617 0.49974383]]\n",
      "967\t[[0.49974583 0.50025417]]\n",
      "968\t[[0.50025219 0.49974781]]\n",
      "969\t[[0.49974978 0.50025022]]\n",
      "970\t[[0.50024826 0.49975174]]\n",
      "971\t[[0.49975368 0.50024632]]\n",
      "972\t[[0.5002444 0.4997556]]\n",
      "973\t[[0.49975751 0.50024249]]\n",
      "974\t[[0.50024059 0.49975941]]\n",
      "975\t[[0.49976129 0.50023871]]\n",
      "976\t[[0.50023685 0.49976315]]\n",
      "977\t[[0.499765 0.500235]]\n",
      "978\t[[0.50023316 0.49976684]]\n",
      "979\t[[0.49976866 0.50023134]]\n",
      "980\t[[0.50022953 0.49977047]]\n",
      "981\t[[0.49977226 0.50022774]]\n",
      "982\t[[0.50022596 0.49977404]]\n",
      "983\t[[0.4997758 0.5002242]]\n",
      "984\t[[0.50022244 0.49977756]]\n",
      "985\t[[0.49977929 0.50022071]]\n",
      "986\t[[0.50021898 0.49978102]]\n",
      "987\t[[0.49978273 0.50021727]]\n",
      "988\t[[0.50021557 0.49978443]]\n",
      "989\t[[0.49978611 0.50021389]]\n",
      "990\t[[0.50021222 0.49978778]]\n",
      "991\t[[0.49978944 0.50021056]]\n",
      "992\t[[0.50020892 0.49979108]]\n",
      "993\t[[0.49979272 0.50020728]]\n",
      "994\t[[0.50020566 0.49979434]]\n",
      "995\t[[0.49979594 0.50020406]]\n",
      "996\t[[0.50020246 0.49979754]]\n",
      "997\t[[0.49979912 0.50020088]]\n",
      "998\t[[0.50019931 0.49980069]]\n",
      "999\t[[0.49980224 0.50019776]]\n",
      "1000\t[[0.50019621 0.49980379]]\n",
      "1001\t[[0.49980532 0.50019468]]\n",
      "1002\t[[0.50019316 0.49980684]]\n",
      "1003\t[[0.49980835 0.50019165]]\n",
      "1004\t[[0.50019015 0.49980985]]\n",
      "1005\t[[0.49981134 0.50018866]]\n",
      "1006\t[[0.50018719 0.49981281]]\n",
      "1007\t[[0.49981427 0.50018573]]\n",
      "1008\t[[0.50018428 0.49981572]]\n",
      "1009\t[[0.49981716 0.50018284]]\n",
      "1010\t[[0.50018141 0.49981859]]\n",
      "1011\t[[0.49982001 0.50017999]]\n",
      "1012\t[[0.50017859 0.49982141]]\n",
      "1013\t[[0.49982281 0.50017719]]\n",
      "1014\t[[0.50017581 0.49982419]]\n",
      "1015\t[[0.49982557 0.50017443]]\n",
      "1016\t[[0.50017307 0.49982693]]\n",
      "1017\t[[0.49982828 0.50017172]]\n",
      "1018\t[[0.50017038 0.49982962]]\n",
      "1019\t[[0.49983095 0.50016905]]\n",
      "1020\t[[0.50016772 0.49983228]]\n",
      "1021\t[[0.49983359 0.50016641]]\n",
      "1022\t[[0.50016511 0.49983489]]\n",
      "1023\t[[0.49983618 0.50016382]]\n",
      "1024\t[[0.50016254 0.49983746]]\n"
     ]
    }
   ],
   "source": [
    "for i in range(1024):\n",
    "  x = np.dot(x, P)\n",
    "  print(str(i+1) + \"\\t\" + str(x))\n",
    "  stateHist = np.append(stateHist, x, axis=0)\n",
    "  dfDistrHist = pd.DataFrame(stateHist)"
   ]
  },
  {
   "cell_type": "code",
   "execution_count": 93,
   "metadata": {
    "cell_style": "split",
    "scrolled": true,
    "slideshow": {
     "slide_type": "fragment"
    }
   },
   "outputs": [
    {
     "data": {
      "image/png": "[encoded data removed]",
      "text/plain": [
       "<Figure size 432x288 with 1 Axes>"
      ]
     },
     "metadata": {
      "needs_background": "light"
     },
     "output_type": "display_data"
    }
   ],
   "source": [
    "dfDistrHist.plot()\n",
    "pyplot.show()"
   ]
  },
  {
   "cell_type": "code",
   "execution_count": 95,
   "metadata": {
    "cell_style": "split",
    "slideshow": {
     "slide_type": "fragment"
    }
   },
   "outputs": [
    {
     "data": {
      "text/plain": [
       "5.2841200970377145e-08"
      ]
     },
     "execution_count": 95,
     "metadata": {},
     "output_type": "execute_result"
    }
   ],
   "source": [
    "x = [1,0]\n",
    "r = np.dot(x, matrix_power(P,2048))\n",
    "d_tv(r, unif(2))\n",
    "\n"
   ]
  },
  {
   "cell_type": "markdown",
   "metadata": {
    "slideshow": {
     "slide_type": "slide"
    }
   },
   "source": [
    "**Theorem 5.2 (The Markov chain convergence theorem)** Let $(X_0, X_1, \\ldots)$ be an irreducible aperiodic Markov chain with state space $S = \\{s_1, \\ldots, s_k\\}$, transition matrix $P$, and arbitrary initial distribution $\\mu^{(0)}$. Then for any distribution $\\pi$ which is stationary for the transition matrix $P$, we have \n",
    "$$\\mu^{(n)} \\xrightarrow{TV} \\pi.$$"
   ]
  },
  {
   "cell_type": "markdown",
   "metadata": {
    "slideshow": {
     "slide_type": "fragment"
    }
   },
   "source": [
    "**Theorem 5.3 (Uniqueness of the stationary distribution)** Any irreducible and aperiodic Markov chain has exactly one stationary distribution."
   ]
  },
  {
   "cell_type": "code",
   "execution_count": null,
   "metadata": {},
   "outputs": [],
   "source": []
  },
  {
   "cell_type": "markdown",
   "metadata": {
    "slideshow": {
     "slide_type": "slide"
    }
   },
   "source": [
    "**Theorem 5.2 (The Markov chain convergence theorem)** Let $(X_0, X_1, \\ldots)$ be an irreducible aperiodic Markov chain with state space $S = \\{s_1, \\ldots, s_k\\}$, transition matrix $P$, and arbitrary initial distribution $\\mu^{(0)}$. Then for any distribution $\\pi$ which is stationary for the transition matrix $P$, we have \n",
    "$$\\mu^{(n)} \\xrightarrow{TV} \\pi.$$"
   ]
  },
  {
   "cell_type": "markdown",
   "metadata": {
    "slideshow": {
     "slide_type": "slide"
    }
   },
   "source": [
    "**Definition 6.1** Let $(X_0, X_1, \\ldots)$ be a Markov chain with state space $S = \\{s_1, \\ldots, s_k\\}$ and transition matrix $P$. A probability distribution $\\pi$ on $S$ is said to be **reversible** for the chain (of for the transition matrix $P$) if for all $i, j \\in \\{1, \\ldots, k\\}$ we have \n",
    "$$\\pi_i P_{i, j} = \\pi_j P_{j,i}.$$\n",
    "The Markov chain is said to be reversible if there exists a reversible distribution for it."
   ]
  },
  {
   "cell_type": "markdown",
   "metadata": {
    "slideshow": {
     "slide_type": "fragment"
    }
   },
   "source": [
    "**Theorem 6.1** Let $(X_0, X_1, \\ldots)$ be a Markov chain with state space $S = \\{s_1, \\ldots, s_k\\}$ and transition matrix $P$. If $\\pi$ is a reversible distribution for the chain, then it is also a stationary distribution for the chain."
   ]
  },
  {
   "cell_type": "markdown",
   "metadata": {
    "slideshow": {
     "slide_type": "fragment"
    }
   },
   "source": [
    "Proof: we need to show that:\n",
    "$$\\pi_j = \\sum_{i=1}^k \\pi_i P_{i, j}$$"
   ]
  },
  {
   "cell_type": "markdown",
   "metadata": {
    "slideshow": {
     "slide_type": "fragment"
    }
   },
   "source": [
    "$$\\pi_j = \\pi_j 1 = \\pi_j \\sum_{i=1}^k P_{j,i} = \\sum_{i=1}^k \\pi_j P_{j,i} = \\sum_{i=1}^k \\pi_i P_{i,j}$$"
   ]
  },
  {
   "cell_type": "markdown",
   "metadata": {
    "cell_style": "split",
    "slideshow": {
     "slide_type": "slide"
    }
   },
   "source": [
    "**Example: Random walks on graphs**\n",
    "\n",
    "![graph](img/graph.png)"
   ]
  },
  {
   "cell_type": "code",
   "execution_count": 29,
   "metadata": {
    "cell_style": "split",
    "slideshow": {
     "slide_type": "fragment"
    }
   },
   "outputs": [],
   "source": [
    "Pg = np.array([[0,1,1,1,0,0],\n",
    "[1,0,1,1,1,0],\n",
    "[1,1,0,1,1,1],\n",
    "[1,1,1,0,1,1],\n",
    "[0,1,1,1,0,1],\n",
    "[0,0,1,1,1,0]]\n",
    ")\n",
    "P = np.array([[0,1/3,1/3,1/3,0,0],\n",
    "[1/4,0,1/4,1/4,1/4,0],\n",
    "[1/5,1/5,0,1/5,1/5,1/5],\n",
    "[1/5,1/5,1/5,0,1/5,1/5],\n",
    "[0,1/4,1/4,1/4,0,1/4],\n",
    "[0,0,1/3,1/3,1/3,0]])"
   ]
  },
  {
   "cell_type": "code",
   "execution_count": 36,
   "metadata": {
    "cell_style": "split",
    "slideshow": {
     "slide_type": "fragment"
    }
   },
   "outputs": [
    {
     "data": {
      "text/plain": [
       "(array([1.+0.j]),\n",
       " array([[-0.3+0.j],\n",
       "        [-0.4+0.j],\n",
       "        [-0.5+0.j],\n",
       "        [-0.5+0.j],\n",
       "        [-0.4+0.j],\n",
       "        [-0.3+0.j]]))"
      ]
     },
     "execution_count": 36,
     "metadata": {},
     "output_type": "execute_result"
    }
   ],
   "source": [
    "from scipy.sparse import linalg as sla\n",
    "sla.eigs(np.transpose(P), k=1, sigma=1)\n"
   ]
  },
  {
   "cell_type": "code",
   "execution_count": null,
   "metadata": {},
   "outputs": [],
   "source": []
  }
 ],
 "metadata": {
  "celltoolbar": "Slideshow",
  "colab": {
   "collapsed_sections": [],
   "include_colab_link": true,
   "name": "randomWalk1.ipynb",
   "provenance": [],
   "toc_visible": true
  },
  "kernelspec": {
   "display_name": "Python 3",
   "language": "python",
   "name": "python3"
  },
  "language_info": {
   "codemirror_mode": {
    "name": "ipython",
    "version": 3
   },
   "file_extension": ".py",
   "mimetype": "text/x-python",
   "name": "python",
   "nbconvert_exporter": "python",
   "pygments_lexer": "ipython3",
   "version": "3.7.6"
  },
  "rise": {
   "height": "90%",
   "width": "90%"
  }
 },
 "nbformat": 4,
 "nbformat_minor": 1
}
