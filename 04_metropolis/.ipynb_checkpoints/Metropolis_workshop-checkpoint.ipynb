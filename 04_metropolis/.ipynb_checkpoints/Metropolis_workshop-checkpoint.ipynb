{
 "cells": [
  {
   "cell_type": "code",
   "execution_count": 1,
   "metadata": {
    "colab": {},
    "colab_type": "code",
    "id": "KwpUUrImZBrs"
   },
   "outputs": [],
   "source": [
    "import numpy as np\n",
    "import matplotlib.pyplot as plt\n",
    "import copy as cp\n",
    "import pandas as pd\n",
    "import inspect\n",
    "import urllib.request\n",
    "import re\n",
    "from collections import Counter\n",
    "import string; \n",
    "\n",
    "\n"
   ]
  },
  {
   "cell_type": "markdown",
   "metadata": {
    "colab_type": "text",
    "id": "myhP1wFAbAZo"
   },
   "source": [
    "## Read in cryptogram and book. Clean data"
   ]
  },
  {
   "cell_type": "code",
   "execution_count": 2,
   "metadata": {
    "colab": {},
    "colab_type": "code",
    "id": "qGC_udySSt5R"
   },
   "outputs": [],
   "source": [
    "\n",
    "cryptogram_data=urllib.request.urlopen(\"https://raw.githubusercontent.com/lorek/datasets/master/encrypted_message.txt\")\n",
    "for line in cryptogram_data:\n",
    "  cryptogram=line.decode('utf-8')\n",
    "\n",
    "  "
   ]
  },
  {
   "cell_type": "markdown",
   "metadata": {
    "colab_type": "text",
    "id": "ky82zBIHbF9A"
   },
   "source": []
  },
  {
   "cell_type": "code",
   "execution_count": 3,
   "metadata": {
    "colab": {
     "base_uri": "https://localhost:8080/",
     "height": 86
    },
    "colab_type": "code",
    "id": "wHHwc7zqUjVG",
    "outputId": "40b7467f-c55c-4237-fa01-cda1ce34a02b"
   },
   "outputs": [
    {
     "name": "stdout",
     "output_type": "stream",
     "text": [
      "sjhmsXLmKNKmNomsXLmIpwpPjKmoXmKjeBgComoQNhmIjhhpPjmnFjphjmaBNojmjIpNFmoXmoQjmFjeoLBjBmaNoQmhFXPpwmGj\n",
      "omAXIjmlwmqpImijgmbXamGXXwmEXmDMjwmnpCjBmOLjjwmvXXTmzjMjwmdBpMjFmYwNMjBhjmfNKjXmJXXFm BpgmsjhmujkBp\n",
      "\n",
      "10016\n"
     ]
    }
   ],
   "source": [
    "print(cryptogram[:100])\n",
    "print(cryptogram[-100:])\n",
    "\n",
    "print(len(cryptogram))\n"
   ]
  },
  {
   "cell_type": "markdown",
   "metadata": {
    "colab_type": "text",
    "id": "oTbUTGbtJ3ya"
   },
   "source": [
    "Read Tolsto's \"War and Peace\""
   ]
  },
  {
   "cell_type": "code",
   "execution_count": 4,
   "metadata": {
    "colab": {
     "base_uri": "https://localhost:8080/",
     "height": 34
    },
    "colab_type": "code",
    "id": "1_Fk7qC6VeKy",
    "outputId": "75a5182e-5b68-4a6f-dfd1-020157f3082b"
   },
   "outputs": [
    {
     "name": "stdout",
     "output_type": "stream",
     "text": [
      "3238412\n"
     ]
    }
   ],
   "source": [
    "book_data=urllib.request.urlopen(\"https://raw.githubusercontent.com/lorek/datasets/master/war_and_peace.txt\")\n",
    "book=\"\"\n",
    "for line in book_data:\n",
    "  book=book+str(line.decode('utf-8'))\n",
    "print(len(book))"
   ]
  },
  {
   "cell_type": "code",
   "execution_count": 5,
   "metadata": {
    "colab": {
     "base_uri": "https://localhost:8080/",
     "height": 156
    },
    "colab_type": "code",
    "id": "k2uY7oriVksr",
    "outputId": "5f34d11f-3ea6-42ea-f991-cac03d0c395a"
   },
   "outputs": [
    {
     "name": "stdout",
     "output_type": "stream",
     "text": [
      "\n",
      "\n",
      "\n",
      "The Project Gutenberg EBook of War and Peace, by Leo Tolstoy\n",
      "\n",
      "This eBook is for the use of anyone anywhere at no cost and with\n",
      "almost no restrictions whatsoever.  You may copy it, give it away or\n",
      "re-use it under the t\n"
     ]
    }
   ],
   "source": [
    "print(book[0:220])\n"
   ]
  },
  {
   "cell_type": "markdown",
   "metadata": {
    "colab_type": "text",
    "id": "x53r4FDDJ_8m"
   },
   "source": [
    "Clean data, make sure only a-z, A-Z and space are present"
   ]
  },
  {
   "cell_type": "code",
   "execution_count": 6,
   "metadata": {
    "colab": {
     "base_uri": "https://localhost:8080/",
     "height": 176
    },
    "colab_type": "code",
    "id": "f7CdAtvgSu9n",
    "outputId": "6b5e69db-074c-483b-f59d-c6722086fdbc"
   },
   "outputs": [
    {
     "name": "stdout",
     "output_type": "stream",
     "text": [
      "3087852\n",
      "3087852\n",
      "The Project Gutenberg EBook of War and Peace by Leo Tolstoy This eBook is for the use of anyone anywhere at no cost and with almost no restrictions whatsoever You may copy it give it away or reuse it under the terms of t\n",
      "10015\n",
      "10015\n",
      "sjhmsXLmKNKmNomsXLmIpwpPjKmoXmKjeBgComoQNhmIjhhpPjmnFjphjmaBNojmjIpNFmoXmoQjmFjeoLBjBmaNoQmhFXPpwmGj\n",
      "homAXIjmlwmqpImijgmbXamGXXwmEXmDMjwmnpCjBmOLjjwmvXXTmzjMjwmdBpMjFmYwNMjBhjmfNKjXmJXXFm BpgmsjhmujkBp\n",
      "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 BpgmsjhmujkBp\n"
     ]
    }
   ],
   "source": [
    "#clean \n",
    "\n",
    "regex = re.compile('[^a-zA-Z ]')\n",
    "\n",
    "regex_space=re.compile('\\n')\n",
    "book=re.sub('\\s+', ' ', book).strip()\n",
    "book=regex_space.sub(' ',book)\n",
    "book=regex.sub('',book).strip()\n",
    "print(len(book))\n",
    "book=book.rstrip('\\n')\n",
    "print(len(book))\n",
    "\n",
    "print(book[0:220])\n",
    "\n",
    "cryptogram=re.sub('\\s+', ' ', cryptogram).strip()\n",
    "cryptogram=regex_space.sub(' ',cryptogram)\n",
    "cryptogram=regex.sub('',cryptogram)\n",
    "print(len(cryptogram))\n",
    "cryptogram=cryptogram.rstrip('\\n')\n",
    "print(len(cryptogram))\n",
    "\n",
    "print(cryptogram[:100])\n",
    "print(cryptogram[-100:])\n",
    "print(cryptogram)\n",
    "\n"
   ]
  },
  {
   "cell_type": "markdown",
   "metadata": {
    "colab_type": "text",
    "id": "8Al0M72rbJL5"
   },
   "source": [
    "## Compute frequencies $M$"
   ]
  },
  {
   "cell_type": "code",
   "execution_count": 7,
   "metadata": {
    "colab": {
     "base_uri": "https://localhost:8080/",
     "height": 54
    },
    "colab_type": "code",
    "id": "61-mfymkS-M1",
    "outputId": "7f7bfa5d-99d9-4108-c776-d3d51ac5d920"
   },
   "outputs": [
    {
     "name": "stdout",
     "output_type": "stream",
     "text": [
      "[' ', 'A', 'B', 'C', 'D', 'E', 'F', 'G', 'H', 'I', 'J', 'K', 'L', 'M', 'N', 'O', 'P', 'Q', 'R', 'S', 'T', 'U', 'V', 'W', 'X', 'Y', 'Z', 'a', 'b', 'c', 'd', 'e', 'f', 'g', 'h', 'i', 'j', 'k', 'l', 'm', 'n', 'o', 'p', 'q', 'r', 's', 't', 'u', 'v', 'w', 'x', 'y', 'z']\n"
     ]
    }
   ],
   "source": [
    "# get unique characters from book, compute frequencies\n",
    "letters = list(book)\n",
    "letters_unique = set(letters+list(string.ascii_letters)+list(\" \"))\n",
    "letters_unique = list(letters_unique)\n",
    "letters_unique.sort()\n",
    "print(letters_unique)\n",
    "cntr=Counter(zip(letters,letters[1:]))\n",
    "total = len(cntr)\n",
    "M={''.join(k): v / total for k,v in cntr.most_common()}\n",
    "M2={''.join(k): v  for k,v in cntr.most_common()}\n",
    "\n",
    "for a in letters_unique:        \n",
    "    tmp=0\n",
    "    for b in letters_unique:\n",
    "        if a+b in M2:\n",
    "            tmp=tmp+M2[a+b]\n",
    "            \n",
    "    for b in letters_unique:\n",
    "        if a+b in M2:\n",
    "            M[a+b]=M2[a+b]/tmp"
   ]
  },
  {
   "cell_type": "code",
   "execution_count": 8,
   "metadata": {
    "colab": {
     "base_uri": "https://localhost:8080/",
     "height": 89
    },
    "colab_type": "code",
    "id": "wiJyRe6uaOMW",
    "outputId": "e935303e-3fc5-4bb8-bd9c-01413388681c"
   },
   "outputs": [
    {
     "name": "stdout",
     "output_type": "stream",
     "text": [
      "{'e ': 110921, ' t': 81503, 'd ': 75821, 'he': 72792, 'th': 68868, ' a': 63726, 's ': 62809, 't ': 58224, 'in': 47709, ' h': 46175, 'er': 43299, 'an': 42485, 'n ': 40718, ' s': 37824, ' w': 37735, 're': 35377, 'nd': 34573, ' o': 32563, 'y ': 31390, 'r ': 30853, 'ed': 28666, 'at': 27674, 'o ': 26738, 'ha': 26424, 'en': 26101, 'on': 26087, 'hi': 25287, 'ng': 24993, ' i': 24044, 'ou': 23472, 'to': 23341, 'g ': 22151, ' b': 21571, 'is': 21078, 'es': 20454, 'it': 20178, 'or': 19637, 'as': 19552, ' f': 19428, 'f ': 19379, ' c': 19235, 'te': 18330, 'st': 17638, 'ar': 17466, 'se': 17271, 'nt': 17225, 'of': 16833, 'le': 16619, ' m': 16282, 'h ': 15436, ' d': 15254, 'me': 15026, 'ne': 14632, 'a ': 14557, 've': 14404, 'ti': 13830, 'ro': 13564, 'al': 13543, 'ea': 13356, 'ho': 13282, 'll': 13212, ' p': 13174, 'de': 13152, 'ce': 13112, 'ri': 13063, 'l ': 12925, ' r': 12899, ' l': 12517, 'm ': 12479, 'wa': 12067, 'co': 11968, 'no': 11823, ' n': 11564, 'ad': 11234, 'om': 11066, 'ut': 10941, 'ch': 10722, 'be': 10704, ' e': 10369, 'el': 10236, 'wh': 10233, 'ly': 10004, 'sh': 9987, 'ot': 9960, 'ow': 9905, 'im': 9783, 'wi': 9752, 'ss': 9703, 'li': 9251, 'nc': 9105, 'rs': 9091, 'si': 8982, 'us': 8784, 'ai': 8730, 'id': 8642, 'un': 8608, ' g': 8534, 'ic': 8511, 'ie': 8437, 'sa': 8360, 'w ': 8259, 'so': 8156, 'lo': 8113, 'ur': 8056, 'ra': 7999, 'ee': 7973, 'ma': 7877, 'fo': 7832, 'il': 7793, 'pe': 7779, 'di': 7705, 'ta': 7504, 'la': 7474, 'et': 7468, 'ol': 7304, 'io': 7259, 'ns': 7219, 'oo': 7176, 'we': 7043, 'ac': 6996, 'ld': 6919, ' I': 6873, 'os': 6747, 'ca': 6533, 'em': 6384, 'ul': 6318, 'ts': 6030, ' T': 5999, 'gh': 5961, 'ir': 5911, ' A': 5767, ' P': 5758, 'ry': 5730, 'ov': 5730, 'mo': 5667, 'ke': 5655, 'tr': 5647, 'ge': 5504, ' y': 5494, 'pr': 5441, 'ec': 5431, ' u': 5387, 'yo': 5239, 'ay': 5203, 'ev': 5100, 'k ': 5024, 'ni': 5002, 'rr': 4930, 'Th': 4888, 'rt': 4665, 'I ': 4605, 'do': 4587, 'po': 4578, 'fi': 4564, 'fe': 4544, 'am': 4541, 'wo': 4518, 'mi': 4499, 'tt': 4441, 'rd': 4433, 'vi': 4380, 'av': 4327, 'fr': 4326, 'ig': 4278, 'pa': 4251, 'ht': 4211, 'ct': 4124, 'pl': 4120, 'bu': 4103, 'ap': 3871, 'u ': 3834, 'su': 3809, 'fa': 3783, 'ey': 3720, 'na': 3682, 'bl': 3617, ' H': 3617, ' B': 3570, ' N': 3522, 'ei': 3476, 'dr': 3444, 'if': 3440, 'mp': 3434, 'ep': 3430, 'ab': 3420, 'ok': 3339, 'ga': 3339, 'ag': 3322, 'ki': 3280, 'iv': 3268, 'ug': 3249, ' M': 3243, 'ew': 3226, 'ef': 3188, 'p ': 3148, 'ty': 3141, ' v': 3127, 'sp': 3124, 'ex': 3105, 'bo': 3068, 'od': 3050, 'op': 3049, 'tl': 3025, 'rm': 2967, 'An': 2946, ' S': 2933, 'tu': 2909, 'ia': 2907, ' W': 2877, ' k': 2872, 'ff': 2839, 'up': 2772, 'rn': 2730, 'ba': 2724, 'gr': 2634, 'pp': 2629, 'ck': 2624, 'ci': 2565, 'go': 2561, 'ak': 2528, 'v ': 2515, 'by': 2512, 'gi': 2468, 'Pr': 2410, 'ds': 2390, 'da': 2326, 'my': 2314, 'lf': 2313, 'qu': 2294, 'kn': 2257, 'au': 2249, ' R': 2241, 'oi': 2236, 'pi': 2226, 'wn': 2224, 'nl': 2176, 'sk': 2157, 'ft': 2153, 'aw': 2152, 'eg': 2142, 'sc': 2137, 'He': 2125, 'ye': 2122, 'ru': 2091, 'ny': 2082, ' C': 2069, 'uc': 2047, 'cr': 2030, ' D': 1978, 'Pi': 1972, 'nn': 1959, 'cl': 1958, 'ms': 1936, ' F': 1921, 'ue': 1891, 'Na': 1862, 'br': 1861, 'fu': 1855, 'ui': 1755, 'Wh': 1694, 'cu': 1685, 'lt': 1681, 'ls': 1648, 'eo': 1642, 'ys': 1591, 'sm': 1589, 'pt': 1581, 'mu': 1564, 'hu': 1520, ' O': 1505, 'rg': 1493, 'nk': 1492, 'rc': 1476, 'sl': 1475, 'lu': 1468, 'gl': 1467, 'af': 1447, 'ud': 1428, 'oc': 1416, 'va': 1415, 'vo': 1404, 'Ma': 1394, 'oa': 1392, ' q': 1391, 'mm': 1384, 'um': 1366, 'hr': 1365, 'xp': 1354, ' j': 1352, ' E': 1350, 'Fr': 1349, 'ua': 1324, 'dd': 1305, 'rl': 1302, ' G': 1273, 'dl': 1264, 'ib': 1263, ' Y': 1241, 'fl': 1201, 'ik': 1198, 'dy': 1188, 'Bu': 1171, 'ya': 1165, ' K': 1154, 'Ro': 1150, 'gu': 1140, 'pu': 1139, 'tw': 1115, 'mb': 1087, 'yi': 1085, 'ps': 1082, 'lk': 1057, 'hy': 1055, 'cc': 1050, 'rk': 1009, 'Bo': 988, 'tv': 987, 'ju': 974, 'Mo': 973, 'du': 964, 'nu': 962, 'It': 952, 'gn': 935, 'bi': 924, 'nf': 916, 'ub': 903, 'gs': 898, 'ob': 880, 'Sh': 874, 'ws': 866, ' V': 862, 'Co': 857, 'yt': 850, 'ip': 846, 'i ': 821, 'kh': 819, 'Ru': 805, 'ks': 777, 'og': 767, 'nv': 756, 'R ': 751, 'TE': 747, 'Yo': 746, 'rv': 745, 'No': 743, 'ER': 741, 'HA': 737, 'CH': 734, 'AP': 734, 'PT': 731, 'ze': 729, 'Em': 725, 'We': 714, 'oy': 697, 'Ni': 694, 'sw': 692, '  ': 687, 'eh': 681, 'On': 681, 'jo': 680, ' L': 676, 'Al': 676, 'tz': 666, 'tc': 654, 'Ku': 650, 'Be': 643, 'zo': 630, 'vn': 628, 'vs': 618, 'c ': 605, 'De': 603, 'xc': 602, 'In': 595, 'iz': 576, 'rp': 544, 'Hi': 537, 'Go': 534, 'je': 521, 'wr': 518, 'oe': 501, 'lv': 492, 'bs': 480, 'lw': 479, 'xt': 470, 'lr': 467, 'Ba': 465, 'II': 460, 'sn': 456, 'Ye': 454, 'rf': 453, 'A ': 449, 'Sn': 448, 'gg': 447, ' X': 445, 'sb': 441, 'dg': 437, 'ln': 416, 'ph': 410, 'Pe': 409, 'So': 405, 'Ho': 401, 'lm': 398, 'lp': 392, 'To': 379, 'hm': 379, 'sy': 375, 'wd': 369, 'Do': 367, 'dn': 363, 'kl': 361, 'az': 349, 'xa': 337, 'ka': 336, 'Ge': 334, 'uf': 331, 'Dl': 330, 'py': 329, 'Mi': 326, 'At': 323, 'dv': 321, 'tm': 320, 'Il': 313, 'xe': 313, 'hn': 313, 'sf': 312, 'Oh': 306, 'mn': 306, ' J': 305, 'Ha': 304, 'rw': 303, 'If': 302, 'cy': 295, 'xi': 281, 'Va': 279, 'bt': 275, 'Pt': 273, 'Se': 272, 'As': 268, 'Wi': 267, 'ek': 267, 'Au': 263, 'Fo': 261, 'eb': 259, 'ix': 256, 'eq': 252, 'x ': 248, 'eu': 244, ' U': 243, 'nq': 243, 'zi': 241, 'mt': 237, 'dj': 236, 'gt': 234, 'XI': 232, 'yl': 230, 'bb': 229, 'fs': 229, 'tn': 224, 'Af': 222, 'rb': 221, 'Ev': 217, 'VI': 216, 'vl': 209, 'St': 209, 'ml': 209, 'Ju': 208, 'dm': 203, 'wl': 200, 'Ar': 198, 'rh': 197, 'b ': 193, 'hs': 193, 'tf': 193, 'Ne': 192, 'Gu': 190, 'Ca': 189, 'Lo': 185, 'Pv': 185, 'Ah': 177, 'Ka': 177, 'bj': 175, 'yc': 171, 'ez': 170, 'ym': 168, 'aj': 168, 'ko': 168, 'Hl': 167, 'V ': 162, 'Le': 161, 'Po': 161, 'XX': 158, 'hl': 157, 'yb': 157, 'XV': 156, 'Pa': 156, 'yf': 156, 'Ts': 155, 'nh': 154, 'nb': 153, 'sq': 153, 'Un': 152, 'Li': 151, 'Ch': 151, 'vr': 151, 'lb': 150, 'uo': 149, 'Da': 148, 'nm': 148, 'ah': 148, 'Du': 147, 'lg': 147, 'Dr': 147, 'ky': 146, 'My': 145, 'yn': 145, 'Re': 145, 'ox': 141, 'z ': 140, 'mf': 138, 'gy': 137, 'Su': 137, 'nw': 134, 'hv': 133, 'Im': 132, 'Dm': 132, 'Gr': 131, 'iu': 130, 'Iv': 130, 'Mr': 129, 'Is': 128, 'pc': 128, 'lc': 127, 'La': 123, 'X ': 123, 'Br': 123, 'Vi': 122, 'nj': 120, 'Sp': 120, 'oj': 117, 'cq': 117, 'df': 116, 'yr': 113, 'Te': 112, 'uv': 111, 'oz': 110, 'hk': 110, 'Sm': 110, 'Ki': 105, 'Si': 105, 'zh': 105, 'Fi': 103, 'zk': 101, 'np': 100, 'rz': 100, 'cs': 99, 'Pl': 99, ' Z': 99, 'Wa': 98, 'yw': 98, 'Or': 98, 'Ta': 97, 'Fa': 96, 'Di': 94, 'vt': 93, 'Sc': 91, 'uk': 91, 'kv': 91, 'En': 88, 'kw': 88, 'sd': 87, 'IV': 86, 'Ko': 86, 'fy': 85, 'ej': 85, 'vy': 85, 'Ve': 83, 'nx': 82, 'mr': 82, 'Tk': 82, 'db': 81, 'Kr': 81, 'nr': 80, 'Me': 80, 'dh': 80, 'ja': 80, 'Mu': 80, 'Bi': 78, 'za': 76, 'Wo': 76, 'sv': 76, 'Ra': 75, 'Vr': 74, 'Of': 74, 'dt': 74, 'Sa': 73, 'Hu': 73, 'uz': 73, 'Ti': 72, 'Eu': 71, 'Tw': 70, 'bm': 70, 'hf': 69, 'ae': 69, 'hb': 69, 'dk': 69, 'IX': 68, 'E ': 66, 'hc': 65, 'dw': 64, 'zm': 64, 'Ou': 63, 'wk': 63, 'hd': 63, 'Vo': 62, 'xh': 60, 'oh': 59, 'Ol': 59, 'kr': 59, 'Tu': 57, 'Eh': 56, 'yp': 56, 'hw': 56, 'Am': 56, 'Ot': 55, 'gd': 54, 'pf': 53, 'mc': 52, 'kc': 52, 'By': 51, 'O ': 50, 'ax': 50, 'Vl': 50, 'wf': 50, 'Ag': 50, 'yu': 50, 'Zh': 49, 'Er': 49, 'Tr': 48, 'bv': 47, ' z': 47, 'zz': 47, 'sg': 47, 'Pf': 47, 'fc': 46, 'dq': 46, 'sr': 46, 'Fe': 45, 'Cl': 44, 'zl': 44, 'ux': 43, 'ao': 42, 'Oc': 42, 'Cr': 42, 'tp': 42, 'wy': 41, 'Mt': 41, 'Je': 40, 'yk': 38, 'mk': 36, 'Jo': 36, 'K ': 35, 'Ab': 35, 'tb': 35, 'Ga': 35, 'yz': 35, ' Q': 34, 'Qu': 34, 'Ea': 33, 'Id': 33, 'BO': 32, 'OO': 32, 'OK': 32, 'fw': 32, 'pn': 32, 'Rh': 31, 'km': 31, 'zn': 31, 'Uh': 31, 'S ': 29, 'N ': 29, 'Ad': 29, 'fb': 29, 'yh': 29, 'F ': 28, 'EN': 28, 'hg': 28, 'Vy': 28, 'Fd': 27, 'Ap': 27, 'Gi': 27, 'pm': 27, 'iq': 27, 'lz': 27, 'Ya': 27, 'ww': 26, 'T ': 26, 'El': 26, 'Ex': 26, 'Mv': 26, 'gw': 25, 'oq': 25, 'zu': 25, 'yv': 25, 'Ry': 25, 'aa': 24, 'Pu': 23, 'wt': 23, 'Za': 23, 'wc': 23, 'bn': 22, 'Ml': 22, 'nz': 22, 'Ce': 21, 'Sw': 21, 'Kn': 21, 'mh': 21, 'Ja': 20, 'D ': 20, 'bd': 20, 'pk': 20, 'vu': 20, 'pw': 20, 'uy': 20, 'zd': 20, 'TH': 19, 'tg': 19, 'Wr': 19, 'kf': 19, 'wu': 18, 'gm': 18, 'Bl': 18, 'yd': 17, 'xu': 17, 'Vs': 17, 'bw': 17, 'Zn': 17, 'lE': 17, 'ON': 16, 'kg': 16, 'ku': 16, 'Ul': 16, 'Gl': 16, 'Sq': 16, 'Yk': 16, 'RE': 15, 'mw': 15, 'lh': 15, 'Cy': 15, 'Ms': 15, 'kt': 15, 'AN': 14, 'ND': 14, 'OU': 14, 'IN': 14, 'zy': 14, 'Ac': 14, 'rq': 14, 'eB': 13, 'AR': 13, 'NT': 13, 'LI': 13, 'Km': 13, 'Os': 13, 'Io': 13, 'M ': 13, 'hh': 13, 'Ri': 13, 'fn': 13, 'VE': 12, 'SE': 12, 'kb': 12, 'Oo': 12, 'pb': 12, 'Ig': 12, 'dc': 12, 'Uv': 12, 'Sv': 12, 'Lz': 12, 'OR': 12, 'OF': 11, 'CE': 11, 'EE': 11, 'LE': 11, 'Lu': 11, 'eI': 11, 'Ei': 11, 'yy': 11, 'Ke': 11, 'Y ': 11, 'ji': 11, 'uh': 11, 'fp': 11, 'wb': 11, 'gf': 11, 'tk': 11, 'IT': 11, 'UT': 10, 'IS': 10, 'CT': 10, 'tI': 10, 'yg': 10, 'Hm': 10, 'Ob': 10, 'RA': 10, 'Tv': 10, 'Sl': 10, 'vD': 10, 'gv': 10, 'PR': 9, 'NE': 9, 'FO': 9, 'cd': 9, 'mv': 9, 'hp': 9, 'fk': 9, 'cw': 9, 'Fl': 9, 'fh': 9, 'Cu': 9, 'dp': 9, 'vk': 9, 'TI': 9, 'ST': 8, 'HI': 8, 'EC': 8, 'GU': 8, 'AC': 8, 'IL': 8, 'dE': 8, 'vv': 8, 'Nu': 8, 'B ': 8, 'sI': 8, 'eK': 8, 'Kl': 8, 'td': 8, 'Kh': 8, 'Ci': 8, 'Vt': 8, 'Nz': 8, 'oY': 8, 'Tl': 8, 'pg': 8, 'wg': 7, 'BE': 7, 'G ': 7, 'WA': 7, 'EA': 7, 'CO': 7, 'UR': 7, 'FI': 7, 'IR': 7, 'Eg': 7, 'MA': 7, 'Zb': 7, 'Aw': 7, 'Ph': 7, 'U ': 7, 'fd': 7, 'vz': 7, 'Dn': 7, 'Zd': 7, 'xy': 7, 'gz': 7, 'L ': 7, 'DI': 7, 'AG': 7, 'ES': 7, 'RT': 6, 'RO': 6, 'EP': 6, 'yI': 6, 'Op': 6, 'Es': 6, 'IE': 6, 'Od': 6, 'vw': 6, 'ih': 6, 'RI': 6, 'AT': 6, 'Ey': 6, 'Us': 6, 'fm': 6, 'Ib': 6, 'Pn': 6, 'Sy': 6, 'Ut': 6, 'Tc': 6, 'AL': 6, 'Sk': 6, 'YO': 6, 'ED': 6, 'TY': 6, 'EB': 5, 'TA': 5, 'SI': 5, 'EV': 5, 'UE': 5, 'Bt': 5, 'Ak': 5, 'C ': 5, 'Et': 5, 'Uk': 5, 'iw': 5, 'NC': 5, 'PO': 5, 'Ek': 5, 'Ow': 5, 'rI': 5, 'Cz': 5, 'Nv': 5, 'dI': 5, 'Ur': 5, 'nT': 5, 'xo': 5, 'gc': 5, ' x': 5, 'Ec': 5, 'NS': 5, 'TO': 5, 'OS': 5, 'SC': 5, 'GE': 5, 'HE': 5, 'TR': 5, 'IM': 5, 'ME': 5, 'NO': 5, 'EM': 5, 'H ': 5, 'DE': 5, 'OJ': 4, 'JE': 4, 'NB': 4, 'RG': 4, 'TW': 4, 'IG': 4, 'NI': 4, 'EL': 4, 'PI': 4, 'LO': 4, 'OG': 4, 'Fu': 4, 'nI': 4, 'uI': 4, 'zv': 4, 'gI': 4, 'md': 4, 'AB': 4, 'xq': 4, 'NA': 4, 'wm': 4, 'Sd': 4, 'vd': 4, 'xl': 4, 'sz': 4, 'zw': 4, 'sj': 4, 'IO': 4, 'hE': 4, 'SS': 4, 'yN': 4, 'Ly': 4, 'Lr': 4, 'oZ': 4, 'xs': 4, 'BI': 4, 'LA': 4, 'AM': 4, 'NY': 4, 'IC': 4, 'AS': 4, 'IB': 4, 'US': 4, 'RR': 4, 'DA': 4, 'GR': 4, 'UN': 4, 'OT': 4, 'Up': 3, 'PE': 3, 'WO': 3, 'EI': 3, 'GH': 3, 'HT': 3, 'IF': 3, 'RS': 3, 'tj': 3, 'rj': 3, 'Ic': 3, 'UL': 3, 'cm': 3, 'dT': 3, 'tR': 3, 'nR': 3, 'Ug': 3, 'bc': 3, 'Ai': 3, 'OL': 3, 'EO': 3, 'Ir': 3, 'Ll': 3, 'Ov': 3, 'vg': 3, 'Fk': 3, 'LU': 3, 'kp': 3, 'Lg': 3, 'nP': 3, 'Yu': 3, 'Bs': 3, 'gp': 3, 'wp': 3, 'Bw': 3, 'bz': 3, 'Pw': 3, 'Lb': 3, 'tP': 3, 'Ef': 3, 'MO': 3, 'OW': 3, 'CL': 3, 'hz': 3, 'Oz': 3, 'Db': 3, 'kd': 3, 'FU': 3, 'LL': 3, 'PL': 3, 'BU': 3, 'CI': 3, 'MI': 3, 'IA': 3, 'Ay': 2, 'pd': 2, 'TS': 2, 'HR': 2, 'WE': 2, 'LV': 2, 'FT': 2, 'dz': 2, 'kI': 2, 'Lv': 2, 'dS': 2, 'Mm': 2, 'Ep': 2, 'RY': 2, 'Oe': 2, 'sZ': 2, 'aZ': 2, 'Az': 2, 'oP': 2, 'rM': 2, 'pI': 2, 'mI': 2, 'nC': 2, 'tB': 2, 'sS': 2, 'uw': 2, 'aI': 2, 'sG': 2, 'wI': 2, 'NN': 2, 'aq': 2, 'Ss': 2, 'Iw': 2, 'sC': 2, 'Tp': 2, 'Eq': 2, 'xM': 2, 'rW': 2, 'lq': 2, 'Py': 2, 'rA': 2, 'Wu': 2, 'bh': 2, 'Xs': 2, 'rP': 2, 'LF': 2, 'tC': 2, 'rK': 2, 'zs': 2, 'yG': 2, 'Ok': 2, 'iN': 2, 'OV': 2, 'W ': 2, 'OC': 2, 'gb': 2, 'AF': 2, 'bk': 2, 'uu': 2, 'NG': 2, 'AD': 2, 'EF': 2, 'RK': 2, 'PG': 2, 'GL': 2, 'BR': 2, 'EX': 2, 'ID': 2, 'WI': 2, 'PU': 2, 'TF': 1, 'yT': 1, 'Ed': 1, 'lI': 1, 'fg': 1, 'BC': 1, 'JU': 1, 'PS': 1, 'tY': 1, 'Rr': 1, 'sR': 1, 'eS': 1, 'Zk': 1, 'mR': 1, 'lA': 1, 'dU': 1, 'MU': 1, 'Vk': 1, 'hF': 1, 'hI': 1, 'nM': 1, 'Zu': 1, 'rH': 1, 'Gw': 1, 'uS': 1, 'Ip': 1, 'Yr': 1, 'Ee': 1, 'sB': 1, 'Av': 1, 'Aa': 1, 'vb': 1, 'yY': 1, 'qc': 1, 'yA': 1, 'lS': 1, 'yW': 1, 'Ty': 1, 'Nl': 1, 'eM': 1, 'wB': 1, 'tE': 1, 'wN': 1, 'yC': 1, 'rC': 1, 'nD': 1, 'iF': 1, 'eR': 1, 'rT': 1, 'rR': 1, 'aM': 1, 'gq': 1, 'uq': 1, 'dN': 1, 'Kv': 1, 'iy': 1, 'rB': 1, 'Dv': 1, 'kk': 1, 'Md': 1, 'gk': 1, 'Gh': 1, 'q ': 1, 'uP': 1, 'Zi': 1, 'tM': 1, 'Wl': 1, 'yH': 1, 'wM': 1, 'zc': 1, 'Gc': 1, 'lx': 1, 'hH': 1, 'dA': 1, 'Gn': 1, 'xE': 1, 'Vn': 1, 'Ps': 1, 'zb': 1, 'Zw': 1, 'nN': 1, 'yF': 1, 'sD': 1, 'gY': 1, 'sP': 1, 'Kd': 1, 'aT': 1, 'hV': 1, 'gE': 1, 'xf': 1, 'tG': 1, 'gN': 1, 'mP': 1, 'Lp': 1, 'aY': 1, 'EU': 1, 'KO': 1, 'UZ': 1, 'ZO': 1, 'OB': 1, 'Ds': 1, 'Sr': 1, 'Rz': 1, 'vh': 1, 'Kk': 1, 'fj': 1, 'rG': 1, 'eT': 1, 'zt': 1, 'NH': 1, 'gO': 1, 'eO': 1, 'mg': 1, 'oF': 1, 'vK': 1, 'FF': 1, 'uj': 1, 'Ih': 1, 'Gz': 1, 'aV': 1, 'gK': 1, 'Ax': 1, 'eC': 1, 'yj': 1, 'oT': 1, 'tW': 1, 'lM': 1, 'eP': 1, 'rD': 1, 'Kw': 1, 'gM': 1, 'gP': 1, 'Ia': 1, 'eD': 1, 'tS': 1, 'sN': 1, 'Vw': 1, 'Gt': 1, 'YT': 1, 'AI': 1, 'AV': 1, 'EG': 1, 'XC': 1, 'HO': 1, 'PA': 1, 'PH': 1, 'WN': 1, 'BL': 1, 'TU': 1, 'UA': 1, 'EQ': 1, 'QU': 1, 'GI': 1, 'SU': 1, 'UC': 1, 'KI': 1, 'XP': 1, 'MP': 1, 'UD': 1, 'RC': 1, 'TN': 1, 'RP': 1, 'MN': 1, 'AK': 1, 'DO': 1}\n",
      "0.00012235097396473234\n",
      "0.11029885373739143\n"
     ]
    }
   ],
   "source": [
    "print(M2)\n",
    "print(M['aa']); print(M['st'])"
   ]
  },
  {
   "cell_type": "markdown",
   "metadata": {
    "colab_type": "text",
    "id": "_MRG1_YmbSf7"
   },
   "source": [
    "## Mapping letters <-> numbers"
   ]
  },
  {
   "cell_type": "code",
   "execution_count": 9,
   "metadata": {
    "colab": {},
    "colab_type": "code",
    "id": "vo8P6dsbbW_t"
   },
   "outputs": [],
   "source": [
    "characters = list(dict.fromkeys(letters))\n",
    "characters = list(dict.fromkeys(letters_unique))\n",
    " \n",
    "number_of_characters=len(characters)\n",
    "\n",
    "#mapping: letter -> number\n",
    "char_mapping = dict(zip(letters_unique ,np.arange(len(characters))))\n",
    "#print(char_mapping)\n",
    "\n",
    "#inverse mapping: number -> letter \n",
    "char_mapping_inv = dict(map(reversed, char_mapping.items()))"
   ]
  },
  {
   "cell_type": "code",
   "execution_count": 10,
   "metadata": {
    "colab": {
     "base_uri": "https://localhost:8080/",
     "height": 72
    },
    "colab_type": "code",
    "id": "KqDEFLMtbsA4",
    "outputId": "97ed99f1-94b0-4169-a305-0a1e7fae8ae0"
   },
   "outputs": [
    {
     "name": "stdout",
     "output_type": "stream",
     "text": [
      "{' ': 0, 'A': 1, 'B': 2, 'C': 3, 'D': 4, 'E': 5, 'F': 6, 'G': 7, 'H': 8, 'I': 9, 'J': 10, 'K': 11, 'L': 12, 'M': 13, 'N': 14, 'O': 15, 'P': 16, 'Q': 17, 'R': 18, 'S': 19, 'T': 20, 'U': 21, 'V': 22, 'W': 23, 'X': 24, 'Y': 25, 'Z': 26, 'a': 27, 'b': 28, 'c': 29, 'd': 30, 'e': 31, 'f': 32, 'g': 33, 'h': 34, 'i': 35, 'j': 36, 'k': 37, 'l': 38, 'm': 39, 'n': 40, 'o': 41, 'p': 42, 'q': 43, 'r': 44, 's': 45, 't': 46, 'u': 47, 'v': 48, 'w': 49, 'x': 50, 'y': 51, 'z': 52}\n",
      "{0: ' ', 1: 'A', 2: 'B', 3: 'C', 4: 'D', 5: 'E', 6: 'F', 7: 'G', 8: 'H', 9: 'I', 10: 'J', 11: 'K', 12: 'L', 13: 'M', 14: 'N', 15: 'O', 16: 'P', 17: 'Q', 18: 'R', 19: 'S', 20: 'T', 21: 'U', 22: 'V', 23: 'W', 24: 'X', 25: 'Y', 26: 'Z', 27: 'a', 28: 'b', 29: 'c', 30: 'd', 31: 'e', 32: 'f', 33: 'g', 34: 'h', 35: 'i', 36: 'j', 37: 'k', 38: 'l', 39: 'm', 40: 'n', 41: 'o', 42: 'p', 43: 'q', 44: 'r', 45: 's', 46: 't', 47: 'u', 48: 'v', 49: 'w', 50: 'x', 51: 'y', 52: 'z'}\n"
     ]
    }
   ],
   "source": [
    "print(char_mapping)\n",
    "print(char_mapping_inv)\n"
   ]
  },
  {
   "cell_type": "markdown",
   "metadata": {
    "colab_type": "text",
    "id": "dWXHuKKjxb6c"
   },
   "source": [
    "## Main function: calc_likelihood_ratio\n",
    "It computes: \n",
    "$${f(\\sigma')\\over f(\\sigma)}=\\prod_{i=1}^{L-1}{\\textbf{M}(\\sigma(c_i),\\sigma(c_{i+1}))\n",
    "\\over \\textbf{M}(\\sigma'(c_i),\\sigma'(c_{i+1}))},$$"
   ]
  },
  {
   "cell_type": "code",
   "execution_count": 11,
   "metadata": {
    "colab": {},
    "colab_type": "code",
    "id": "_2odZ5fkbsEw"
   },
   "outputs": [],
   "source": [
    "def calc_likelihood_ratio(encrypted_message, M, sigma, i, j, char_mapping_inv, char_mapping):\n",
    "  # compute f(sigma')/f(sigma)\n",
    "  # do not compute full f(sigma') and f(sigma), to large (small) numbers\n",
    "  # Moreover, add some penalty if 'xy' is not in decrypted text\n",
    "  \n",
    "    likelihood_ratio = 1;\n",
    "    sigma2=cp.copy(sigma)\n",
    "    sigma2[[i,j]]=sigma2[[j,i]]\n",
    "\n",
    "    M_min = min(M.values())\n",
    "    penalty = M_min/10;\n",
    "\n",
    "    for k in np.arange(len(encrypted_message)-1):\n",
    "        a0=encrypted_message[k]\n",
    "        b0=encrypted_message[k+1]\n",
    "        if (char_mapping[a0]==i or char_mapping[a0]==j or char_mapping[b0]==i or char_mapping[b0]==j):\n",
    "            \n",
    "            a=char_mapping_inv[sigma[char_mapping[a0]]]\n",
    "            b=char_mapping_inv[sigma[char_mapping[b0]]]\n",
    "            ab=a+b\n",
    "            \n",
    "            a2=char_mapping_inv[sigma2[char_mapping[a0]]]\n",
    "            b2=char_mapping_inv[sigma2[char_mapping[b0]]]\n",
    "            ab2=a2+b2\n",
    "        \n",
    "            #print(\"ASDF ab = \", ab, \", ab2 = \", ab2)\n",
    "            #if ((ab in M) and (ab2 in M)):\n",
    "            if(ab2 in M):\n",
    "                likelihood_ratio = likelihood_ratio*M[ab2];\n",
    "            else:\n",
    "                likelihood_ratio = likelihood_ratio*penalty;\n",
    "                \n",
    "            if(ab in M):\n",
    "                likelihood_ratio = likelihood_ratio/M[ab];\n",
    "            else:\n",
    "                likelihood_ratio = likelihood_ratio/penalty;\n",
    "                \n",
    "                \n",
    "                #print(\" i = \", i,\", j = \", j, \", a0 = \", a0, \", b0 = \", b0, \", k = \", k, \"lik_rat=\", likelihood_ratio)\n",
    "                \n",
    "                \n",
    "            #quit()\n",
    "        \n",
    "    return likelihood_ratio;"
   ]
  },
  {
   "cell_type": "code",
   "execution_count": 12,
   "metadata": {
    "colab": {},
    "colab_type": "code",
    "id": "BLTLyXRbcT-m"
   },
   "outputs": [],
   "source": [
    "def transform_message(text_message, perm, char_mapping, char_mapping_inv):\n",
    "    decrypted_message = \"\"\n",
    "    for let in text_message:\n",
    "        decrypted_message = decrypted_message +char_mapping_inv[perm[char_mapping[let]]]\n",
    "    return decrypted_message    \n",
    " "
   ]
  },
  {
   "cell_type": "code",
   "execution_count": 0,
   "metadata": {
    "colab": {},
    "colab_type": "code",
    "id": "pyaXZwqjmo3Z"
   },
   "outputs": [],
   "source": []
  },
  {
   "cell_type": "markdown",
   "metadata": {
    "colab_type": "text",
    "id": "34yrEwN7b_6u"
   },
   "source": [
    "## The Metropolis Algorithm\n",
    "To sample from a distribution $\\pi(\\textbf{w})$, repeat *enough* number of steps (recall, we assume each $\\textbf{w}$ has $m$ neighbours $\\mathcal{N}(\\mathbf{w})$:\n",
    "\n",
    "\n",
    "*   Assume we are currently $\\textbf{w}^{(t)}$\n",
    "*   Choose a neighbour $\\textbf{w}'$ of $\\textbf{w}^{(t)}$ uniformly at random (i.e., with prob. $1/m$)\n",
    "*   Set $\\textbf{w}^{(t+1)}=\\textbf{w}'$ with probability $\\alpha=\\min\\left(1,{\\pi(\\textbf{w}')\\over \\pi(\\textbf{w}^{(t)})}\\right)$;\n",
    "otherwise $\\textbf{w}^{(t+1)}=\\textbf{w}^{(t)}$ (i.e., do nothing)\n",
    "\n",
    "\n"
   ]
  },
  {
   "cell_type": "code",
   "execution_count": 13,
   "metadata": {
    "colab": {
     "base_uri": "https://localhost:8080/",
     "height": 86
    },
    "colab_type": "code",
    "id": "ihGWpRMZmpmF",
    "outputId": "d812ba34-006e-4bfe-bc81-b0002495284c"
   },
   "outputs": [
    {
     "name": "stdout",
     "output_type": "stream",
     "text": [
      "[23 45 39  2 51 38 41 30 20 28 31 26 10 21  5 19 50 11  4 44 32 33 46  9\n",
      " 40 29 18  6 24  0 15 42 22 43  1  7 37 25 13  3 16 12 52 48 36 27 47 14\n",
      " 17 49 35 34  8]\n",
      "53\n"
     ]
    }
   ],
   "source": [
    "R=10000\n",
    "#TRY ANOTHER SEED !!\n",
    "np.random.seed(1432)\n",
    "print(np.random.permutation(53))\n",
    "print(number_of_characters)\n",
    "sigma=np.random.permutation(number_of_characters)\n",
    "\n",
    "tenth=int(R/10)    \n",
    "show_length=50\n",
    "# print(sigma)\n",
    "# print(M['ab']); print(M['st'])\n",
    "# print(char_mapping)\n",
    "# print(char_mapping_inv[char_mapping['d']])\n",
    "# print(len(book))"
   ]
  },
  {
   "cell_type": "code",
   "execution_count": 14,
   "metadata": {
    "colab": {
     "base_uri": "https://localhost:8080/",
     "height": 54
    },
    "colab_type": "code",
    "id": "dS9qAnATMKWn",
    "outputId": "76f03ea6-9f10-46f7-acf8-e0ed5fc4eb55"
   },
   "outputs": [
    {
     "name": "stdout",
     "output_type": "stream",
     "text": [
      "{'e ': 0.35629713859872286, ' t': 0.14391839156369082, 'd ': 0.6520553835569315, 'he': 0.4464671246319922, 'th': 0.3136165542617479, ' a': 0.11252767899080722, 's ': 0.39277473094408766, 't ': 0.2651450638226173, 'in': 0.2903314143836033, ' h': 0.08153603831090173, 'er': 0.13908376055197935, 'an': 0.21658671370381888, 'n ': 0.2254957883602572, ' s': 0.06678980212391006, ' w': 0.06663264549348948, 're': 0.2433499570077386, 'nd': 0.19146485316025275, ' o': 0.05749990288073401, 'y ': 0.6980053812456917, 'r ': 0.2122304385210662, 'ed': 0.09208007298050855, 'at': 0.14108086889583343, 'o ': 0.14188378880339614, 'ha': 0.16207065750736016, 'en': 0.08384085623610736, 'on': 0.13842929158928097, 'hi': 0.155096908734053, 'ng': 0.13841092977277636, ' i': 0.042457011481263046, 'ou': 0.12455293181215177, 'to': 0.1062920949210585, 'g ': 0.44280745242283703, ' b': 0.03809017612137436, 'is': 0.12826941567372174, 'es': 0.06570173071734187, 'it': 0.12279249783966019, 'or': 0.10420270628814009, 'as': 0.0996752601232686, ' f': 0.03430605635742715, 'f ': 0.3659591343430147, ' c': 0.0339652560240432, 'te': 0.08347260613953997, 'st': 0.11029885373739143, 'ar': 0.08904092130283396, 'se': 0.10800382712884042, 'nt': 0.09539184032873496, 'of': 0.08932342796497744, 'le': 0.173443403118412, ' m': 0.0287508343427851, 'h ': 0.09467615309126595, ' d': 0.026935586971185598, 'me': 0.25737825662458674, 'ne': 0.08103183789202031, 'a ': 0.07421096366685868, 've': 0.5545972585861697, 'ti': 0.06298014964047123, 'ro': 0.09330352536543422, 'al': 0.06904163501684875, 'ea': 0.042901746135759165, 'ho': 0.08146467124631993, 'll': 0.1378864096516312, ' p': 0.023262712911918122, 'de': 0.1131062951496388, 'ce': 0.22034012233649258, 'ri': 0.0898572656921754, 'l ': 0.13489114780103947, ' r': 0.022777116581966895, ' l': 0.022102579134543734, 'm ': 0.21375104914270054, 'wa': 0.21424640022726063, 'co': 0.20111581636082543, 'no': 0.06547563008456507, ' n': 0.020419767125658204, 'ad': 0.05727045172999179, 'om': 0.05872114619262404, 'ut': 0.17064117160815384, 'ch': 0.18017745513208308, 'be': 0.3447231973205372, ' e': 0.018309630346415594, 'el': 0.032879774891107424, 'wh': 0.18168421426415496, 'ly': 0.10440627022062661, 'sh': 0.062453489753675484, 'ot': 0.05285221544176174, 'ow': 0.05256036083841868, 'im': 0.059534096856249163, 'wi': 0.17314418621167196, 'ss': 0.060677501860409856, 'li': 0.09654762153248868, 'nc': 0.050423379169412585, 'rs': 0.06253482373172829, 'si': 0.056168743863774226, 'us': 0.13699954770185754, 'ai': 0.04450516677967139, 'id': 0.05259058213551112, 'un': 0.13425456587176568, ' g': 0.01506937847201376, 'ic': 0.05179338631744216, 'ie': 0.051343061962197095, 'sa': 0.0522790802383826, 'w ': 0.14663636525043056, 'so': 0.05100337062491011, 'lo': 0.08467093865453255, 'ur': 0.12564530467738666, 'ra': 0.055023215821152195, 'ee': 0.025610633568464197, 'ma': 0.13492403350405097, 'fo': 0.14790195263813877, 'il': 0.047424022978713044, 'pe': 0.19937463157085372, 'di': 0.0662624699002408, 'ta': 0.03417230968200261, 'la': 0.07800204554467845, 'et': 0.023988487581749735, 'ol': 0.03875829132395861, 'io': 0.04417438506383652, 'ns': 0.03997873412674239, 'oo': 0.038079066065269306, 'we': 0.1250466061821991, 'ac': 0.03566530891071947, 'ld': 0.07220981443987559, ' I': 0.01213637663910834, 'os': 0.03580260015919342, 'ca': 0.10978355851314109, 'em': 0.020506495008287398, 'ul': 0.0985386091052295, 'ts': 0.0274598917087521, ' T': 0.010593063212281525, 'gh': 0.11916280185510955, 'ir': 0.03597117924126431, ' A': 0.010183396490286307, ' P': 0.010167504246760632, 'ry': 0.03941530524505589, 'ov': 0.03040594322101353, 'mo': 0.0970692519826656, 'ke': 0.29405647132234414, 'tr': 0.025715755966720252, 'ge': 0.11002718695026387, ' y': 0.009701331770007452, 'pr': 0.1394520337288874, 'ec': 0.01744529674028961, ' u': 0.00951239065253552, 'yo': 0.11649729825887795, 'ay': 0.026524671564104263, 'ev': 0.016382068380680723, 'k ': 0.26124486506161926, 'ni': 0.027701015113168782, 'rr': 0.03391229578675838, 'Th': 0.7169257846875917, 'rt': 0.03208942390369733, 'I ': 0.5806329592737359, 'do': 0.039447884416924664, 'po': 0.11733347002588615, 'fi': 0.08618801223703591, 'fe': 0.08581032594327152, 'am': 0.023149823865577065, 'wo': 0.08021589759068232, 'mi': 0.07706274301570716, 'tt': 0.02022377762496983, 'rd': 0.030493551160791058, 'vi': 0.16864315416602496, 'av': 0.022058861014391532, 'fr': 0.08169354534123957, 'ig': 0.026033616104572617, 'pa': 0.10895250788118, 'ht': 0.02582801766437684, 'ct': 0.06930160650668818, 'pl': 0.10559499705256684, 'bu': 0.13213745128981352, 'ap': 0.01973419250906162, 'u ': 0.05979693373052389, 'su': 0.023819499596650636, 'fa': 0.07143936246553613, 'ey': 0.011949273407084763, 'na': 0.020390871180865144, 'bl': 0.1164857814563138, ' H': 0.0063869160924857945, ' B': 0.006303923265185038, ' N': 0.006219164633048097, 'ei': 0.011165503861028665, 'dr': 0.029618163054695563, 'if': 0.0209339970546353, 'mp': 0.058820506671691135, 'ep': 0.011017744028575466, 'ab': 0.017435013789974356, 'ok': 0.017718227646590607, 'ga': 0.0667479609787302, 'ag': 0.016935413979618365, 'ki': 0.17055795330456033, 'iv': 0.019887297201903534, 'ug': 0.05067298844300264, ' M': 0.005726505083752123, 'ew': 0.010362461293348238, 'ef': 0.010240398823060813, 'p ': 0.08068277930133019, 'ty': 0.014303734636349975, ' v': 0.005521671722754514, 'sp': 0.01953586682592192, 'ex': 0.009973788690590912, 'bo': 0.09880519145921227, 'od': 0.016184664367206156, 'op': 0.016179357919872645, 'tl': 0.013775484646596203, 'rm': 0.02040928632846088, 'An': 0.4489484913136239, ' S': 0.005179105584534375, 'tu': 0.013247234656842431, 'ia': 0.01769044460401884, ' W': 0.005080220513707943, ' k': 0.0050713914895270116, 'ff': 0.05361256939985648, 'up': 0.04323346382394685, 'rn': 0.01877901977644024, 'ba': 0.08772664326430711, 'gr': 0.05265472573164881, 'pp': 0.0673808852551452, 'ck': 0.044094911608523225, 'ci': 0.04310344827586207, 'go': 0.0511954261954262, 'ak': 0.01288763592428514, 'v ': 0.09683505313414446, 'by': 0.08089916588837719, 'gi': 0.0493363185670878, 'Pr': 0.3698588090853284, 'ds': 0.020553835569315445, 'da': 0.02000343997248022, 'my': 0.039636183004744696, 'lf': 0.02413951449623244, 'qu': 0.9991289198606271, 'kn': 0.11736259164890021, 'au': 0.011465305851945126, ' R': 0.003957168637893465, 'oi': 0.01186521623772884, 'pi': 0.05705205423277033, 'wn': 0.03948653303268647, 'nl': 0.012050661512645996, 'sk': 0.0134887531189224, 'ft': 0.04065792952373758, 'aw': 0.010970803998837667, 'eg': 0.006880468719885903, 'sc': 0.013363683548974117, 'He': 0.48538145271813615, 'ye': 0.04718596428809677, 'ru': 0.014383490971625107, 'ny': 0.011530090656860736, ' C': 0.0036534502060694245, 'uc': 0.03192601026248889, 'cr': 0.0341130604288499, ' D': 0.0034927619659764725, 'Pi': 0.30263965623081646, 'nn': 0.010848918154077897, 'cl': 0.032903139073737986, 'ms': 0.03316147376715027, ' F': 0.0033921110903138542, 'ue': 0.029492958185816553, 'Na': 0.515218594355285, 'br': 0.05993365753115842, 'fu': 0.03503040374664804, 'ui': 0.02737183586256375, 'Wh': 0.5865650969529086, 'cu': 0.028315520602271962, 'lt': 0.017543676553465944, 'ls': 0.0171992736229101, 'eo': 0.005274383584525049, 'ys': 0.03537835493985013, 'sm': 0.009936777332391143, 'pt': 0.04052079862623984, 'mu': 0.026789537692057348, 'hu': 0.009322865554465163, ' O': 0.0026575362784603596, 'rg': 0.010269991401547721, 'nk': 0.008262677838634111, 'rc': 0.0101530524505589, 'sl': 0.009223880783685925, 'lu': 0.01532071218351458, 'gl': 0.029325923556692786, 'af': 0.0073767441386236535, 'ud': 0.022271784394154438, 'oc': 0.0075139294242504645, 'va': 0.05448174957646697, 'vo': 0.054058216540890186, 'Ma': 0.4265605875152999, 'oa': 0.0073865746882462195, ' q': 0.0024562345271351227, 'mm': 0.023706342817012383, 'um': 0.021304802158553893, 'hr': 0.008372178606476937, 'xp': 0.36495956873315366, ' j': 0.0023873681385238577, ' E': 0.002383836528851485, 'Fr': 0.6928608115048793, 'ua': 0.02064974967637288, 'dd': 0.011222910216718266, 'rl': 0.008956147893379191, ' G': 0.0022478695564651413, 'dl': 0.0108703130374957, 'ib': 0.00768594136046639, ' Y': 0.0021913638017071802, 'fl': 0.022680061940552176, 'ik': 0.007290386183561944, 'dy': 0.01021671826625387, 'Bu': 0.3247365501941209, 'ya': 0.025905583598318918, ' K': 0.002037738780958973, 'Ro': 0.37618580307491006, 'gu': 0.02278906125059971, 'pu': 0.029192403311377093, 'tw': 0.00507757533254703, 'mb': 0.018619071273188195, 'yi': 0.0241266594027262, 'ps': 0.02773150165312556, 'lk': 0.011031330230228141, 'hy': 0.006470804710500491, 'cc': 0.017644686428715466, 'rk': 0.00694067067927773, 'Bo': 0.273987798114254, 'tv': 0.004494678792129075, 'ju': 0.4298323036187114, 'Mo': 0.29773561811505506, 'du': 0.008290333677330581, 'nu': 0.005327544290057651, 'It': 0.12003530450132392, 'gn': 0.01869102830641292, 'bi': 0.02975749573282664, 'nf': 0.0050727968499925235, 'ub': 0.014083628366891776, 'gs': 0.01795138333599872, 'ob': 0.0046696736534889895, 'Sh': 0.2926992632283992, 'ws': 0.01537560144168457, ' V': 0.001522123768792578, 'Co': 0.40539262062440873, 'yt': 0.0189010695781726, 'ip': 0.005148302764017867, 'i ': 0.004996166157516157, 'kh': 0.0425874889501326, 'Ru': 0.26333006215243704, 'ks': 0.04040351515781811, 'og': 0.004070045104802335, 'nv': 0.0041867187975920825, 'R ': 0.24566568531239777, 'TE': 0.10956292167791142, 'Yo': 0.5897233201581028, 'rv': 0.005124677558039553, 'No': 0.20558937465412286, 'ER': 0.3283119184758529, 'HA': 0.16834170854271358, 'CH': 0.34720908230842007, 'AP': 0.11185614142029869, 'PT': 0.1121853898096992, 'ze': 0.31973684210526315, 'Em': 0.3212228622064688, 'We': 0.24722991689750692, 'oy': 0.00369859379145662, 'Ni': 0.19203099059214168, 'sw': 0.004327407120210617, '  ': 0.0012131079224599781, 'eh': 0.002187487954361485, 'On': 0.41651376146788993, 'jo': 0.3000882612533098, ' L': 0.0011936840692619289, 'Al': 0.1030173727522097, 'tz': 0.0030328835618621723, 'tc': 0.002978237011197989, 'Ku': 0.5412156536219817, 'Be': 0.17831392124237383, 'zo': 0.27631578947368424, 'vn': 0.024179886031110428, 'vs': 0.023794855998767905, 'c ': 0.010166700275593198, 'De': 0.2989588497768964, 'xc': 0.16226415094339622, 'In': 0.07502206531332745, 'iz': 0.003505227413799399, 'rp': 0.0037420464316423045, 'Hi': 0.122658748286889, 'Go': 0.409823484267076, 'je': 0.22992056487202117, 'wr': 0.009196953287289384, 'oe': 0.0026585301140886176, 'lv': 0.005134734601014423, 'bs': 0.015458439341728124, 'lw': 0.0049990607192803025, 'xt': 0.12668463611859837, 'lr': 0.004873823289987268, 'Ba': 0.12895174708818635, 'II': 0.058000252175009454, 'sn': 0.002851586194820869, 'Ye': 0.35889328063241105, 'rf': 0.003116079105760963, 'A ': 0.06842426089606828, 'Sn': 0.15003348961821836, 'gg': 0.008935710858787782, ' X': 0.000785783152102897, 'sb': 0.0027577840173596564, 'dg': 0.003758169934640523, 'ln': 0.00434156421549187, 'ph': 0.010508239997949611, 'Pe': 0.06276856967464703, 'So': 0.13563295378432685, 'Ho': 0.09159433531292828, 'lm': 0.004153708071552318, 'lp': 0.004091089356905801, 'To': 0.05558814901730713, 'hm': 0.0023245829244357215, 'sy': 0.00234505443653032, 'wd': 0.0065514976119879975, 'Do': 0.1819533961328706, 'dn': 0.0031217750257997935, 'kl': 0.018771774738703135, 'az': 0.0017791870797371494, 'xa': 0.0908355795148248, 'ka': 0.01747179033851594, 'Ge': 0.2563315425940138, 'uf': 0.00516243741909322, 'Dl': 0.16360932077342588, 'py': 0.008432221852013226, 'Mi': 0.09975520195838433, 'At': 0.04922279792746114, 'dv': 0.002760577915376677, 'tm': 0.0014572413510448876, 'Il': 0.03946538897995209, 'xe': 0.08436657681940701, 'hn': 0.001919774288518155, 'sf': 0.0019510852911932262, 'Oh': 0.1871559633027523, 'mn': 0.005241431287576438, ' J': 0.000538570475036817, 'Ha': 0.06943809958885336, 'rw': 0.0020842648323301806, 'If': 0.038078426427940994, 'cy': 0.004957316663305774, 'xi': 0.07574123989218329, 'Va': 0.25, 'bt': 0.008856397539531739, 'Pt': 0.04189686924493554, 'Se': 0.09109176155391828, 'As': 0.040841206949100886, 'Wi': 0.09245152354570638, 'ek': 0.0008576494622826966, 'Au': 0.04007924413288631, 'Fo': 0.13405238828967642, 'eb': 0.000831952100116923, 'ix': 0.0015578788505775105, 'eq': 0.000809466908221871, 'x ': 0.06684636118598383, 'eu': 0.0007837695460560974, ' U': 0.00042909057519326734, 'nq': 0.0013457310420831696, 'zi': 0.10570175438596491, 'mt': 0.0040595399188092015, 'dj': 0.0020295837633298934, 'gt': 0.004677754677754678, 'XI': 0.3447251114413076, 'yl': 0.0051144070623290565, 'bb': 0.007374963769282793, 'fs': 0.004324508063602372, 'tn': 0.0010200689457314214, 'Af': 0.03383114903992685, 'rb': 0.0015202063628546863, 'Ev': 0.09614532565352238, 'VI': 0.1935483870967742, 'vl': 0.008047127675958724, 'St': 0.06999330207635633, 'ml': 0.003579931827135541, 'Ju': 0.6731391585760518, 'dm': 0.0017457860337117303, 'wl': 0.0035509472151696465, 'Ar': 0.030173727522096922, 'rh': 0.001355116079105761, 'b ': 0.0062155808186531835, 'hs': 0.0011837585868498528, 'tf': 0.0008788986898489478, 'Ne': 0.053126729385722195, 'Gu': 0.14581734458940906, 'Ca': 0.08940397350993377, 'Lo': 0.2598314606741573, 'Pv': 0.028391651319828116, 'Ah': 0.026973483693995732, 'Ka': 0.14737718567860117, 'bj': 0.005635889343338378, 'yc': 0.003802450468079429, 'ez': 0.0005460689460226908, 'ym': 0.0037357408107447023, 'aj': 0.0008564568177531263, 'ko': 0.00873589516925797, 'Hl': 0.038145271813613525, 'V ': 0.14516129032258066, 'Le': 0.22612359550561797, 'Po': 0.02470841006752609, 'XX': 0.23476968796433878, 'hl': 0.0009629538763493621, 'yb': 0.0034911387338507037, 'XV': 0.23179791976225855, 'Pa': 0.02394106813996317, 'yf': 0.0034689021814057947, 'Ts': 0.02273393957172191, 'nh': 0.0008528501254354242, 'nb': 0.0008473121376079215, 'sq': 0.0009567822101043705, 'Un': 0.5371024734982333, 'Li': 0.21207865168539325, 'Ch': 0.07142857142857142, 'vr': 0.005813953488372093, 'lb': 0.001565467866162934, 'uo': 0.0023238766629754977, 'Da': 0.07337630143777887, 'nm': 0.0008196221984704077, 'ah': 0.000754497672782516, 'Du': 0.07288051561725335, 'lg': 0.0015341585088396751, 'Dr': 0.07288051561725335, 'ky': 0.007591908897093235, 'My': 0.044369645042839655, 'yn': 0.0032243001045117966, 'Re': 0.047432122996401704, 'ox': 0.0007482090740249403, 'z ': 0.06140350877192982, 'mf': 0.002363782737534472, 'gy': 0.0027386854309931234, 'Su': 0.045880776959142666, 'nw': 0.0007420903688853692, 'hv': 0.0008157507360157017, 'Im': 0.016643550624133148, 'Dm': 0.06544372830937036, 'Gr': 0.10053722179585571, 'iu': 0.000791110353808892, 'Iv': 0.016391375614676587, 'Mr': 0.039473684210526314, 'Is': 0.016139200605220023, 'pc': 0.0032806212676525616, 'lc': 0.0013254294600179507, 'La': 0.17275280898876405, 'X ': 0.1827637444279346, 'Br': 0.03410981697171381, 'Vi': 0.10931899641577061, 'nj': 0.0006645585393003306, 'Sp': 0.04018754186202277, 'oj': 0.0006208543380206951, 'cq': 0.0019661222020568663, 'df': 0.000997592019263846, 'yr': 0.0025127304262747103, 'Te': 0.01642710472279261, 'uv': 0.001731210131478391, 'oz': 0.0005837092066861237, 'hk': 0.0006746810598626104, 'Sm': 0.036838580040187544, 'Ki': 0.08742714404662781, 'Si': 0.035164099129269925, 'zh': 0.046052631578947366, 'Fi': 0.05290190035952748, 'zk': 0.04429824561403509, 'np': 0.0005537987827502755, 'rz': 0.0006878761822871883, 'cs': 0.001663641863278887, 'Pl': 0.015193370165745856, ' Z': 0.00017481467878244225, 'Wa': 0.03393351800554017, 'yw': 0.0021791821396010764, 'Or': 0.0599388379204893, 'Ta': 0.014227046054561454, 'Fa': 0.04930662557781202, 'Di': 0.0466038671294001, 'vt': 0.0035807793007854613, 'Sc': 0.030475552578700604, 'uk': 0.001419280378058861, 'kv': 0.0047319432166814, 'En': 0.03898980948161276, 'kw': 0.004575945088658936, 'sd': 0.0005440526292750343, 'IV': 0.010843525406632203, 'Ko': 0.07160699417152373, 'fy': 0.001605166748498697, 'ej': 0.0002730344730113454, 'vy': 0.003272755274911443, 'Ve': 0.07437275985663082, 'nx': 0.00045411500185522593, 'mr': 0.0014045665541871498, 'Tk': 0.012026987386330302, 'db': 0.0006965944272445821, 'Kr': 0.06744379683597003, 'nr': 0.00044303902620022043, 'Me': 0.02447980416156671, 'dh': 0.0006879944960440316, 'ja': 0.0353045013239188, 'Mu': 0.02447980416156671, 'Bi': 0.021630615640599003, 'za': 0.03333333333333333, 'Wo': 0.02631578947368421, 'sv': 0.0004752643658034782, 'Ra': 0.02453385672227674, 'Vr': 0.06630824372759857, 'Of': 0.04525993883792049, 'dt': 0.0006363949088407293, 'Sa': 0.024447421299397188, 'Hu': 0.01667428049337597, 'uz': 0.0011385435999812842, 'Ti': 0.010560281607509533, 'Eu': 0.03145768719539211, 'Tw': 0.01026694045174538, 'bm': 0.0022543557373353516, 'hf': 0.0004232090284592738, 'ae': 0.0003517590501486055, 'hb': 0.0004232090284592738, 'dk': 0.0005933952528379773, 'IX': 0.008573950321523137, 'E ': 0.02924235711120957, 'hc': 0.00039867517173699705, 'dw': 0.0005503955968352253, 'zm': 0.028070175438596492, 'Ou': 0.03853211009174312, 'wk': 0.0011185483727784386, 'hd': 0.00038640824337585867, 'Vo': 0.05555555555555555, 'xh': 0.016172506738544475, 'oh': 0.00031308039267710267, 'Ol': 0.036085626911314984, 'kr': 0.003067963184441787, 'Tu': 0.008360222939278381, 'Eh': 0.024811696942844484, 'yp': 0.0012452469369149007, 'hw': 0.00034347399411187437, 'Am': 0.00853398354160317, 'Ot': 0.03363914373088685, 'gd': 0.001079481848712618, 'pf': 0.001358382243637389, 'mc': 0.0008907007416796561, 'kc': 0.0027039675523893715, 'By': 0.014143094841930116, 'O ': 0.03058103975535168, 'ax': 0.00025489786242652567, 'Vl': 0.044802867383512544, 'wf': 0.0008877368037924116, 'Ag': 0.007619628162145687, 'yu': 0.0011118276222454471, 'Zh': 0.4537037037037037, 'Er': 0.021710234824988923, 'Tr': 0.007040187738339689, 'bv': 0.0015136388522108788, ' z': 8.299282730075542e-05, 'zz': 0.0206140350877193, 'sg': 0.00029391348937846676, 'Pf': 0.007213014119091467, 'fc': 0.0008686784756581184, 'dq': 0.0003955968352253182, 'sr': 0.0002876600108810526, 'Fe': 0.023112480739599383, 'Cl': 0.020813623462630087, 'zl': 0.01929824561403509, 'ux': 0.0006706489698519893, 'ao': 0.00021411420443828157, 'Oc': 0.025688073394495414, 'Cr': 0.019867549668874173, 'tp': 0.00019126292732464149, 'wy': 0.0007279441791097776, 'Mt': 0.012545899632802938, 'Je': 0.12944983818770225, 'yk': 0.0008449889929065397, 'mk': 0.0006166389750089927, 'Jo': 0.11650485436893204, 'K ': 0.029142381348875937, 'Ab': 0.005333739713501981, 'tb': 0.00015938577277053458, 'Ga': 0.02686108979278588, 'yz': 0.000778279335571813, ' Q': 6.0037364430333703e-05, 'Qu': 0.9714285714285714, 'Ea': 0.014621178555604785, 'Id': 0.004160887656033287, 'BO': 0.00887409872434831, 'OO': 0.019571865443425075, 'OK': 0.019571865443425075, 'fw': 0.0006042980700230389, 'pn': 0.0008201553169131404, 'Rh': 0.010140660778541054, 'km': 0.0016119806562321251, 'zn': 0.013596491228070176, 'Uh': 0.10954063604240283, 'S ': 0.00971198928332217, 'N ': 0.008024349750968456, 'Ad': 0.004419384334044499, 'fb': 0.000547645125958379, 'yh': 0.0006448600209023593, 'F ': 0.014381099126861838, 'EN': 0.012405848471422242, 'hg': 0.00017173699705593719, 'Vy': 0.025089605734767026, 'Fd': 0.01386748844375963, 'Ap': 0.004114599207558671, 'Gi': 0.02072141212586339, 'pm': 0.0006920060486454622, 'iq': 0.00016430753502184682, 'lz': 0.0002817842159093281, 'Ya': 0.021343873517786563, 'ww': 0.00046162313797205406, 'T ': 0.0038134350249339984, 'El': 0.011519716437749225, 'Ex': 0.011519716437749225, 'Mv': 0.00795593635250918, 'gw': 0.0004997601151447306, 'oq': 0.00013266118333775536, 'zu': 0.010964912280701754, 'yv': 0.0005559138111227236, 'Ry': 0.008177952240758913, 'aa': 0.00012235097396473234, 'Pu': 0.0035297728667894415, 'wt': 0.00040835892974450935, 'Za': 0.21296296296296297, 'wc': 0.00040835892974450935, 'bn': 0.0007085118031625391, 'Ml': 0.006731946144430845, 'nz': 0.00012183573220506061, 'Ce': 0.009933774834437087, 'Sw': 0.007032819825853985, 'Kn': 0.017485428809325562, 'mh': 0.0003597060687552457, 'Ja': 0.06472491909385113, 'D ': 0.00991571641051066, 'bd': 0.0006441016392386719, 'pk': 0.0005125970730707127, 'vu': 0.0007700600646850454, 'pw': 0.0005125970730707127, 'uy': 0.0003119297534195299, 'zd': 0.008771929824561403, 'TH': 0.0027867409797594604, 'tg': 8.65237052182902e-05, 'Wr': 0.006578947368421052, 'kf': 0.0009879881441422704, 'wu': 0.0003195852493652682, 'gm': 0.000359827282904206, 'Bl': 0.004991680532445923, 'yd': 0.000378021391563452, 'xu': 0.004582210242587601, 'Vs': 0.015232974910394265, 'bw': 0.0005474863933528711, 'Zn': 0.1574074074074074, 'lE': 0.00017741969149846583, 'ON': 0.009785932721712538, 'kg': 0.0008319900161198066, 'ku': 0.0008319900161198066, 'Ul': 0.05653710247349823, 'Gl': 0.012279355333844973, 'Sq': 0.0053583389149363695, 'Yk': 0.012648221343873518, 'RE': 0.004906771344455349, 'mw': 0.00025693290625374693, 'lh': 0.0001565467866162934, 'Cy': 0.007095553453169348, 'Ms': 0.004589963280293758, 'kt': 0.0007799906401123187, 'AN': 0.0021334958854007926, 'ND': 0.00387382401770891, 'OU': 0.00856269113149847, 'IN': 0.00176522506619594, 'zy': 0.0061403508771929825, 'Ac': 0.0021334958854007926, 'rq': 9.630266552020637e-05, 'eB': 4.175821351938224e-05, 'AR': 0.0019811033221578786, 'NT': 0.0035971223021582736, 'LI': 0.018258426966292134, 'Km': 0.010824313072439634, 'Os': 0.007951070336391437, 'Io': 0.0016391375614676585, 'M ': 0.00397796817625459, 'hh': 7.973503434739942e-05, 'Ri': 0.004252535165194635, 'fn': 0.0002454960909468595, 'VE': 0.010752688172043012, 'SE': 0.004018754186202277, 'kb': 0.000623992512089855, 'Oo': 0.007339449541284404, 'pb': 0.0003075582438424277, 'Ig': 0.001513050056739377, 'dc': 0.00010319917440660474, 'Uv': 0.04240282685512368, 'Sv': 0.004018754186202277, 'Lz': 0.016853932584269662, 'OR': 0.007339449541284404, 'OF': 0.00672782874617737, 'CE': 0.005203405865657522, 'EE': 0.004873726185201595, 'LE': 0.01544943820224719, 'Lu': 0.01544943820224719, 'eI': 3.5333872977938814e-05, 'Ei': 0.004873726185201595, 'yy': 0.00024460207689399834, 'Ke': 0.009159034138218152, 'Y ': 0.008695652173913044, 'ji': 0.0048543689320388345, 'uh': 0.00017156136438074146, 'fp': 0.0002077274615704196, 'wb': 0.00019530209683433055, 'gf': 0.00021989445066368144, 'tk': 5.0092671442168013e-05, 'IT': 0.0013869625520110957, 'UT': 0.0353356890459364, 'IS': 0.0012608750472828142, 'CT': 0.004730368968779565, 'tI': 4.5538792220152736e-05, 'yg': 0.0002223655244490894, 'Hm': 0.0022841480127912287, 'Ob': 0.0061162079510703364, 'RA': 0.0032711808963035655, 'Tv': 0.0014667057788207685, 'Sl': 0.003348961821835231, 'vD': 0.0003850300323425227, 'gv': 0.00019990404605789222, 'PR': 0.0013812154696132596, 'NE': 0.0024903154399557276, 'FO': 0.004622496147919877, 'cd': 0.00015124016938898973, 'mv': 0.00015415974375224817, 'hp': 5.520117762512267e-05, 'fk': 0.0001699588321939797, 'cw': 0.00015124016938898973, 'Fl': 0.004622496147919877, 'fh': 0.0001699588321939797, 'Cu': 0.004257332071901609, 'dp': 7.739938080495357e-05, 'vk': 0.00034652702910827044, 'TI': 0.0013200352009386917, 'ST': 0.0026791694574681848, 'HI': 0.001827318410232983, 'EC': 0.003544528134692069, 'GU': 0.0061396776669224865, 'AC': 0.0012191405059433099, 'IL': 0.0010087000378262514, 'dE': 6.879944960440316e-05, 'vv': 0.00030802402587401816, 'Nu': 0.002213613724405091, 'B ': 0.0022185246810870773, 'sI': 5.0027827979313496e-05, 'eK': 2.5697362165773684e-05, 'Kl': 0.006661115736885929, 'td': 3.643103377612219e-05, 'Kh': 0.006661115736885929, 'Ci': 0.003784295175023652, 'Vt': 0.007168458781362007, 'Nz': 0.002213613724405091, 'oY': 4.245157866808172e-05, 'Tl': 0.0011733646230566149, 'pg': 0.0002050388292282851, 'wg': 0.00012428315253093763, 'BE': 0.0019412090959511925, 'G ': 0.005372217958557176, 'WA': 0.0024238227146814403, 'EA': 0.0031014621178555605, 'CO': 0.0033112582781456954, 'UR': 0.024734982332155476, 'FI': 0.0035952747817154596, 'IR': 0.00088261253309797, 'Eg': 0.0031014621178555605, 'MA': 0.0021419828641370867, 'Zb': 0.06481481481481481, 'Aw': 0.0010667479427003963, 'Ph': 0.001074278698588091, 'U ': 0.024734982332155476, 'fd': 0.00013219020281753975, 'vz': 0.0002695210226397659, 'Dn': 0.0034705007436787306, 'Zd': 0.06481481481481481, 'xy': 0.0018867924528301887, 'gz': 0.00013993283224052454, 'L ': 0.009831460674157303, 'DI': 0.0034705007436787306, 'AG': 0.0010667479427003963, 'ES': 0.0031014621178555605, 'RT': 0.001962708537782139, 'RO': 0.001962708537782139, 'EP': 0.002658396101019052, 'yI': 0.00013341931466945365, 'Op': 0.003669724770642202, 'Es': 0.002658396101019052, 'IE': 0.0007565250283696885, 'Od': 0.003669724770642202, 'vw': 0.00023101801940551362, 'ih': 3.65127855604104e-05, 'RI': 0.001962708537782139, 'AT': 0.0009143553794574825, 'Ey': 0.002658396101019052, 'Us': 0.02120141342756184, 'fm': 0.00011330588812931979, 'Ib': 0.0007565250283696885, 'Pn': 0.0009208103130755065, 'Sy': 0.0020093770931011385, 'Ut': 0.02120141342756184, 'Tc': 0.0008800234672924611, 'AL': 0.0009143553794574825, 'Sk': 0.0020093770931011385, 'YO': 0.0047430830039525695, 'ED': 0.002658396101019052, 'TY': 0.0008800234672924611, 'EB': 0.002215330084182543, 'TA': 0.0007333528894103843, 'SI': 0.0016744809109176155, 'EV': 0.002215330084182543, 'UE': 0.0176678445229682, 'Bt': 0.0013865779256794233, 'Ak': 0.0007619628162145687, 'C ': 0.0023651844843897824, 'Et': 0.002215330084182543, 'Uk': 0.0176678445229682, 'iw': 3.0427321300342003e-05, 'NC': 0.001383508577753182, 'PO': 0.000767341927562922, 'Ek': 0.002215330084182543, 'Ow': 0.0030581039755351682, 'rI': 3.4393809114359416e-05, 'Cz': 0.0023651844843897824, 'Nv': 0.001383508577753182, 'dI': 4.299965600275198e-05, 'Ur': 0.0176678445229682, 'nT': 2.7689939137513777e-05, 'xo': 0.0013477088948787063, 'gc': 9.995202302894611e-05, ' x': 8.829024180931427e-06, 'Ec': 0.002215330084182543, 'NS': 0.001383508577753182, 'TO': 0.0007333528894103843, 'OS': 0.0030581039755351682, 'SC': 0.0016744809109176155, 'GE': 0.003837298541826554, 'HE': 0.0011420740063956144, 'TR': 0.0007333528894103843, 'IM': 0.0006304375236414071, 'ME': 0.0015299877600979193, 'NO': 0.001383508577753182, 'EM': 0.002215330084182543, 'H ': 0.0011420740063956144, 'DE': 0.002478929102627665, 'OJ': 0.0024464831804281344, 'JE': 0.012944983818770227, 'NB': 0.0011068068622025456, 'RG': 0.0013084723585214263, 'TW': 0.0005866823115283074, 'IG': 0.0005043500189131257, 'NI': 0.0011068068622025456, 'EL': 0.0017722640673460345, 'PI': 0.0006138735420503376, 'LO': 0.0056179775280898875, 'OG': 0.0024464831804281344, 'Fu': 0.002054442732408834, 'nI': 2.215195131001102e-05, 'uI': 6.238595068390598e-05, 'zv': 0.0017543859649122807, 'gI': 7.996161842315688e-05, 'md': 6.851544166766585e-05, 'AB': 0.0006095702529716549, 'xq': 0.001078167115902965, 'NA': 0.0011068068622025456, 'wm': 7.101894430339293e-05, 'Sd': 0.0013395847287340924, 'vd': 0.00015401201293700908, 'xl': 0.001078167115902965, 'sz': 2.5013913989656748e-05, 'zw': 0.0017543859649122807, 'sj': 2.5013913989656748e-05, 'IO': 0.0005043500189131257, 'hE': 2.4533856722276743e-05, 'SS': 0.0013395847287340924, 'yN': 8.894620977963576e-05, 'Ly': 0.0056179775280898875, 'Lr': 0.0056179775280898875, 'oZ': 2.122578933404086e-05, 'xs': 0.001078167115902965, 'BI': 0.0011092623405435386, 'LA': 0.0056179775280898875, 'AM': 0.0006095702529716549, 'NY': 0.0011068068622025456, 'IC': 0.0005043500189131257, 'AS': 0.0006095702529716549, 'IB': 0.0005043500189131257, 'US': 0.014134275618374558, 'RR': 0.0013084723585214263, 'DA': 0.0019831432821021317, 'GR': 0.0030698388334612432, 'UN': 0.014134275618374558, 'OT': 0.0024464831804281344, 'Up': 0.01060070671378092, 'PE': 0.00046040515653775324, 'WO': 0.001038781163434903, 'EI': 0.001329198050509526, 'GH': 0.0023023791250959325, 'HT': 0.0006852444038373687, 'IF': 0.00037826251418484426, 'RS': 0.0009813542688910696, 'tj': 1.3661637666045821e-05, 'rj': 2.063628546861565e-05, 'Ic': 0.00037826251418484426, 'UL': 0.01060070671378092, 'cm': 5.0413389796329905e-05, 'dT': 2.5799793601651186e-05, 'tR': 1.3661637666045821e-05, 'nR': 1.6613963482508265e-05, 'Ug': 0.01060070671378092, 'bc': 9.661524588580078e-05, 'Ai': 0.00045717768972874126, 'OL': 0.001834862385321101, 'EO': 0.001329198050509526, 'Ir': 0.00037826251418484426, 'Ll': 0.004213483146067416, 'Ov': 0.001834862385321101, 'vg': 0.00011550900970275681, 'Fk': 0.0015408320493066256, 'LU': 0.004213483146067416, 'kp': 0.00015599812802246374, 'Lg': 0.004213483146067416, 'nP': 1.6613963482508265e-05, 'Yu': 0.0023715415019762848, 'Bs': 0.0008319467554076539, 'gp': 5.9971213817367666e-05, 'wp': 5.32642082275447e-05, 'Bw': 0.0008319467554076539, 'bz': 9.661524588580078e-05, 'Pw': 0.00046040515653775324, 'Lb': 0.004213483146067416, 'tP': 1.3661637666045821e-05, 'Ef': 0.001329198050509526, 'MO': 0.0009179926560587516, 'OW': 0.001834862385321101, 'CL': 0.0014191106906338694, 'hz': 1.8400392541707557e-05, 'Oz': 0.001834862385321101, 'Db': 0.001487357461576599, 'kd': 0.00015599812802246374, 'FU': 0.0015408320493066256, 'LL': 0.004213483146067416, 'PL': 0.00046040515653775324, 'BU': 0.0008319467554076539, 'CI': 0.0014191106906338694, 'MI': 0.0009179926560587516, 'IA': 0.00037826251418484426, 'Ay': 0.00030478512648582747, 'pd': 5.1259707307071275e-05, 'TS': 0.0002933411557641537, 'HR': 0.00045682960255824577, 'WE': 0.0006925207756232687, 'LV': 0.0028089887640449437, 'FT': 0.001027221366204417, 'dz': 1.719986240110079e-05, 'kI': 0.00010399875201497582, 'Lv': 0.0028089887640449437, 'dS': 1.719986240110079e-05, 'Mm': 0.0006119951040391676, 'Ep': 0.0008861320336730173, 'RY': 0.0006542361792607131, 'Oe': 0.0012232415902140672, 'sZ': 1.2506956994828374e-05, 'aZ': 1.0195914497061027e-05, 'Az': 0.00030478512648582747, 'oP': 1.061289466702043e-05, 'rM': 1.3757523645743766e-05, 'pI': 5.1259707307071275e-05, 'mI': 3.4257720833832925e-05, 'nC': 1.107597565500551e-05, 'tB': 9.107758444030547e-06, 'sS': 1.2506956994828374e-05, 'uw': 3.119297534195299e-05, 'aI': 1.0195914497061027e-05, 'sG': 1.2506956994828374e-05, 'wI': 3.5509472151696465e-05, 'NN': 0.0005534034311012728, 'aq': 1.0195914497061027e-05, 'Ss': 0.0006697923643670462, 'Iw': 0.00025217500945656286, 'sC': 1.2506956994828374e-05, 'Tp': 0.0002933411557641537, 'Eq': 0.0008861320336730173, 'xM': 0.0005390835579514825, 'rW': 1.3757523645743766e-05, 'lq': 2.0872904882172454e-05, 'Py': 0.0003069367710251688, 'rA': 1.3757523645743766e-05, 'Wu': 0.0006925207756232687, 'bh': 6.441016392386718e-05, 'Xs': 0.0029717682020802376, 'rP': 1.3757523645743766e-05, 'LF': 0.0028089887640449437, 'tC': 9.107758444030547e-06, 'rK': 1.3757523645743766e-05, 'zs': 0.0008771929824561404, 'yG': 4.447310488981788e-05, 'Ok': 0.0012232415902140672, 'iN': 1.21709285201368e-05, 'OV': 0.0012232415902140672, 'W ': 0.0006925207756232687, 'OC': 0.0012232415902140672, 'gb': 3.998080921157844e-05, 'AF': 0.00030478512648582747, 'bk': 6.441016392386718e-05, 'uu': 3.119297534195299e-05, 'NG': 0.0005534034311012728, 'AD': 0.00030478512648582747, 'EF': 0.0008861320336730173, 'RK': 0.0006542361792607131, 'PG': 0.0003069367710251688, 'GL': 0.0015349194167306216, 'BR': 0.0005546311702717693, 'EX': 0.0008861320336730173, 'ID': 0.00025217500945656286, 'WI': 0.0006925207756232687, 'PU': 0.0003069367710251688, 'TF': 0.00014667057788207686, 'yT': 2.223655244490894e-05, 'Ed': 0.00044306601683650863, 'lI': 1.0436452441086227e-05, 'fg': 1.8884314688219965e-05, 'BC': 0.00027731558513588466, 'JU': 0.003236245954692557, 'PS': 0.0001534683855125844, 'tY': 4.553879222015274e-06, 'Rr': 0.00032711808963035657, 'sR': 6.253478497414187e-06, 'eS': 3.2121702707217105e-06, 'Zk': 0.009259259259259259, 'mR': 1.7128860416916463e-05, 'lA': 1.0436452441086227e-05, 'dU': 8.599931200550395e-06, 'MU': 0.0003059975520195838, 'Vk': 0.0008960573476702509, 'hF': 6.133464180569186e-06, 'hI': 6.133464180569186e-06, 'nM': 5.537987827502755e-06, 'Zu': 0.009259259259259259, 'rH': 6.878761822871883e-06, 'Gw': 0.0007674597083653108, 'uS': 1.5596487670976495e-05, 'Ip': 0.00012608750472828143, 'Yr': 0.0007905138339920949, 'Ee': 0.00044306601683650863, 'sB': 6.253478497414187e-06, 'Av': 0.00015239256324291374, 'Aa': 0.00015239256324291374, 'vb': 3.850300323425227e-05, 'yY': 2.223655244490894e-05, 'qc': 0.00043554006968641115, 'yA': 2.223655244490894e-05, 'lS': 1.0436452441086227e-05, 'yW': 2.223655244490894e-05, 'Ty': 0.00014667057788207686, 'Nl': 0.0002767017155506364, 'eM': 3.2121702707217105e-06, 'wB': 1.7754736075848232e-05, 'tE': 4.553879222015274e-06, 'wN': 1.7754736075848232e-05, 'yC': 2.223655244490894e-05, 'rC': 6.878761822871883e-06, 'nD': 5.537987827502755e-06, 'iF': 6.0854642600684e-06, 'eR': 3.2121702707217105e-06, 'rT': 6.878761822871883e-06, 'rR': 6.878761822871883e-06, 'aM': 5.097957248530514e-06, 'gq': 1.999040460578922e-05, 'uq': 1.5596487670976495e-05, 'dN': 8.599931200550395e-06, 'Kv': 0.0008326394671107411, 'iy': 6.0854642600684e-06, 'rB': 6.878761822871883e-06, 'Dv': 0.0004957858205255329, 'kk': 5.199937600748791e-05, 'Md': 0.0003059975520195838, 'gk': 1.999040460578922e-05, 'Gh': 0.0007674597083653108, 'q ': 0.00043554006968641115, 'uP': 1.5596487670976495e-05, 'Zi': 0.009259259259259259, 'tM': 4.553879222015274e-06, 'Wl': 0.00034626038781163435, 'yH': 2.223655244490894e-05, 'wM': 1.7754736075848232e-05, 'zc': 0.0004385964912280702, 'Gc': 0.0007674597083653108, 'lx': 1.0436452441086227e-05, 'hH': 6.133464180569186e-06, 'dA': 8.599931200550395e-06, 'Gn': 0.0007674597083653108, 'xE': 0.00026954177897574127, 'Vn': 0.0008960573476702509, 'Ps': 0.0001534683855125844, 'zb': 0.0004385964912280702, 'Zw': 0.009259259259259259, 'nN': 5.537987827502755e-06, 'yF': 2.223655244490894e-05, 'sD': 6.253478497414187e-06, 'gY': 1.999040460578922e-05, 'sP': 6.253478497414187e-06, 'Kd': 0.0008326394671107411, 'aT': 5.097957248530514e-06, 'hV': 6.133464180569186e-06, 'gE': 1.999040460578922e-05, 'xf': 0.00026954177897574127, 'tG': 4.553879222015274e-06, 'gN': 1.999040460578922e-05, 'mP': 1.7128860416916463e-05, 'Lp': 0.0014044943820224719, 'aY': 5.097957248530514e-06, 'EU': 0.00044306601683650863, 'KO': 0.0008326394671107411, 'UZ': 0.0035335689045936395, 'ZO': 0.009259259259259259, 'OB': 0.0006116207951070336, 'Ds': 0.0004957858205255329, 'Sr': 0.0003348961821835231, 'Rz': 0.00032711808963035657, 'vh': 3.850300323425227e-05, 'Kk': 0.0008326394671107411, 'fj': 1.8884314688219965e-05, 'rG': 6.878761822871883e-06, 'eT': 3.2121702707217105e-06, 'zt': 0.0004385964912280702, 'NH': 0.0002767017155506364, 'gO': 1.999040460578922e-05, 'eO': 3.2121702707217105e-06, 'mg': 1.7128860416916463e-05, 'oF': 5.306447333510215e-06, 'vK': 3.850300323425227e-05, 'FF': 0.0005136106831022085, 'uj': 1.5596487670976495e-05, 'Ih': 0.00012608750472828143, 'Gz': 0.0007674597083653108, 'aV': 5.097957248530514e-06, 'gK': 1.999040460578922e-05, 'Ax': 0.00015239256324291374, 'eC': 3.2121702707217105e-06, 'yj': 2.223655244490894e-05, 'oT': 5.306447333510215e-06, 'tW': 4.553879222015274e-06, 'lM': 1.0436452441086227e-05, 'eP': 3.2121702707217105e-06, 'rD': 6.878761822871883e-06, 'Kw': 0.0008326394671107411, 'gM': 1.999040460578922e-05, 'gP': 1.999040460578922e-05, 'Ia': 0.00012608750472828143, 'eD': 3.2121702707217105e-06, 'tS': 4.553879222015274e-06, 'sN': 6.253478497414187e-06, 'Vw': 0.0008960573476702509, 'Gt': 0.0007674597083653108, 'YT': 0.0007905138339920949, 'AI': 0.00015239256324291374, 'AV': 0.00015239256324291374, 'EG': 0.00044306601683650863, 'XC': 0.0014858841010401188, 'HO': 0.00022841480127912289, 'PA': 0.0001534683855125844, 'PH': 0.0001534683855125844, 'WN': 0.00034626038781163435, 'BL': 0.00027731558513588466, 'TU': 0.00014667057788207686, 'UA': 0.0035335689045936395, 'EQ': 0.00044306601683650863, 'QU': 0.02857142857142857, 'GI': 0.0007674597083653108, 'SU': 0.0003348961821835231, 'UC': 0.0035335689045936395, 'KI': 0.0008326394671107411, 'XP': 0.0014858841010401188, 'MP': 0.0003059975520195838, 'UD': 0.0035335689045936395, 'RC': 0.00032711808963035657, 'TN': 0.00014667057788207686, 'RP': 0.00032711808963035657, 'MN': 0.0003059975520195838, 'AK': 0.00015239256324291374, 'DO': 0.0004957858205255329}\n"
     ]
    }
   ],
   "source": [
    "print(M)"
   ]
  },
  {
   "cell_type": "code",
   "execution_count": 0,
   "metadata": {
    "colab": {
     "base_uri": "https://localhost:8080/",
     "height": 312
    },
    "colab_type": "code",
    "id": "gkQeBrPMcDH6",
    "outputId": "ea98cebb-ead9-4786-cea3-3a760016999a"
   },
   "outputs": [
    {
     "name": "stdout",
     "output_type": "stream",
     "text": [
      "r =  0 = 0.0 %\tdecrypted =  XLxFXZUFcMcFMsFXZUFkHnHSLcFsZFcLA EOsFsvMxFkLxxHSL\n",
      "r =  1 = 0.0 %\tdecrypted =  XLxFXZUFcMcFMsFXZUFkHnHSLcFsZFcLA EOsFsvMxFkLxxHSL\n",
      "r =  2 = 0.0 %\tdecrypted =  XLxFXZUFcMcFMsFXZUFkHnHSLcFsZFcLA EOsFsvMxFkLxxHSL\n",
      "r =  3 = 0.0 %\tdecrypted =  XLxFXZUFcMcFMsFXZUFkHnHSLcFsZFcLA EOsFsvMxFkLxxHSL\n",
      "r =  4 = 0.0 %\tdecrypted =  XLxFXZUFcMcFMsFXZUFkHnHSLcFsZFcLA EOsFsvMxFkLxxHSL\n",
      "r =  5 = 0.0 %\tdecrypted =  XLxFXZUFcMcFMsFXZUFkHnHSLcFsZFcLA EOsFsvMxFkLxxHSL\n",
      "r =  6 = 0.1 %\tdecrypted =  XLxFXZUFcMcFMsFXZUFkHnHSLcFsZFcLA EOsFsvMxFkLxxHSL\n",
      "r =  7 = 0.1 %\tdecrypted =  XLxFXZUFcMcFMsFXZUFkHnHSLcFsZFcLA EOsFsvMxFkLxxHSL\n",
      "r =  8 = 0.1 %\tdecrypted =  XLxFXZUFcMcFMsFXZUFkHnHSLcFsZFcLA EOsFsvMxFkLxxHSL\n",
      "r =  9 = 0.1 %\tdecrypted =  XLxFXZUFcMcFMsFXZUFkHnHSLcFsZFcLA EOsFsvMxFkLxxHSL\n",
      "r =  1000 = 10.0 %\tdecrypted =  Neu Nab fof om Nab tsnsdef ma fecyghm miou teuusde\n",
      "r =  2000 = 20.0 %\tdecrypted =  Yes Yai yuy um Yai tonodey ma yeprkhm mbus tessode\n",
      "r =  3000 = 30.0 %\tdecrypted =  Bes Bau did im Bau tonoged ma defryhm mpis tessoge\n",
      "r =  4000 = 40.0 %\tdecrypted =  Les Lou did im Lou tanaged mo defryhm mpis tessage\n",
      "r =  5000 = 50.0 %\tdecrypted =  Yes You did im You tanaged mo defryhm mpis tessage\n",
      "r =  6000 = 60.0 %\tdecrypted =  Yes You did im You tanaged mo defryhm mpis tessage\n",
      "r =  7000 = 70.0 %\tdecrypted =  Yes You did im You tanaged mo defryhm mpis tessage\n"
     ]
    }
   ],
   "source": [
    "\n",
    "for r in np.arange(R):   \n",
    "\n",
    "  if (np.mod(r,tenth)==0 or r<10):\n",
    "    metropolis_decrypted = transform_message(cryptogram, sigma, char_mapping, char_mapping_inv)\n",
    "    print(\"r = \", r, \"=\",np.round(100*r/R,1),\"%\\tdecrypted = \", metropolis_decrypted[:show_length])\n",
    "         \n",
    "  sigma2=cp.copy(sigma)\n",
    "\n",
    "  #random perm, but only take first two elements = i,j uniform and distinct\n",
    "  tmp=np.random.permutation(number_of_characters)\n",
    "  i=tmp[0]\n",
    "  j=tmp[1]\n",
    "  sigma2[[i,j]]=sigma2[[j,i]]\n",
    "  \n",
    "  ratio2 = calc_likelihood_ratio(cryptogram, M, sigma, i, j, char_mapping_inv, char_mapping)\n",
    "  \n",
    "  alpha=min(1,ratio2)\n",
    "  U=np.random.random(1)[0]\n",
    "  if (U<=alpha):\n",
    "      sigma=cp.copy(sigma2)"
   ]
  },
  {
   "cell_type": "code",
   "execution_count": 0,
   "metadata": {
    "colab": {},
    "colab_type": "code",
    "id": "dIAqgn3EfYLH"
   },
   "outputs": [],
   "source": [
    "print(sigma)"
   ]
  },
  {
   "cell_type": "code",
   "execution_count": 0,
   "metadata": {
    "colab": {},
    "colab_type": "code",
    "id": "z2Rn5lWGKySa"
   },
   "outputs": [],
   "source": [
    "metropolis_decrypted = transform_message(cryptogram, sigma, char_mapping, char_mapping_inv)\n",
    "print(metropolis_decrypted)"
   ]
  },
  {
   "cell_type": "markdown",
   "metadata": {
    "colab_type": "text",
    "id": "b39knPjLoZIW"
   },
   "source": [
    "# HOMEWORK: traveling salesman problem (TSP)"
   ]
  },
  {
   "cell_type": "markdown",
   "metadata": {
    "colab_type": "text",
    "id": "gfIohuhjpCtE"
   },
   "source": [
    "We are given 13 cities in US:\n",
    "\n",
    "![13 cities in US](https://raw.githubusercontent.com/lorek/datasets/master/tsp_13cities.png)"
   ]
  },
  {
   "cell_type": "code",
   "execution_count": 0,
   "metadata": {
    "colab": {},
    "colab_type": "code",
    "id": "kWz4N_ZkpFtm"
   },
   "outputs": [],
   "source": []
  },
  {
   "cell_type": "markdown",
   "metadata": {
    "colab_type": "text",
    "id": "CWcHaYnvpx_5"
   },
   "source": [
    "The distances between each of them (they are numbered somehow) are given in a matrix M (miles?)"
   ]
  },
  {
   "cell_type": "code",
   "execution_count": 0,
   "metadata": {
    "colab": {},
    "colab_type": "code",
    "id": "M8CHzKYAp4r7"
   },
   "outputs": [],
   "source": [
    "M=np.array([\n",
    "        [0, 2451, 713, 1018, 1631, 1374, 2408, 213, 2571, 875, 1420, 2145, 1972],\n",
    "        [2451, 0, 1745, 1524, 831, 1240, 959, 2596, 403, 1589, 1374, 357, 579],\n",
    "        [713, 1745, 0, 355, 920, 803, 1737, 851, 1858, 262, 940, 1453, 1260],\n",
    "        [1018, 1524, 355, 0, 700, 862, 1395, 1123, 1584, 466, 1056, 1280, 987],\n",
    "        [1631, 831, 920, 700, 0, 663, 1021, 1769, 949, 796, 879, 586, 371],\n",
    "        [1374, 1240, 803, 862, 663, 0, 1681, 1551, 1765, 547, 225, 887, 999],\n",
    "        [2408, 959, 1737, 1395, 1021, 1681, 0, 2493, 678, 1724, 1891, 1114, 701],\n",
    "        [213, 2596, 851, 1123, 1769, 1551, 2493, 0, 2699, 1038, 1605, 2300, 2099],\n",
    "        [2571, 403, 1858, 1584, 949, 1765, 678, 2699, 0, 1744, 1645, 653, 600],\n",
    "        [875, 1589, 262, 466, 796, 547, 1724, 1038, 1744, 0, 679, 1272, 1162],\n",
    "        [1420, 1374, 940, 1056, 879, 225, 1891, 1605, 1645, 679, 0, 1017, 1200],\n",
    "        [2145, 357, 1453, 1280, 586, 887, 1114, 2300, 653, 1272, 1017, 0, 504],\n",
    "        [1972, 579, 1260, 987, 371, 999, 701, 2099, 600, 1162, 1200, 504, 0],\n",
    "    ])\n",
    "n=M.shape[0]"
   ]
  },
  {
   "cell_type": "markdown",
   "metadata": {
    "colab_type": "text",
    "id": "uZNKn-SOqCCI"
   },
   "source": [
    "Set some permutation -- the orderding a salesman visits the cities:\n",
    "\n",
    "$$f(\\sigma)=\\sum_{k=1}^{n-1}M(\\sigma_k, \\sigma_{k+1})+M(\\sigma_n,\\sigma_1).$$\n",
    "  We aim at seeking \n",
    "  $$\\sigma^*=\\textrm{argmax}_{\\sigma} (\\exp(-f(\\sigma))),$$"
   ]
  },
  {
   "cell_type": "code",
   "execution_count": 0,
   "metadata": {
    "colab": {},
    "colab_type": "code",
    "id": "An1fyRxsp5Zb"
   },
   "outputs": [],
   "source": [
    "sigma"
   ]
  },
  {
   "cell_type": "code",
   "execution_count": 0,
   "metadata": {
    "colab": {},
    "colab_type": "code",
    "id": "S9hPeYEsrFb9"
   },
   "outputs": [],
   "source": [
    "def calc_dist(M,sigma):\n",
    "# a function computing total distance of a salesman\n",
    "# with given M and sigma\n",
    "# aka f(sigma)\n",
    "\tn=np.shape(sigma)[0];\n",
    "\tfsum=0;\n",
    "\tfor i in np.arange(0,n-1):\t\t\n",
    "\t\tfsum = fsum + M[sigma[i],sigma[i+1]]\t\t\n",
    "\tfsum = fsum + M[sigma[n-1],sigma[0]]\n",
    "\treturn fsum"
   ]
  },
  {
   "cell_type": "markdown",
   "metadata": {
    "colab_type": "text",
    "id": "DUKTkY6jq_-m"
   },
   "source": []
  },
  {
   "cell_type": "code",
   "execution_count": 0,
   "metadata": {
    "colab": {},
    "colab_type": "code",
    "id": "GN55kp1Bq_Iu"
   },
   "outputs": [],
   "source": [
    "#Try several random permutations:\n",
    "np.random.seed(1234)\n",
    "dist_avg=0\n",
    "nr_iter=10\n",
    "for i in np.arange(nr_iter):\n",
    "  sigma=np.random.permutation(n);\n",
    "  dist = calc_dist(M,sigma)\n",
    "  print(\"iter \", i, \", dist = \", dist)\n",
    "  dist_avg += dist\n",
    "dist_avg=dist_avg/nr_iter\n",
    "print(\"Average dist = \", np.round(dist_avg,2))"
   ]
  },
  {
   "cell_type": "code",
   "execution_count": 0,
   "metadata": {
    "colab": {},
    "colab_type": "code",
    "id": "-wwcQvnHr0Av"
   },
   "outputs": [],
   "source": []
  },
  {
   "cell_type": "markdown",
   "metadata": {
    "colab_type": "text",
    "id": "xvnoTS99sEXM"
   },
   "source": [
    "### TO DO: \n",
    "Come up with some $\\pi(\\sigma)$, as in substitution cipher, take $\\sigma'$ as a neighbour of $\\sigma$ if two elements are swapped. \n",
    "Write function tsp_calc_likelihood_ratio which computes $\\pi(\\sigma')/\\pi(\\sigma)$\n"
   ]
  },
  {
   "cell_type": "code",
   "execution_count": 0,
   "metadata": {
    "colab": {},
    "colab_type": "code",
    "id": "CCv9tslfs-2T"
   },
   "outputs": [],
   "source": [
    "def tsp_calc_likelihood_ratio(M, sigma, i, j):\n",
    "  ratio=1\n",
    "  # TO DO _______ \n",
    "  # TO DO _______ \n",
    "  # TO DO _______ \n",
    " \n",
    "  return ratio;"
   ]
  },
  {
   "cell_type": "markdown",
   "metadata": {
    "colab_type": "text",
    "id": "uwHevyS6tecc"
   },
   "source": [
    "### The Metropolis algorithm for TSP\n",
    "start with some random $\\sigma$"
   ]
  },
  {
   "cell_type": "code",
   "execution_count": 0,
   "metadata": {
    "colab": {},
    "colab_type": "code",
    "id": "dQF3kwjEtkHf"
   },
   "outputs": [],
   "source": [
    "sigma=np.random.permutation(n);\n",
    "\n",
    "R = 200\n",
    "\n",
    "sigma_best = cp.copy(sigma)\n",
    "sigma_best_dist = calc_dist(M,sigma)\n",
    "y=np.zeros(R)\n",
    "for k in np.arange(R):    \n",
    "    i = np.random.randint(n)\n",
    "    j = np.random.randint(n)\n",
    "\t\n",
    "    sigma2=cp.copy(sigma)\n",
    "    sigma2[[i,j]]=sigma2[[j,i]]\n",
    "   \n",
    "    ratio = tsp_calc_likelihood_ratio(M, sigma, i, j)\n",
    "    alpha=np.minimum(1,ratio)\n",
    "    \n",
    "    if np.random.rand(1)[0]<=alpha:\n",
    "        sigma=cp.copy(sigma2)\n",
    "                \n",
    "    if calc_dist(M,sigma)<sigma_best_dist:\n",
    "        sigma_best_dist = calc_dist(M,sigma)\n",
    "        sigma_best = cp.copy(sigma)\n",
    "\n",
    "    y[k]=calc_dist(M,sigma)\n",
    "\n",
    "print(\"Best sigma give dist = \", np.round(sigma_best_dist,2))\n",
    "plt.plot(np.arange(R),y)\n",
    "plt.title(\"Distance vs. step\")\n",
    "plt.show()\n",
    "\n",
    "\t\n"
   ]
  },
  {
   "cell_type": "code",
   "execution_count": 0,
   "metadata": {
    "colab": {},
    "colab_type": "code",
    "id": "Eq0QmHPwtd-W"
   },
   "outputs": [],
   "source": []
  },
  {
   "cell_type": "markdown",
   "metadata": {
    "colab_type": "text",
    "id": "jibKcnY5w0ys"
   },
   "source": [
    "With good/proper tsp_calc_ratio function you should get something similar to:\n",
    "\n",
    "![alt text](https://raw.githubusercontent.com/lorek/datasets/master/tsp_dist.png)\n"
   ]
  },
  {
   "cell_type": "code",
   "execution_count": 0,
   "metadata": {
    "colab": {},
    "colab_type": "code",
    "id": "rOsL-gkWtJup"
   },
   "outputs": [],
   "source": []
  }
 ],
 "metadata": {
  "colab": {
   "collapsed_sections": [],
   "name": "Metropolis_workshop.ipynb",
   "provenance": []
  },
  "kernelspec": {
   "display_name": "Python 3",
   "language": "python",
   "name": "python3"
  },
  "language_info": {
   "codemirror_mode": {
    "name": "ipython",
    "version": 3
   },
   "file_extension": ".py",
   "mimetype": "text/x-python",
   "name": "python",
   "nbconvert_exporter": "python",
   "pygments_lexer": "ipython3",
   "version": "3.7.6"
  }
 },
 "nbformat": 4,
 "nbformat_minor": 1
}
