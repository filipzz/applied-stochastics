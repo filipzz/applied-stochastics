{
  "nbformat": 4,
  "nbformat_minor": 0,
  "metadata": {
    "colab": {
      "name": "randomWalk1.ipynb",
      "provenance": [],
      "collapsed_sections": [],
      "toc_visible": true,
      "include_colab_link": true
    },
    "kernelspec": {
      "name": "python3",
      "display_name": "Python 3"
    }
  },
  "cells": [
    {
      "cell_type": "markdown",
      "metadata": {
        "id": "view-in-github",
        "colab_type": "text"
      },
      "source": [
        "<a href=\"https://colab.research.google.com/github/filipzz/applied-stochastics/blob/master/01_intro/randomWalk1.ipynb\" target=\"_parent\"><img src=\"https://colab.research.google.com/assets/colab-badge.svg\" alt=\"Open In Colab\"/></a>"
      ]
    },
    {
      "cell_type": "markdown",
      "metadata": {
        "id": "F6tSNHJ6OIXw",
        "colab_type": "text"
      },
      "source": [
        "# Markov chains - Example 1"
      ]
    },
    {
      "cell_type": "markdown",
      "metadata": {
        "id": "FRHdVh21OYTo",
        "colab_type": "text"
      },
      "source": [
        "We start with a couple of imports"
      ]
    },
    {
      "cell_type": "code",
      "metadata": {
        "id": "_lqGKNTbNCiD",
        "colab_type": "code",
        "colab": {}
      },
      "source": [
        "import numpy as np\n",
        "import pandas as pd\n",
        "from random import seed\n",
        "from random import random\n",
        "import matplotlib.pyplot as plt"
      ],
      "execution_count": 0,
      "outputs": []
    },
    {
      "cell_type": "markdown",
      "metadata": {
        "id": "8vR75cUPOgLF",
        "colab_type": "text"
      },
      "source": [
        "## Defining the process"
      ]
    },
    {
      "cell_type": "markdown",
      "metadata": {
        "id": "O_m3Zm6lOprx",
        "colab_type": "text"
      },
      "source": [
        "The process: random walk on a square.\n",
        "\n",
        "State space: $V = \\{v_1, v_2, v_3, v_4\\}$.\n",
        "\n",
        "Let $X_n$ for each $n$ denotes the index of the vertex of the square:\n",
        "![Graph representation of the process](https://github.com/filipzz/applied-stochastics/raw/master/01_intro/img/square-1.png)\n",
        "\n",
        "We express it as:\n",
        "\n",
        "$P = \\left(\n",
        "\\begin{array}{cccc}\n",
        " 0 & \\frac{1}{2} & 0 & \\frac{1}{2} \\\\\n",
        " \\frac{1}{2} & 0 & \\frac{1}{2} & 0 \\\\\n",
        " 0 & \\frac{1}{2} & 0 & \\frac{1}{2} \\\\\n",
        " \\frac{1}{2} & 0 & \\frac{1}{2} & 0 \\\\\n",
        "\\end{array}\n",
        "\\right)$"
      ]
    },
    {
      "cell_type": "markdown",
      "metadata": {
        "id": "Y9aM2ibpObk3",
        "colab_type": "text"
      },
      "source": [
        "**P** is transition matrix of the process"
      ]
    },
    {
      "cell_type": "code",
      "metadata": {
        "id": "93NjSVZ6OafB",
        "colab_type": "code",
        "colab": {}
      },
      "source": [
        "P = np.array([[0, .5, 0, .5],\n",
        "              [.5, 0, .5, 0],\n",
        "              [0, .5, 0, .5],\n",
        "              [.5, 0, .5, 0]])"
      ],
      "execution_count": 0,
      "outputs": []
    },
    {
      "cell_type": "code",
      "metadata": {
        "id": "GSTffLYtjsq7",
        "colab_type": "code",
        "colab": {}
      },
      "source": [
        "P = np.array([[.1, .2, .3, .4],\n",
        "              [.4, .1, .2, .3],\n",
        "              [.4, .2, .1, .3],\n",
        "              [.3, .4, .2, .1]])"
      ],
      "execution_count": 0,
      "outputs": []
    },
    {
      "cell_type": "code",
      "metadata": {
        "id": "5nI6BzL29svW",
        "colab_type": "code",
        "colab": {}
      },
      "source": [
        "P = np.array([[1/2, 0, 1/2, 0, 0], [0, 1/2, 1/2, 0, 0], [1/4, 1/4, 0, 1/4, 1/\n",
        "  4], [0, 0, 1/2, 1/2, 0], [0, 0, 1/2, 0, 1/2]])"
      ],
      "execution_count": 0,
      "outputs": []
    },
    {
      "cell_type": "markdown",
      "metadata": {
        "id": "cGhoTpfcOs0R",
        "colab_type": "text"
      },
      "source": [
        "**x** is the initial distribution"
      ]
    },
    {
      "cell_type": "code",
      "metadata": {
        "id": "mbeEQW-2OkM_",
        "colab_type": "code",
        "colab": {}
      },
      "source": [
        "x = np.array([[1.0, 0, 0, 0]])"
      ],
      "execution_count": 0,
      "outputs": []
    },
    {
      "cell_type": "code",
      "metadata": {
        "id": "RM7vEaXzSxR6",
        "colab_type": "code",
        "colab": {}
      },
      "source": [
        "stateHist = x\n",
        "dfStateHist = pd.DataFrame(x)\n",
        "distr_hist = [[0, 0, 0, 0]]"
      ],
      "execution_count": 0,
      "outputs": []
    },
    {
      "cell_type": "markdown",
      "metadata": {
        "id": "JSN7sRG8Mu0N",
        "colab_type": "text"
      },
      "source": [
        "$ x_1 = x_0 + 7$"
      ]
    },
    {
      "cell_type": "code",
      "metadata": {
        "id": "8hTKngLZTCZv",
        "colab_type": "code",
        "outputId": "9370fcdf-a1de-42cf-83f6-787140ba2c1f",
        "colab": {
          "base_uri": "https://localhost:8080/",
          "height": 1000
        }
      },
      "source": [
        "for i in range(50):\n",
        "  x = np.dot(x, P)\n",
        "  print(\"step:\\t\" + str(i+1) + \"\\t\" + str(x))\n",
        "  stateHist = np.append(stateHist, x, axis=0)\n",
        "  dfDistrHist = pd.DataFrame(stateHist)\n",
        "  \n",
        "dfDistrHist.plot()\n",
        "plt.show()"
      ],
      "execution_count": 26,
      "outputs": [
        {
          "output_type": "stream",
          "text": [
            "step:\t1\t[[0.  0.5 0.  0.5]]\n",
            "step:\t2\t[[0.375 0.125 0.375 0.125]]\n",
            "step:\t3\t[[0.09375 0.40625 0.09375 0.40625]]\n",
            "step:\t4\t[[0.3046875 0.1953125 0.3046875 0.1953125]]\n",
            "step:\t5\t[[0.14648438 0.35351562 0.14648438 0.35351562]]\n",
            "step:\t6\t[[0.26513672 0.23486328 0.26513672 0.23486328]]\n",
            "step:\t7\t[[0.17614746 0.32385254 0.17614746 0.32385254]]\n",
            "step:\t8\t[[0.2428894 0.2571106 0.2428894 0.2571106]]\n",
            "step:\t9\t[[0.19283295 0.30716705 0.19283295 0.30716705]]\n",
            "step:\t10\t[[0.23037529 0.26962471 0.23037529 0.26962471]]\n",
            "step:\t11\t[[0.20221853 0.29778147 0.20221853 0.29778147]]\n",
            "step:\t12\t[[0.2233361 0.2766639 0.2233361 0.2766639]]\n",
            "step:\t13\t[[0.20749792 0.29250208 0.20749792 0.29250208]]\n",
            "step:\t14\t[[0.21937656 0.28062344 0.21937656 0.28062344]]\n",
            "step:\t15\t[[0.21046758 0.28953242 0.21046758 0.28953242]]\n",
            "step:\t16\t[[0.21714931 0.28285069 0.21714931 0.28285069]]\n",
            "step:\t17\t[[0.21213802 0.28786198 0.21213802 0.28786198]]\n",
            "step:\t18\t[[0.21589649 0.28410351 0.21589649 0.28410351]]\n",
            "step:\t19\t[[0.21307763 0.28692237 0.21307763 0.28692237]]\n",
            "step:\t20\t[[0.21519177 0.28480823 0.21519177 0.28480823]]\n",
            "step:\t21\t[[0.21360617 0.28639383 0.21360617 0.28639383]]\n",
            "step:\t22\t[[0.21479537 0.28520463 0.21479537 0.28520463]]\n",
            "step:\t23\t[[0.21390347 0.28609653 0.21390347 0.28609653]]\n",
            "step:\t24\t[[0.2145724 0.2854276 0.2145724 0.2854276]]\n",
            "step:\t25\t[[0.2140707 0.2859293 0.2140707 0.2859293]]\n",
            "step:\t26\t[[0.21444697 0.28555303 0.21444697 0.28555303]]\n",
            "step:\t27\t[[0.21416477 0.28583523 0.21416477 0.28583523]]\n",
            "step:\t28\t[[0.21437642 0.28562358 0.21437642 0.28562358]]\n",
            "step:\t29\t[[0.21421768 0.28578232 0.21421768 0.28578232]]\n",
            "step:\t30\t[[0.21433674 0.28566326 0.21433674 0.28566326]]\n",
            "step:\t31\t[[0.21424745 0.28575255 0.21424745 0.28575255]]\n",
            "step:\t32\t[[0.21431441 0.28568559 0.21431441 0.28568559]]\n",
            "step:\t33\t[[0.21426419 0.28573581 0.21426419 0.28573581]]\n",
            "step:\t34\t[[0.21430186 0.28569814 0.21430186 0.28569814]]\n",
            "step:\t35\t[[0.21427361 0.28572639 0.21427361 0.28572639]]\n",
            "step:\t36\t[[0.2142948 0.2857052 0.2142948 0.2857052]]\n",
            "step:\t37\t[[0.2142789 0.2857211 0.2142789 0.2857211]]\n",
            "step:\t38\t[[0.21429082 0.28570918 0.21429082 0.28570918]]\n",
            "step:\t39\t[[0.21428188 0.28571812 0.21428188 0.28571812]]\n",
            "step:\t40\t[[0.21428859 0.28571141 0.21428859 0.28571141]]\n",
            "step:\t41\t[[0.21428356 0.28571644 0.21428356 0.28571644]]\n",
            "step:\t42\t[[0.21428733 0.28571267 0.21428733 0.28571267]]\n",
            "step:\t43\t[[0.2142845 0.2857155 0.2142845 0.2857155]]\n",
            "step:\t44\t[[0.21428662 0.28571338 0.21428662 0.28571338]]\n",
            "step:\t45\t[[0.21428503 0.28571497 0.21428503 0.28571497]]\n",
            "step:\t46\t[[0.21428623 0.28571377 0.21428623 0.28571377]]\n",
            "step:\t47\t[[0.21428533 0.28571467 0.21428533 0.28571467]]\n",
            "step:\t48\t[[0.214286 0.285714 0.214286 0.285714]]\n",
            "step:\t49\t[[0.2142855 0.2857145 0.2142855 0.2857145]]\n",
            "step:\t50\t[[0.21428588 0.28571412 0.21428588 0.28571412]]\n"
          ],
          "name": "stdout"
        },
        {
          "output_type": "display_data",
          "data": {
            "image/png": "[encoded data removed]",
            "text/plain": [
              "<Figure size 432x288 with 1 Axes>"
            ]
          },
          "metadata": {
            "tags": []
          }
        }
      ]
    }
  ]
}