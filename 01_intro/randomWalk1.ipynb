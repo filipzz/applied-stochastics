{
 "cells": [
  {
   "cell_type": "markdown",
   "metadata": {
    "slideshow": {
     "slide_type": "slide"
    }
   },
   "source": [
    "# Applied stochastics with applications for security and privacy"
   ]
  },
  {
   "cell_type": "markdown",
   "metadata": {
    "slideshow": {
     "slide_type": "fragment"
    }
   },
   "source": [
    "## Lecture 2 :: Example 1 :: square jumping\n",
    "\n",
    "Course website: [https://github.com/filipzz/applied-stochastics](https://github.com/filipzz/applied-stochastics)"
   ]
  },
  {
   "cell_type": "markdown",
   "metadata": {
    "colab_type": "text",
    "id": "F6tSNHJ6OIXw",
    "slideshow": {
     "slide_type": "slide"
    }
   },
   "source": [
    "# Markov chains - Example 1"
   ]
  },
  {
   "cell_type": "markdown",
   "metadata": {
    "slideshow": {
     "slide_type": "fragment"
    }
   },
   "source": [
    "![Walk on square](img/square-plain.png)"
   ]
  },
  {
   "cell_type": "markdown",
   "metadata": {
    "colab_type": "text",
    "id": "FRHdVh21OYTo",
    "slideshow": {
     "slide_type": "slide"
    }
   },
   "source": [
    "We start with a couple of imports"
   ]
  },
  {
   "cell_type": "code",
   "execution_count": 3,
   "metadata": {
    "colab": {},
    "colab_type": "code",
    "id": "_lqGKNTbNCiD",
    "slideshow": {
     "slide_type": "fragment"
    }
   },
   "outputs": [],
   "source": [
    "import numpy as np\n",
    "import pandas as pd\n",
    "from random import seed\n",
    "from random import random\n",
    "import matplotlib.pyplot as plt"
   ]
  },
  {
   "cell_type": "markdown",
   "metadata": {
    "colab_type": "text",
    "id": "8vR75cUPOgLF",
    "slideshow": {
     "slide_type": "slide"
    }
   },
   "source": [
    "## Defining the process"
   ]
  },
  {
   "cell_type": "markdown",
   "metadata": {
    "colab_type": "text",
    "id": "O_m3Zm6lOprx",
    "slideshow": {
     "slide_type": "subslide"
    }
   },
   "source": [
    "The process: random walk on a square.\n",
    "\n",
    "State space: $V = \\{v_1, v_2, v_3, v_4\\}$.\n",
    "\n",
    "![Graph representation of the process](img/square-1.png)\n",
    "\n"
   ]
  },
  {
   "cell_type": "markdown",
   "metadata": {
    "slideshow": {
     "slide_type": "subslide"
    }
   },
   "source": [
    "We express it as:\n",
    "\n",
    "$P = \\left(\n",
    "\\begin{array}{cccc}\n",
    " 0 & \\frac{1}{2} & 0 & \\frac{1}{2} \\\\\n",
    " \\frac{1}{2} & 0 & \\frac{1}{2} & 0 \\\\\n",
    " 0 & \\frac{1}{2} & 0 & \\frac{1}{2} \\\\\n",
    " \\frac{1}{2} & 0 & \\frac{1}{2} & 0 \\\\\n",
    "\\end{array}\n",
    "\\right)$"
   ]
  },
  {
   "cell_type": "markdown",
   "metadata": {
    "slideshow": {
     "slide_type": "slide"
    }
   },
   "source": [
    "![Graph representation of the process](img/square-1.png)\n",
    "$P = \\left(\n",
    "\\begin{array}{cccc}\n",
    " 0 & \\frac{1}{2} & 0 & \\frac{1}{2} \\\\\n",
    " \\frac{1}{2} & 0 & \\frac{1}{2} & 0 \\\\\n",
    " 0 & \\frac{1}{2} & 0 & \\frac{1}{2} \\\\\n",
    " \\frac{1}{2} & 0 & \\frac{1}{2} & 0 \\\\\n",
    "\\end{array}\n",
    "\\right)$"
   ]
  },
  {
   "cell_type": "markdown",
   "metadata": {
    "colab_type": "text",
    "id": "Y9aM2ibpObk3",
    "slideshow": {
     "slide_type": "slide"
    }
   },
   "source": [
    "**P** is transition matrix of the process"
   ]
  },
  {
   "cell_type": "markdown",
   "metadata": {
    "slideshow": {
     "slide_type": "fragment"
    }
   },
   "source": [
    "$P = \\left(\n",
    "\\begin{array}{cccc}\n",
    " 0 & \\frac{1}{2} & 0 & \\frac{1}{2} \\\\\n",
    " \\frac{1}{2} & 0 & \\frac{1}{2} & 0 \\\\\n",
    " 0 & \\frac{1}{2} & 0 & \\frac{1}{2} \\\\\n",
    " \\frac{1}{2} & 0 & \\frac{1}{2} & 0 \\\\\n",
    "\\end{array}\n",
    "\\right)$"
   ]
  },
  {
   "cell_type": "code",
   "execution_count": 8,
   "metadata": {
    "colab": {},
    "colab_type": "code",
    "id": "93NjSVZ6OafB",
    "slideshow": {
     "slide_type": "fragment"
    }
   },
   "outputs": [],
   "source": [
    "P = np.array([[0, .5, 0, .5],\n",
    "              [.5, 0, .5, 0],\n",
    "              [0, .5, 0, .5],\n",
    "              [.5, 0, .5, 0]])"
   ]
  },
  {
   "cell_type": "code",
   "execution_count": 0,
   "metadata": {
    "colab": {},
    "colab_type": "code",
    "id": "GSTffLYtjsq7",
    "slideshow": {
     "slide_type": "skip"
    }
   },
   "outputs": [],
   "source": [
    "P = np.array([[.1, .2, .3, .4],\n",
    "              [.4, .1, .2, .3],\n",
    "              [.4, .2, .1, .3],\n",
    "              [.3, .4, .2, .1]])"
   ]
  },
  {
   "cell_type": "code",
   "execution_count": 0,
   "metadata": {
    "colab": {},
    "colab_type": "code",
    "id": "5nI6BzL29svW",
    "slideshow": {
     "slide_type": "skip"
    }
   },
   "outputs": [],
   "source": [
    "P = np.array([[1/2, 0, 1/2, 0, 0], [0, 1/2, 1/2, 0, 0], [1/4, 1/4, 0, 1/4, 1/\n",
    "  4], [0, 0, 1/2, 1/2, 0], [0, 0, 1/2, 0, 1/2]])"
   ]
  },
  {
   "cell_type": "markdown",
   "metadata": {
    "colab_type": "text",
    "id": "cGhoTpfcOs0R",
    "slideshow": {
     "slide_type": "slide"
    }
   },
   "source": [
    "$X_0$ is the initial distribution.\n",
    "\n",
    "$P(X_0 = 1) = 1$\n",
    "\n",
    "$x$ is the initial distribution"
   ]
  },
  {
   "cell_type": "code",
   "execution_count": 9,
   "metadata": {
    "colab": {},
    "colab_type": "code",
    "id": "mbeEQW-2OkM_",
    "slideshow": {
     "slide_type": "fragment"
    }
   },
   "outputs": [],
   "source": [
    "x = np.array([[1.0, 0, 0, 0]])"
   ]
  },
  {
   "cell_type": "code",
   "execution_count": null,
   "metadata": {
    "slideshow": {
     "slide_type": "slide"
    }
   },
   "outputs": [],
   "source": [
    "Defining additional variables"
   ]
  },
  {
   "cell_type": "code",
   "execution_count": 10,
   "metadata": {
    "colab": {},
    "colab_type": "code",
    "id": "RM7vEaXzSxR6",
    "slideshow": {
     "slide_type": "subslide"
    }
   },
   "outputs": [],
   "source": [
    "stateHist = x\n",
    "dfStateHist = pd.DataFrame(x)\n",
    "distr_hist = [[0, 0, 0, 0]]"
   ]
  },
  {
   "cell_type": "markdown",
   "metadata": {
    "slideshow": {
     "slide_type": "slide"
    }
   },
   "source": [
    "## Computing distribution"
   ]
  },
  {
   "cell_type": "code",
   "execution_count": 11,
   "metadata": {
    "colab": {
     "base_uri": "https://localhost:8080/",
     "height": 1000
    },
    "colab_type": "code",
    "id": "8hTKngLZTCZv",
    "outputId": "9370fcdf-a1de-42cf-83f6-787140ba2c1f",
    "slideshow": {
     "slide_type": "subslide"
    }
   },
   "outputs": [
    {
     "name": "stdout",
     "output_type": "stream",
     "text": [
      "step:\t1\t[[0.  0.5 0.  0.5]]\n",
      "step:\t2\t[[0.5 0.  0.5 0. ]]\n",
      "step:\t3\t[[0.  0.5 0.  0.5]]\n",
      "step:\t4\t[[0.5 0.  0.5 0. ]]\n",
      "step:\t5\t[[0.  0.5 0.  0.5]]\n",
      "step:\t6\t[[0.5 0.  0.5 0. ]]\n",
      "step:\t7\t[[0.  0.5 0.  0.5]]\n",
      "step:\t8\t[[0.5 0.  0.5 0. ]]\n",
      "step:\t9\t[[0.  0.5 0.  0.5]]\n",
      "step:\t10\t[[0.5 0.  0.5 0. ]]\n",
      "step:\t11\t[[0.  0.5 0.  0.5]]\n",
      "step:\t12\t[[0.5 0.  0.5 0. ]]\n",
      "step:\t13\t[[0.  0.5 0.  0.5]]\n",
      "step:\t14\t[[0.5 0.  0.5 0. ]]\n",
      "step:\t15\t[[0.  0.5 0.  0.5]]\n",
      "step:\t16\t[[0.5 0.  0.5 0. ]]\n",
      "step:\t17\t[[0.  0.5 0.  0.5]]\n",
      "step:\t18\t[[0.5 0.  0.5 0. ]]\n",
      "step:\t19\t[[0.  0.5 0.  0.5]]\n",
      "step:\t20\t[[0.5 0.  0.5 0. ]]\n",
      "step:\t21\t[[0.  0.5 0.  0.5]]\n",
      "step:\t22\t[[0.5 0.  0.5 0. ]]\n",
      "step:\t23\t[[0.  0.5 0.  0.5]]\n",
      "step:\t24\t[[0.5 0.  0.5 0. ]]\n",
      "step:\t25\t[[0.  0.5 0.  0.5]]\n",
      "step:\t26\t[[0.5 0.  0.5 0. ]]\n",
      "step:\t27\t[[0.  0.5 0.  0.5]]\n",
      "step:\t28\t[[0.5 0.  0.5 0. ]]\n",
      "step:\t29\t[[0.  0.5 0.  0.5]]\n",
      "step:\t30\t[[0.5 0.  0.5 0. ]]\n",
      "step:\t31\t[[0.  0.5 0.  0.5]]\n",
      "step:\t32\t[[0.5 0.  0.5 0. ]]\n",
      "step:\t33\t[[0.  0.5 0.  0.5]]\n",
      "step:\t34\t[[0.5 0.  0.5 0. ]]\n",
      "step:\t35\t[[0.  0.5 0.  0.5]]\n",
      "step:\t36\t[[0.5 0.  0.5 0. ]]\n",
      "step:\t37\t[[0.  0.5 0.  0.5]]\n",
      "step:\t38\t[[0.5 0.  0.5 0. ]]\n",
      "step:\t39\t[[0.  0.5 0.  0.5]]\n",
      "step:\t40\t[[0.5 0.  0.5 0. ]]\n",
      "step:\t41\t[[0.  0.5 0.  0.5]]\n",
      "step:\t42\t[[0.5 0.  0.5 0. ]]\n",
      "step:\t43\t[[0.  0.5 0.  0.5]]\n",
      "step:\t44\t[[0.5 0.  0.5 0. ]]\n",
      "step:\t45\t[[0.  0.5 0.  0.5]]\n",
      "step:\t46\t[[0.5 0.  0.5 0. ]]\n",
      "step:\t47\t[[0.  0.5 0.  0.5]]\n",
      "step:\t48\t[[0.5 0.  0.5 0. ]]\n",
      "step:\t49\t[[0.  0.5 0.  0.5]]\n",
      "step:\t50\t[[0.5 0.  0.5 0. ]]\n"
     ]
    }
   ],
   "source": [
    "for i in range(50):\n",
    "  x = np.dot(x, P)\n",
    "  print(\"step:\\t\" + str(i+1) + \"\\t\" + str(x))\n",
    "  stateHist = np.append(stateHist, x, axis=0)\n",
    "  dfDistrHist = pd.DataFrame(stateHist)"
   ]
  },
  {
   "cell_type": "markdown",
   "metadata": {
    "slideshow": {
     "slide_type": "slide"
    }
   },
   "source": [
    "## Visualize"
   ]
  },
  {
   "cell_type": "code",
   "execution_count": null,
   "metadata": {
    "slideshow": {
     "slide_type": "fragment"
    }
   },
   "outputs": [],
   "source": [
    "...\n",
    "step:\t39\t[[0.  0.5 0.  0.5]]\n",
    "step:\t40\t[[0.5 0.  0.5 0. ]]\n",
    "step:\t41\t[[0.  0.5 0.  0.5]]\n",
    "step:\t42\t[[0.5 0.  0.5 0. ]]\n",
    "step:\t43\t[[0.  0.5 0.  0.5]]\n",
    "step:\t44\t[[0.5 0.  0.5 0. ]]\n",
    "step:\t45\t[[0.  0.5 0.  0.5]]\n",
    "..."
   ]
  },
  {
   "cell_type": "code",
   "execution_count": 12,
   "metadata": {
    "slideshow": {
     "slide_type": "fragment"
    }
   },
   "outputs": [
    {
     "data": {
      "image/png": "[encoded data removed]",
      "text/plain": [
       "<matplotlib.figure.Figure at 0x7f4f2cf129b0>"
      ]
     },
     "metadata": {},
     "output_type": "display_data"
    }
   ],
   "source": [
    "dfDistrHist.plot()\n",
    "plt.show()"
   ]
  },
  {
   "cell_type": "code",
   "execution_count": null,
   "metadata": {},
   "outputs": [],
   "source": []
  }
 ],
 "metadata": {
  "celltoolbar": "Slideshow",
  "colab": {
   "collapsed_sections": [],
   "include_colab_link": true,
   "name": "randomWalk1.ipynb",
   "provenance": [],
   "toc_visible": true
  },
  "kernelspec": {
   "display_name": "Python 3",
   "language": "python",
   "name": "python3"
  },
  "language_info": {
   "codemirror_mode": {
    "name": "ipython",
    "version": 3
   },
   "file_extension": ".py",
   "mimetype": "text/x-python",
   "name": "python",
   "nbconvert_exporter": "python",
   "pygments_lexer": "ipython3",
   "version": "3.6.9"
  }
 },
 "nbformat": 4,
 "nbformat_minor": 1
}
