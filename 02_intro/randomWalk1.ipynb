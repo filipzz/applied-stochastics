{
 "cells": [
  {
   "cell_type": "markdown",
   "metadata": {
    "cell_style": "center",
    "slideshow": {
     "slide_type": "slide"
    }
   },
   "source": [
    "# Applied Stochastics \n",
    "\n",
    "## with applications for security and privacy"
   ]
  },
  {
   "cell_type": "code",
   "execution_count": 2,
   "metadata": {
    "colab": {},
    "colab_type": "code",
    "id": "_lqGKNTbNCiD",
    "slideshow": {
     "slide_type": "fragment"
    }
   },
   "outputs": [],
   "source": [
    "import numpy as np\n",
    "import pandas as pd\n",
    "from matplotlib import pyplot"
   ]
  },
  {
   "cell_type": "markdown",
   "metadata": {
    "slideshow": {
     "slide_type": "slide"
    }
   },
   "source": [
    "## Initial distribution"
   ]
  },
  {
   "cell_type": "code",
   "execution_count": 3,
   "metadata": {
    "cell_style": "center",
    "slideshow": {
     "slide_type": "fragment"
    }
   },
   "outputs": [],
   "source": [
    "x = np.array([[0, 1.0, 0, 0]])"
   ]
  },
  {
   "cell_type": "markdown",
   "metadata": {
    "colab_type": "text",
    "id": "8vR75cUPOgLF",
    "slideshow": {
     "slide_type": "slide"
    }
   },
   "source": [
    "## Transition matrix - interpretation"
   ]
  },
  {
   "cell_type": "markdown",
   "metadata": {
    "cell_style": "split",
    "slideshow": {
     "slide_type": "fragment"
    }
   },
   "source": [
    "$P = \\left(\n",
    "\\begin{array}{cccc}\n",
    " P_{1,1} & P_{1,2} & P_{1,3} & P_{1,4} \\\\\n",
    " P_{2,1} & P_{2,2} & P_{2,3} & P_{2,4} \\\\\n",
    " P_{3,1} & P_{3,2} & P_{3,3} & P_{3,4} \\\\\n",
    " P_{4,1} & P_{4,2} & P_{4,3} & P_{4,4} \\\\\n",
    "\\end{array}\n",
    "\\right)$"
   ]
  },
  {
   "cell_type": "markdown",
   "metadata": {
    "cell_style": "split",
    "slideshow": {
     "slide_type": "fragment"
    }
   },
   "source": [
    "$P = \\left(\n",
    "\\begin{array}{cccc}\n",
    " 0 & \\frac{1}{2} & 0 & \\frac{1}{2} \\\\\n",
    " \\frac{1}{2} & 0 & \\frac{1}{2} & 0 \\\\\n",
    " 0 & \\frac{1}{2} & 0 & \\frac{1}{2} \\\\\n",
    " \\frac{1}{2} & 0 & \\frac{1}{2} & 0 \\\\\n",
    "\\end{array}\n",
    "\\right)$"
   ]
  },
  {
   "cell_type": "code",
   "execution_count": 4,
   "metadata": {
    "cell_style": "split",
    "colab": {},
    "colab_type": "code",
    "id": "93NjSVZ6OafB",
    "slideshow": {
     "slide_type": "fragment"
    }
   },
   "outputs": [],
   "source": [
    "P = np.array([[0, .5, 0, .5],\n",
    "              [.5, 0, .5, 0],\n",
    "              [0, .5, 0, .5],\n",
    "              [.5, 0, .5, 0]])"
   ]
  },
  {
   "cell_type": "markdown",
   "metadata": {
    "cell_style": "split",
    "slideshow": {
     "slide_type": "fragment"
    }
   },
   "source": [
    "![RW](img/square-1.png)"
   ]
  },
  {
   "cell_type": "code",
   "execution_count": 4,
   "metadata": {
    "colab": {},
    "colab_type": "code",
    "id": "RM7vEaXzSxR6",
    "slideshow": {
     "slide_type": "fragment"
    }
   },
   "outputs": [],
   "source": [
    "stateHist = x\n",
    "dfStateHist = pd.DataFrame(x)\n",
    "distr_hist = [[0, 0, 0, 0]]"
   ]
  },
  {
   "cell_type": "markdown",
   "metadata": {
    "slideshow": {
     "slide_type": "slide"
    }
   },
   "source": [
    "## Observing the process"
   ]
  },
  {
   "cell_type": "code",
   "execution_count": 17,
   "metadata": {
    "cell_style": "split",
    "colab": {
     "base_uri": "https://localhost:8080/",
     "height": 1000
    },
    "colab_type": "code",
    "id": "8hTKngLZTCZv",
    "outputId": "9370fcdf-a1de-42cf-83f6-787140ba2c1f",
    "slideshow": {
     "slide_type": "fragment"
    }
   },
   "outputs": [
    {
     "name": "stdout",
     "output_type": "stream",
     "text": [
      "step:\t1\t[[0.5 0.  0.5 0. ]]\n",
      "step:\t2\t[[0.  0.5 0.  0.5]]\n",
      "step:\t3\t[[0.5 0.  0.5 0. ]]\n",
      "step:\t4\t[[0.  0.5 0.  0.5]]\n",
      "step:\t5\t[[0.5 0.  0.5 0. ]]\n",
      "step:\t6\t[[0.  0.5 0.  0.5]]\n",
      "step:\t7\t[[0.5 0.  0.5 0. ]]\n",
      "step:\t8\t[[0.  0.5 0.  0.5]]\n",
      "step:\t9\t[[0.5 0.  0.5 0. ]]\n",
      "step:\t10\t[[0.  0.5 0.  0.5]]\n",
      "step:\t11\t[[0.5 0.  0.5 0. ]]\n",
      "step:\t12\t[[0.  0.5 0.  0.5]]\n",
      "step:\t13\t[[0.5 0.  0.5 0. ]]\n",
      "step:\t14\t[[0.  0.5 0.  0.5]]\n",
      "step:\t15\t[[0.5 0.  0.5 0. ]]\n",
      "step:\t16\t[[0.  0.5 0.  0.5]]\n",
      "step:\t17\t[[0.5 0.  0.5 0. ]]\n",
      "step:\t18\t[[0.  0.5 0.  0.5]]\n",
      "step:\t19\t[[0.5 0.  0.5 0. ]]\n",
      "step:\t20\t[[0.  0.5 0.  0.5]]\n",
      "step:\t21\t[[0.5 0.  0.5 0. ]]\n",
      "step:\t22\t[[0.  0.5 0.  0.5]]\n",
      "step:\t23\t[[0.5 0.  0.5 0. ]]\n",
      "step:\t24\t[[0.  0.5 0.  0.5]]\n",
      "step:\t25\t[[0.5 0.  0.5 0. ]]\n",
      "step:\t26\t[[0.  0.5 0.  0.5]]\n",
      "step:\t27\t[[0.5 0.  0.5 0. ]]\n",
      "step:\t28\t[[0.  0.5 0.  0.5]]\n",
      "step:\t29\t[[0.5 0.  0.5 0. ]]\n",
      "step:\t30\t[[0.  0.5 0.  0.5]]\n",
      "step:\t31\t[[0.5 0.  0.5 0. ]]\n",
      "step:\t32\t[[0.  0.5 0.  0.5]]\n",
      "step:\t33\t[[0.5 0.  0.5 0. ]]\n",
      "step:\t34\t[[0.  0.5 0.  0.5]]\n",
      "step:\t35\t[[0.5 0.  0.5 0. ]]\n",
      "step:\t36\t[[0.  0.5 0.  0.5]]\n",
      "step:\t37\t[[0.5 0.  0.5 0. ]]\n",
      "step:\t38\t[[0.  0.5 0.  0.5]]\n",
      "step:\t39\t[[0.5 0.  0.5 0. ]]\n",
      "step:\t40\t[[0.  0.5 0.  0.5]]\n",
      "step:\t41\t[[0.5 0.  0.5 0. ]]\n",
      "step:\t42\t[[0.  0.5 0.  0.5]]\n",
      "step:\t43\t[[0.5 0.  0.5 0. ]]\n",
      "step:\t44\t[[0.  0.5 0.  0.5]]\n",
      "step:\t45\t[[0.5 0.  0.5 0. ]]\n",
      "step:\t46\t[[0.  0.5 0.  0.5]]\n",
      "step:\t47\t[[0.5 0.  0.5 0. ]]\n",
      "step:\t48\t[[0.  0.5 0.  0.5]]\n",
      "step:\t49\t[[0.5 0.  0.5 0. ]]\n",
      "step:\t50\t[[0.  0.5 0.  0.5]]\n"
     ]
    }
   ],
   "source": [
    "for i in range(50):\n",
    "  x = np.dot(x, P)\n",
    "  print(\"step:\\t\" + str(i+1) + \"\\t\" + str(x))\n",
    "  stateHist = np.append(stateHist, x, axis=0)\n",
    "  dfDistrHist = pd.DataFrame(stateHist)"
   ]
  },
  {
   "cell_type": "code",
   "execution_count": 7,
   "metadata": {
    "cell_style": "split",
    "slideshow": {
     "slide_type": "fragment"
    }
   },
   "outputs": [
    {
     "data": {
      "image/png": "[encoded data removed]",
      "text/plain": [
       "<Figure size 432x288 with 1 Axes>"
      ]
     },
     "metadata": {
      "needs_background": "light"
     },
     "output_type": "display_data"
    }
   ],
   "source": [
    "dfDistrHist.plot()\n",
    "pyplot.show()"
   ]
  },
  {
   "cell_type": "markdown",
   "metadata": {
    "slideshow": {
     "slide_type": "slide"
    }
   },
   "source": [
    "## Example 2"
   ]
  },
  {
   "cell_type": "code",
   "execution_count": 32,
   "metadata": {
    "cell_style": "split",
    "colab": {},
    "colab_type": "code",
    "id": "5nI6BzL29svW",
    "slideshow": {
     "slide_type": "fragment"
    }
   },
   "outputs": [],
   "source": [
    "P = np.array([[1/2, 0, 1/2, 0, 0], \n",
    "              [0, 1/2, 1/2, 0, 0], \n",
    "              [1/4, 1/4, 0, 1/4, 1/4], \n",
    "              [0, 0, 1/2, 1/2, 0], \n",
    "              [0, 0, 1/2, 0, 1/2]])"
   ]
  },
  {
   "cell_type": "code",
   "execution_count": 33,
   "metadata": {
    "cell_style": "split",
    "slideshow": {
     "slide_type": "fragment"
    }
   },
   "outputs": [],
   "source": [
    "x = np.array([[0, 1.0, 0, 0, 0]])\n",
    "stateHist = x\n",
    "dfStateHist = pd.DataFrame(x)\n",
    "distr_hist = [[0, 0, 0, 0, 0]]\n"
   ]
  },
  {
   "cell_type": "code",
   "execution_count": 34,
   "metadata": {
    "cell_style": "split",
    "slideshow": {
     "slide_type": "fragment"
    }
   },
   "outputs": [
    {
     "name": "stdout",
     "output_type": "stream",
     "text": [
      "step:1\t[[0.  0.5 0.5 0.  0. ]]\n",
      "step:2\t[[0.125 0.375 0.25  0.125 0.125]]\n",
      "step:3\t[[0.125 0.25  0.375 0.125 0.125]]\n",
      "step:4\t[[0.15625 0.21875 0.3125  0.15625 0.15625]]\n",
      "step:5\t[[0.15625 0.1875  0.34375 0.15625 0.15625]]\n",
      "step:6\t[[0.1640625 0.1796875 0.328125  0.1640625 0.1640625]]\n",
      "step:7\t[[0.1640625 0.171875  0.3359375 0.1640625 0.1640625]]\n",
      "step:8\t[[0.16601562 0.16992188 0.33203125 0.16601562 0.16601562]]\n",
      "step:9\t[[0.16601562 0.16796875 0.33398438 0.16601562 0.16601562]]\n",
      "step:10\t[[0.16650391 0.16748047 0.33300781 0.16650391 0.16650391]]\n",
      "step:11\t[[0.16650391 0.16699219 0.33349609 0.16650391 0.16650391]]\n",
      "step:12\t[[0.16662598 0.16687012 0.33325195 0.16662598 0.16662598]]\n",
      "step:13\t[[0.16662598 0.16674805 0.33337402 0.16662598 0.16662598]]\n",
      "step:14\t[[0.16665649 0.16671753 0.33331299 0.16665649 0.16665649]]\n",
      "step:15\t[[0.16665649 0.16668701 0.33334351 0.16665649 0.16665649]]\n",
      "step:16\t[[0.16666412 0.16667938 0.33332825 0.16666412 0.16666412]]\n",
      "step:17\t[[0.16666412 0.16667175 0.33333588 0.16666412 0.16666412]]\n",
      "step:18\t[[0.16666603 0.16666985 0.33333206 0.16666603 0.16666603]]\n",
      "step:19\t[[0.16666603 0.16666794 0.33333397 0.16666603 0.16666603]]\n",
      "step:20\t[[0.16666651 0.16666746 0.33333302 0.16666651 0.16666651]]\n",
      "step:21\t[[0.16666651 0.16666698 0.33333349 0.16666651 0.16666651]]\n",
      "step:22\t[[0.16666663 0.16666687 0.33333325 0.16666663 0.16666663]]\n",
      "step:23\t[[0.16666663 0.16666675 0.33333337 0.16666663 0.16666663]]\n",
      "step:24\t[[0.16666666 0.16666672 0.33333331 0.16666666 0.16666666]]\n",
      "step:25\t[[0.16666666 0.16666669 0.33333334 0.16666666 0.16666666]]\n",
      "step:26\t[[0.16666666 0.16666668 0.33333333 0.16666666 0.16666666]]\n",
      "step:27\t[[0.16666666 0.16666667 0.33333334 0.16666666 0.16666666]]\n",
      "step:28\t[[0.16666667 0.16666667 0.33333333 0.16666667 0.16666667]]\n",
      "step:29\t[[0.16666667 0.16666667 0.33333333 0.16666667 0.16666667]]\n",
      "step:30\t[[0.16666667 0.16666667 0.33333333 0.16666667 0.16666667]]\n",
      "step:31\t[[0.16666667 0.16666667 0.33333333 0.16666667 0.16666667]]\n",
      "step:32\t[[0.16666667 0.16666667 0.33333333 0.16666667 0.16666667]]\n",
      "step:33\t[[0.16666667 0.16666667 0.33333333 0.16666667 0.16666667]]\n",
      "step:34\t[[0.16666667 0.16666667 0.33333333 0.16666667 0.16666667]]\n",
      "step:35\t[[0.16666667 0.16666667 0.33333333 0.16666667 0.16666667]]\n",
      "step:36\t[[0.16666667 0.16666667 0.33333333 0.16666667 0.16666667]]\n",
      "step:37\t[[0.16666667 0.16666667 0.33333333 0.16666667 0.16666667]]\n",
      "step:38\t[[0.16666667 0.16666667 0.33333333 0.16666667 0.16666667]]\n",
      "step:39\t[[0.16666667 0.16666667 0.33333333 0.16666667 0.16666667]]\n",
      "step:40\t[[0.16666667 0.16666667 0.33333333 0.16666667 0.16666667]]\n",
      "step:41\t[[0.16666667 0.16666667 0.33333333 0.16666667 0.16666667]]\n",
      "step:42\t[[0.16666667 0.16666667 0.33333333 0.16666667 0.16666667]]\n",
      "step:43\t[[0.16666667 0.16666667 0.33333333 0.16666667 0.16666667]]\n",
      "step:44\t[[0.16666667 0.16666667 0.33333333 0.16666667 0.16666667]]\n",
      "step:45\t[[0.16666667 0.16666667 0.33333333 0.16666667 0.16666667]]\n",
      "step:46\t[[0.16666667 0.16666667 0.33333333 0.16666667 0.16666667]]\n",
      "step:47\t[[0.16666667 0.16666667 0.33333333 0.16666667 0.16666667]]\n",
      "step:48\t[[0.16666667 0.16666667 0.33333333 0.16666667 0.16666667]]\n",
      "step:49\t[[0.16666667 0.16666667 0.33333333 0.16666667 0.16666667]]\n",
      "step:50\t[[0.16666667 0.16666667 0.33333333 0.16666667 0.16666667]]\n"
     ]
    }
   ],
   "source": [
    "for i in range(50):\n",
    "  x = np.dot(x, P)\n",
    "  print(\"step:\" + str(i+1) + \"\\t\" + str(x))\n",
    "  stateHist = np.append(stateHist, x, axis=0)\n",
    "  dfDistrHist = pd.DataFrame(stateHist)"
   ]
  },
  {
   "cell_type": "code",
   "execution_count": 35,
   "metadata": {
    "cell_style": "split",
    "slideshow": {
     "slide_type": "fragment"
    }
   },
   "outputs": [
    {
     "data": {
      "image/png": "[encoded data removed]",
      "text/plain": [
       "<Figure size 432x288 with 1 Axes>"
      ]
     },
     "metadata": {
      "needs_background": "light"
     },
     "output_type": "display_data"
    }
   ],
   "source": [
    "dfDistrHist.plot()\n",
    "pyplot.show()"
   ]
  },
  {
   "cell_type": "markdown",
   "metadata": {
    "slideshow": {
     "slide_type": "slide"
    }
   },
   "source": [
    "## Example 3"
   ]
  },
  {
   "cell_type": "code",
   "execution_count": 27,
   "metadata": {
    "cell_style": "split",
    "colab": {},
    "colab_type": "code",
    "id": "GSTffLYtjsq7",
    "slideshow": {
     "slide_type": "fragment"
    }
   },
   "outputs": [],
   "source": [
    "P = np.array([[.1, .2, .3, .4],\n",
    "              [.4, .1, .2, .3],\n",
    "              [.4, .2, .1, .3],\n",
    "              [.3, .4, .2, .1]])"
   ]
  },
  {
   "cell_type": "code",
   "execution_count": 29,
   "metadata": {
    "cell_style": "split",
    "slideshow": {
     "slide_type": "fragment"
    }
   },
   "outputs": [],
   "source": [
    "x = np.array([[0, 1.0, 0, 0]])\n",
    "stateHist = x\n",
    "dfStateHist = pd.DataFrame(x)\n",
    "distr_hist = [[0, 0, 0, 0]]"
   ]
  },
  {
   "cell_type": "code",
   "execution_count": 30,
   "metadata": {
    "cell_style": "split",
    "slideshow": {
     "slide_type": "fragment"
    }
   },
   "outputs": [
    {
     "name": "stdout",
     "output_type": "stream",
     "text": [
      "step:1\t[[0.4 0.1 0.2 0.3]]\n",
      "step:2\t[[0.25 0.25 0.22 0.28]]\n",
      "step:3\t[[0.297 0.231 0.203 0.269]]\n",
      "step:4\t[[0.284  0.2307 0.2094 0.2759]]\n",
      "step:5\t[[0.28721 0.23211 0.20746 0.27322]]\n",
      "step:6\t[[0.286515 0.231433 0.207975 0.274077]]\n",
      "step:7\t[[0.2866378 0.2316721 0.207854  0.2738361]]\n",
      "step:8\t[[0.28662505 0.23160001 0.20787838 0.27389656]]\n",
      "step:9\t[[0.28662283 0.23161931 0.20787467 0.27388319]]\n",
      "step:10\t[[0.28662483 0.23161471 0.20787482 0.27388564]]\n",
      "step:11\t[[0.28662399 0.23161566 0.207875   0.27388535]]\n",
      "step:12\t[[0.28662427 0.23161551 0.2078749  0.27388533]]\n",
      "step:13\t[[0.28662419 0.23161552 0.20787494 0.27388536]]\n",
      "step:14\t[[0.28662421 0.23161552 0.20787492 0.27388535]]\n",
      "step:15\t[[0.2866242  0.23161552 0.20787493 0.27388535]]\n",
      "step:16\t[[0.2866242  0.23161552 0.20787493 0.27388535]]\n",
      "step:17\t[[0.2866242  0.23161552 0.20787493 0.27388535]]\n",
      "step:18\t[[0.2866242  0.23161552 0.20787493 0.27388535]]\n",
      "step:19\t[[0.2866242  0.23161552 0.20787493 0.27388535]]\n",
      "step:20\t[[0.2866242  0.23161552 0.20787493 0.27388535]]\n",
      "step:21\t[[0.2866242  0.23161552 0.20787493 0.27388535]]\n",
      "step:22\t[[0.2866242  0.23161552 0.20787493 0.27388535]]\n",
      "step:23\t[[0.2866242  0.23161552 0.20787493 0.27388535]]\n",
      "step:24\t[[0.2866242  0.23161552 0.20787493 0.27388535]]\n",
      "step:25\t[[0.2866242  0.23161552 0.20787493 0.27388535]]\n",
      "step:26\t[[0.2866242  0.23161552 0.20787493 0.27388535]]\n",
      "step:27\t[[0.2866242  0.23161552 0.20787493 0.27388535]]\n",
      "step:28\t[[0.2866242  0.23161552 0.20787493 0.27388535]]\n",
      "step:29\t[[0.2866242  0.23161552 0.20787493 0.27388535]]\n",
      "step:30\t[[0.2866242  0.23161552 0.20787493 0.27388535]]\n",
      "step:31\t[[0.2866242  0.23161552 0.20787493 0.27388535]]\n",
      "step:32\t[[0.2866242  0.23161552 0.20787493 0.27388535]]\n",
      "step:33\t[[0.2866242  0.23161552 0.20787493 0.27388535]]\n",
      "step:34\t[[0.2866242  0.23161552 0.20787493 0.27388535]]\n",
      "step:35\t[[0.2866242  0.23161552 0.20787493 0.27388535]]\n",
      "step:36\t[[0.2866242  0.23161552 0.20787493 0.27388535]]\n",
      "step:37\t[[0.2866242  0.23161552 0.20787493 0.27388535]]\n",
      "step:38\t[[0.2866242  0.23161552 0.20787493 0.27388535]]\n",
      "step:39\t[[0.2866242  0.23161552 0.20787493 0.27388535]]\n",
      "step:40\t[[0.2866242  0.23161552 0.20787493 0.27388535]]\n",
      "step:41\t[[0.2866242  0.23161552 0.20787493 0.27388535]]\n",
      "step:42\t[[0.2866242  0.23161552 0.20787493 0.27388535]]\n",
      "step:43\t[[0.2866242  0.23161552 0.20787493 0.27388535]]\n",
      "step:44\t[[0.2866242  0.23161552 0.20787493 0.27388535]]\n",
      "step:45\t[[0.2866242  0.23161552 0.20787493 0.27388535]]\n",
      "step:46\t[[0.2866242  0.23161552 0.20787493 0.27388535]]\n",
      "step:47\t[[0.2866242  0.23161552 0.20787493 0.27388535]]\n",
      "step:48\t[[0.2866242  0.23161552 0.20787493 0.27388535]]\n",
      "step:49\t[[0.2866242  0.23161552 0.20787493 0.27388535]]\n",
      "step:50\t[[0.2866242  0.23161552 0.20787493 0.27388535]]\n"
     ]
    }
   ],
   "source": [
    "for i in range(50):\n",
    "  x = np.dot(x, P)\n",
    "  print(\"step:\" + str(i+1) + \"\\t\" + str(x))\n",
    "  stateHist = np.append(stateHist, x, axis=0)\n",
    "  dfDistrHist = pd.DataFrame(stateHist)"
   ]
  },
  {
   "cell_type": "code",
   "execution_count": 26,
   "metadata": {
    "cell_style": "split",
    "slideshow": {
     "slide_type": "fragment"
    }
   },
   "outputs": [
    {
     "data": {
      "image/png": "[encoded data removed]",
      "text/plain": [
       "<Figure size 432x288 with 1 Axes>"
      ]
     },
     "metadata": {
      "needs_background": "light"
     },
     "output_type": "display_data"
    }
   ],
   "source": [
    "dfDistrHist.plot()\n",
    "pyplot.show()"
   ]
  },
  {
   "cell_type": "markdown",
   "metadata": {
    "slideshow": {
     "slide_type": "slide"
    }
   },
   "source": [
    "## (Informal/Intuitive) Questions"
   ]
  },
  {
   "cell_type": "markdown",
   "metadata": {
    "slideshow": {
     "slide_type": "fragment"
    }
   },
   "source": [
    "1. How can you get uniform distibution? You can modify initial distribution $\\mu$ for each example."
   ]
  },
  {
   "cell_type": "markdown",
   "metadata": {
    "slideshow": {
     "slide_type": "fragment"
    }
   },
   "source": [
    "2. How can you get uniform distibution? You can modify only one row of transition matrix."
   ]
  },
  {
   "cell_type": "markdown",
   "metadata": {
    "slideshow": {
     "slide_type": "fragment"
    }
   },
   "source": [
    "3. Every plot seems to be constant from some point. How can you measure distance between the distrinution at time $n$ and its \"stationary distribution\"?"
   ]
  },
  {
   "cell_type": "markdown",
   "metadata": {
    "slideshow": {
     "slide_type": "fragment"
    }
   },
   "source": [
    "4. How would you define stationary distribution? The process is defined by its transition matrix $P$ but it can have any initial distribution $\\mu$."
   ]
  }
 ],
 "metadata": {
  "celltoolbar": "Slideshow",
  "colab": {
   "collapsed_sections": [],
   "include_colab_link": true,
   "name": "randomWalk1.ipynb",
   "provenance": [],
   "toc_visible": true
  },
  "kernelspec": {
   "display_name": "Python 3",
   "language": "python",
   "name": "python3"
  },
  "language_info": {
   "codemirror_mode": {
    "name": "ipython",
    "version": 3
   },
   "file_extension": ".py",
   "mimetype": "text/x-python",
   "name": "python",
   "nbconvert_exporter": "python",
   "pygments_lexer": "ipython3",
   "version": "3.7.6"
  },
  "rise": {
   "height": "90%",
   "width": "90%"
  }
 },
 "nbformat": 4,
 "nbformat_minor": 1
}
