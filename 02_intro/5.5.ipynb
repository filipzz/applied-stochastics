{
 "cells": [
  {
   "cell_type": "markdown",
   "metadata": {},
   "source": [
    "$G'(x) = G(x) \\oplus 1^n$\n",
    "\n",
    "$G:\\{0, 1\\}^s \\rightarrow \\{0, 1\\}^n$"
   ]
  },
  {
   "cell_type": "markdown",
   "metadata": {},
   "source": [
    "Let us define $\\epsilon(A, G)$ as: $$\\epsilon(A, G)=|P_{x \\leftarrow \\{0,1\\}^s}[A(G(x)) = 1] - P_{y \\leftarrow \\{0,1\\}^n}[A(y)=1]| = |P_{x \\leftarrow \\{0,1\\}^s, y=G(x)}[A(y) =1] - P_{y \\leftarrow \\{0,1\\}^n}[A(y)=1]|$$"
   ]
  },
  {
   "cell_type": "markdown",
   "metadata": {},
   "source": [
    "* If $\\epsilon(A, G)$ is **negligible** for all PPT $A$ then **$G$ is pseudorandom**.\n",
    "\n",
    "* If we can show that there exists an adversary $A$ such that $A$ runs in polynomial time and $\\epsilon(A, G)$ is **not negligible** then **$G$ is not pseudorandom**."
   ]
  },
  {
   "cell_type": "markdown",
   "metadata": {},
   "source": [
    "(Proof): Let us assume towards contradiction that \n",
    "\n",
    "* $G$ is pseudorandom while\n",
    "\n",
    "* $G'$ is not pseudorandom."
   ]
  },
  {
   "cell_type": "markdown",
   "metadata": {},
   "source": [
    "That means that there exists no PPT adversary who can distinguish $G$ from random. But there exists a PPT adversary $A$ that can distinguish $G'$ from random."
   ]
  },
  {
   "cell_type": "markdown",
   "metadata": {},
   "source": [
    "It means that $\\epsilon(A, G')$ is not negligible.\n",
    "\n",
    "Let us define an adversary $D$ (goal is to show that $D$ can distinguish $G$ from random)."
   ]
  },
  {
   "cell_type": "code",
   "execution_count": 2,
   "metadata": {},
   "outputs": [],
   "source": [
    "def D(y):\n",
    "    return A(y ^ \"1...1\")"
   ]
  },
  {
   "cell_type": "markdown",
   "metadata": {},
   "source": [
    "Let us compute the advantage $D$ on $G$:"
   ]
  },
  {
   "cell_type": "markdown",
   "metadata": {},
   "source": [
    "$\\epsilon(D, G) =|P_{x \\leftarrow \\{0,1\\}^s}[D(G(x)) = 1] - P_{y \\leftarrow \\{0,1\\}^n}[D(y)=1]|=$"
   ]
  },
  {
   "cell_type": "markdown",
   "metadata": {},
   "source": [
    "$=|P_{x \\leftarrow \\{0,1\\}^s}[A(G(x)\\oplus 1^n) = 1] - P_{y \\leftarrow \\{0,1\\}^n}[A(y \\oplus 1^n)=1]|=$"
   ]
  },
  {
   "cell_type": "markdown",
   "metadata": {},
   "source": [
    "$=|P_{x \\leftarrow \\{0,1\\}^s}[A(G'(x)) = 1] - P_{y \\leftarrow \\{0,1\\}^n}[A(y)=1]| = \\epsilon(A, G')$"
   ]
  },
  {
   "cell_type": "markdown",
   "metadata": {},
   "source": [
    "but $\\epsilon(A, G')$ is not negligible so it means that $\\epsilon(D, G)$ is not negligible as well.\n",
    "\n",
    "This means that $G$ is not be pseudorandom which contradicts our assumption."
   ]
  },
  {
   "cell_type": "markdown",
   "metadata": {},
   "source": [
    "So **$G'$ is pseudorandom**."
   ]
  },
  {
   "cell_type": "code",
   "execution_count": null,
   "metadata": {},
   "outputs": [],
   "source": []
  }
 ],
 "metadata": {
  "kernelspec": {
   "display_name": "Python 3",
   "language": "python",
   "name": "python3"
  },
  "language_info": {
   "codemirror_mode": {
    "name": "ipython",
    "version": 3
   },
   "file_extension": ".py",
   "mimetype": "text/x-python",
   "name": "python",
   "nbconvert_exporter": "python",
   "pygments_lexer": "ipython3",
   "version": "3.6.9"
  }
 },
 "nbformat": 4,
 "nbformat_minor": 2
}
