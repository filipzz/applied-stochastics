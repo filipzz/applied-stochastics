{
 "cells": [
  {
   "cell_type": "markdown",
   "metadata": {
    "slideshow": {
     "slide_type": "slide"
    }
   },
   "source": [
    "$G'(x) = G(0)$"
   ]
  },
  {
   "cell_type": "markdown",
   "metadata": {
    "slideshow": {
     "slide_type": "fragment"
    }
   },
   "source": [
    "$G:\\{0, 1\\}^s \\rightarrow \\{0, 1\\}^n$"
   ]
  },
  {
   "cell_type": "markdown",
   "metadata": {
    "slideshow": {
     "slide_type": "fragment"
    }
   },
   "source": [
    "Let us define $\\epsilon(A, G)$ as: $$\\epsilon(A, G)=|P_{x \\leftarrow \\{0,1\\}^s}[A(G(x)) = 1] - P_{y \\leftarrow \\{0,1\\}^n}[A(y)=1]| = |P_{x \\leftarrow \\{0,1\\}^s, y=G(x)}[A(y) =1] - P_{y \\leftarrow \\{0,1\\}^n}[A(y)=1]|$$"
   ]
  },
  {
   "cell_type": "markdown",
   "metadata": {
    "slideshow": {
     "slide_type": "fragment"
    }
   },
   "source": [
    "* If $\\epsilon(A, G)$ is **negligible** for all PPT $A$ then **$G$ is pseudorandom**.\n",
    "\n",
    "* If we can show that there exists an adversary $A$ such that $A$ runs in polynomial time and $\\epsilon(A, G)$ is **not negligible** then **$G$ is not pseudorandom**."
   ]
  },
  {
   "cell_type": "code",
   "execution_count": 7,
   "metadata": {
    "slideshow": {
     "slide_type": "fragment"
    }
   },
   "outputs": [],
   "source": [
    "def A(y):\n",
    "    if y == G(\"0...0\"):\n",
    "        return 0\n",
    "    else:\n",
    "        return 1"
   ]
  },
  {
   "cell_type": "markdown",
   "metadata": {
    "slideshow": {
     "slide_type": "fragment"
    }
   },
   "source": [
    "$\\epsilon(A, G') =|P_{x \\leftarrow \\{0,1\\}^s, y=G'(x)}[A(G(0\\ldots0)) =1] - P_{y \\leftarrow \\{0,1\\}^n}[A(y)=1]|=$"
   ]
  },
  {
   "cell_type": "markdown",
   "metadata": {
    "slideshow": {
     "slide_type": "fragment"
    }
   },
   "source": [
    "$|0 - P_{y \\leftarrow \\{0,1\\}^n}[A(y)=1]|=$"
   ]
  },
  {
   "cell_type": "markdown",
   "metadata": {},
   "source": [
    "but $y = G(0\\ldots0)$ only with probability $1/2^n$ when $y \\leftarrow \\{0,1\\}^n$ uniformly at random."
   ]
  },
  {
   "cell_type": "markdown",
   "metadata": {},
   "source": [
    "$|0 - (1 - \\frac{1}{2^n})|=1 - \\frac{1}{2^n}$"
   ]
  },
  {
   "cell_type": "markdown",
   "metadata": {},
   "source": [
    "So $G'$ is not pseudorandom."
   ]
  },
  {
   "cell_type": "code",
   "execution_count": null,
   "metadata": {},
   "outputs": [],
   "source": []
  }
 ],
 "metadata": {
  "celltoolbar": "Slideshow",
  "kernelspec": {
   "display_name": "Python 3",
   "language": "python",
   "name": "python3"
  },
  "language_info": {
   "codemirror_mode": {
    "name": "ipython",
    "version": 3
   },
   "file_extension": ".py",
   "mimetype": "text/x-python",
   "name": "python",
   "nbconvert_exporter": "python",
   "pygments_lexer": "ipython3",
   "version": "3.6.9"
  }
 },
 "nbformat": 4,
 "nbformat_minor": 2
}
